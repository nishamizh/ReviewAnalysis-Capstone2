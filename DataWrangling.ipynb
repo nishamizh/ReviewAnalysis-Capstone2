{
 "cells": [
  {
   "cell_type": "markdown",
   "id": "dc5513fb-47a4-4dfb-b46c-81105f5c95b2",
   "metadata": {},
   "source": [
    "Review Analysis of Amazon Dataset"
   ]
  },
  {
   "cell_type": "code",
   "execution_count": 10,
   "id": "5f8e39f6-f4af-4d4a-a7cc-3eaf78d8086e",
   "metadata": {},
   "outputs": [
    {
     "name": "stdout",
     "output_type": "stream",
     "text": [
      "Requirement already satisfied: nltk in /opt/homebrew/Caskroom/miniconda/base/lib/python3.12/site-packages (3.9.1)\n",
      "Requirement already satisfied: click in /opt/homebrew/Caskroom/miniconda/base/lib/python3.12/site-packages (from nltk) (8.1.8)\n",
      "Requirement already satisfied: joblib in /opt/homebrew/Caskroom/miniconda/base/lib/python3.12/site-packages (from nltk) (1.4.2)\n",
      "Requirement already satisfied: regex>=2021.8.3 in /opt/homebrew/Caskroom/miniconda/base/lib/python3.12/site-packages (from nltk) (2024.11.6)\n",
      "Requirement already satisfied: tqdm in /opt/homebrew/Caskroom/miniconda/base/lib/python3.12/site-packages (from nltk) (4.66.5)\n"
     ]
    }
   ],
   "source": [
    "!pip install nltk"
   ]
  },
  {
   "cell_type": "code",
   "execution_count": 2,
   "id": "750b3f33-3d22-4da3-a6dc-801d1a06c2c8",
   "metadata": {},
   "outputs": [
    {
     "name": "stderr",
     "output_type": "stream",
     "text": [
      "[nltk_data] Downloading package punkt to /Users/nisha/nltk_data...\n",
      "[nltk_data]   Package punkt is already up-to-date!\n"
     ]
    },
    {
     "data": {
      "text/plain": [
       "True"
      ]
     },
     "execution_count": 2,
     "metadata": {},
     "output_type": "execute_result"
    }
   ],
   "source": [
    "import pandas as pd\n",
    "import numpy as np\n",
    "import matplotlib.pyplot as plt\n",
    "import seaborn as sns\n",
    "import re\n",
    "\n",
    "from nltk.tokenize import word_tokenize\n",
    "import nltk\n",
    "nltk.download('punkt')"
   ]
  },
  {
   "cell_type": "code",
   "execution_count": 14,
   "id": "0edbafc8-e258-45b4-b1d0-461bca63e282",
   "metadata": {},
   "outputs": [
    {
     "name": "stderr",
     "output_type": "stream",
     "text": [
      "[nltk_data] Downloading package punkt_tab to /Users/nisha/nltk_data...\n",
      "[nltk_data]   Package punkt_tab is already up-to-date!\n"
     ]
    },
    {
     "data": {
      "text/plain": [
       "True"
      ]
     },
     "execution_count": 14,
     "metadata": {},
     "output_type": "execute_result"
    }
   ],
   "source": [
    "nltk.download('punkt_tab')"
   ]
  },
  {
   "cell_type": "code",
   "execution_count": 3,
   "id": "6942ab9b-0026-4667-9f00-ec9c234d317f",
   "metadata": {},
   "outputs": [],
   "source": [
    "df = pd.read_csv('amazon_review_full_csv/train.csv', delimiter=',', header=None)"
   ]
  },
  {
   "cell_type": "code",
   "execution_count": 4,
   "id": "794a4085-74c5-450b-9884-e3e83d26b1c8",
   "metadata": {},
   "outputs": [
    {
     "data": {
      "text/html": [
       "<div>\n",
       "<style scoped>\n",
       "    .dataframe tbody tr th:only-of-type {\n",
       "        vertical-align: middle;\n",
       "    }\n",
       "\n",
       "    .dataframe tbody tr th {\n",
       "        vertical-align: top;\n",
       "    }\n",
       "\n",
       "    .dataframe thead th {\n",
       "        text-align: right;\n",
       "    }\n",
       "</style>\n",
       "<table border=\"1\" class=\"dataframe\">\n",
       "  <thead>\n",
       "    <tr style=\"text-align: right;\">\n",
       "      <th></th>\n",
       "      <th>0</th>\n",
       "      <th>1</th>\n",
       "      <th>2</th>\n",
       "    </tr>\n",
       "  </thead>\n",
       "  <tbody>\n",
       "    <tr>\n",
       "      <th>0</th>\n",
       "      <td>3</td>\n",
       "      <td>more like funchuck</td>\n",
       "      <td>Gave this to my dad for a gag gift after direc...</td>\n",
       "    </tr>\n",
       "    <tr>\n",
       "      <th>1</th>\n",
       "      <td>5</td>\n",
       "      <td>Inspiring</td>\n",
       "      <td>I hope a lot of people hear this cd. We need m...</td>\n",
       "    </tr>\n",
       "    <tr>\n",
       "      <th>2</th>\n",
       "      <td>5</td>\n",
       "      <td>The best soundtrack ever to anything.</td>\n",
       "      <td>I'm reading a lot of reviews saying that this ...</td>\n",
       "    </tr>\n",
       "    <tr>\n",
       "      <th>3</th>\n",
       "      <td>4</td>\n",
       "      <td>Chrono Cross OST</td>\n",
       "      <td>The music of Yasunori Misuda is without questi...</td>\n",
       "    </tr>\n",
       "    <tr>\n",
       "      <th>4</th>\n",
       "      <td>5</td>\n",
       "      <td>Too good to be true</td>\n",
       "      <td>Probably the greatest soundtrack in history! U...</td>\n",
       "    </tr>\n",
       "  </tbody>\n",
       "</table>\n",
       "</div>"
      ],
      "text/plain": [
       "   0                                      1  \\\n",
       "0  3                     more like funchuck   \n",
       "1  5                              Inspiring   \n",
       "2  5  The best soundtrack ever to anything.   \n",
       "3  4                       Chrono Cross OST   \n",
       "4  5                    Too good to be true   \n",
       "\n",
       "                                                   2  \n",
       "0  Gave this to my dad for a gag gift after direc...  \n",
       "1  I hope a lot of people hear this cd. We need m...  \n",
       "2  I'm reading a lot of reviews saying that this ...  \n",
       "3  The music of Yasunori Misuda is without questi...  \n",
       "4  Probably the greatest soundtrack in history! U...  "
      ]
     },
     "execution_count": 4,
     "metadata": {},
     "output_type": "execute_result"
    }
   ],
   "source": [
    "df.head()"
   ]
  },
  {
   "cell_type": "code",
   "execution_count": 6,
   "id": "eeef6212-e231-45c6-8794-a663733f11a9",
   "metadata": {},
   "outputs": [],
   "source": [
    "df.columns = ['Rating',\"Review_Title\", \"Review\"]"
   ]
  },
  {
   "cell_type": "code",
   "execution_count": 7,
   "id": "7b21373d-2fa6-4752-a65a-680e0b6db8da",
   "metadata": {},
   "outputs": [
    {
     "data": {
      "text/plain": [
       "(3000000, 3)"
      ]
     },
     "execution_count": 7,
     "metadata": {},
     "output_type": "execute_result"
    }
   ],
   "source": [
    "df.shape"
   ]
  },
  {
   "cell_type": "code",
   "execution_count": 8,
   "id": "9545d77c-6194-46f3-b02a-05f99b9ed92a",
   "metadata": {},
   "outputs": [
    {
     "data": {
      "text/html": [
       "<div>\n",
       "<style scoped>\n",
       "    .dataframe tbody tr th:only-of-type {\n",
       "        vertical-align: middle;\n",
       "    }\n",
       "\n",
       "    .dataframe tbody tr th {\n",
       "        vertical-align: top;\n",
       "    }\n",
       "\n",
       "    .dataframe thead th {\n",
       "        text-align: right;\n",
       "    }\n",
       "</style>\n",
       "<table border=\"1\" class=\"dataframe\">\n",
       "  <thead>\n",
       "    <tr style=\"text-align: right;\">\n",
       "      <th></th>\n",
       "      <th>Rating</th>\n",
       "      <th>Review_Title</th>\n",
       "      <th>Review</th>\n",
       "    </tr>\n",
       "  </thead>\n",
       "  <tbody>\n",
       "    <tr>\n",
       "      <th>0</th>\n",
       "      <td>3</td>\n",
       "      <td>more like funchuck</td>\n",
       "      <td>Gave this to my dad for a gag gift after direc...</td>\n",
       "    </tr>\n",
       "    <tr>\n",
       "      <th>1</th>\n",
       "      <td>5</td>\n",
       "      <td>Inspiring</td>\n",
       "      <td>I hope a lot of people hear this cd. We need m...</td>\n",
       "    </tr>\n",
       "    <tr>\n",
       "      <th>2</th>\n",
       "      <td>5</td>\n",
       "      <td>The best soundtrack ever to anything.</td>\n",
       "      <td>I'm reading a lot of reviews saying that this ...</td>\n",
       "    </tr>\n",
       "    <tr>\n",
       "      <th>3</th>\n",
       "      <td>4</td>\n",
       "      <td>Chrono Cross OST</td>\n",
       "      <td>The music of Yasunori Misuda is without questi...</td>\n",
       "    </tr>\n",
       "    <tr>\n",
       "      <th>4</th>\n",
       "      <td>5</td>\n",
       "      <td>Too good to be true</td>\n",
       "      <td>Probably the greatest soundtrack in history! U...</td>\n",
       "    </tr>\n",
       "  </tbody>\n",
       "</table>\n",
       "</div>"
      ],
      "text/plain": [
       "   Rating                           Review_Title  \\\n",
       "0       3                     more like funchuck   \n",
       "1       5                              Inspiring   \n",
       "2       5  The best soundtrack ever to anything.   \n",
       "3       4                       Chrono Cross OST   \n",
       "4       5                    Too good to be true   \n",
       "\n",
       "                                              Review  \n",
       "0  Gave this to my dad for a gag gift after direc...  \n",
       "1  I hope a lot of people hear this cd. We need m...  \n",
       "2  I'm reading a lot of reviews saying that this ...  \n",
       "3  The music of Yasunori Misuda is without questi...  \n",
       "4  Probably the greatest soundtrack in history! U...  "
      ]
     },
     "execution_count": 8,
     "metadata": {},
     "output_type": "execute_result"
    }
   ],
   "source": [
    "df.head()"
   ]
  },
  {
   "cell_type": "markdown",
   "id": "c4863146-684d-416d-9d7d-1bf772ae9442",
   "metadata": {},
   "source": [
    "<h1>DATA WRANGLING</h1>"
   ]
  },
  {
   "cell_type": "markdown",
   "id": "0c5b4032-2d65-4914-8c8f-f2011a9725e0",
   "metadata": {},
   "source": [
    "# 1. Check for missing values"
   ]
  },
  {
   "cell_type": "code",
   "execution_count": 9,
   "id": "5206684b-c914-46a3-9b78-8094c065fa6d",
   "metadata": {},
   "outputs": [
    {
     "data": {
      "text/plain": [
       "Rating          0.000000\n",
       "Review_Title    0.006267\n",
       "Review          0.000000\n",
       "dtype: float64"
      ]
     },
     "execution_count": 9,
     "metadata": {},
     "output_type": "execute_result"
    }
   ],
   "source": [
    "df.isnull().mean()*100"
   ]
  },
  {
   "cell_type": "code",
   "execution_count": 10,
   "id": "8f8e8042-e1a8-4f7b-95d6-b79160123a31",
   "metadata": {},
   "outputs": [
    {
     "data": {
      "text/plain": [
       "Rating            0\n",
       "Review_Title    188\n",
       "Review            0\n",
       "dtype: int64"
      ]
     },
     "execution_count": 10,
     "metadata": {},
     "output_type": "execute_result"
    }
   ],
   "source": [
    "df.isnull().sum()"
   ]
  },
  {
   "cell_type": "markdown",
   "id": "574a649a-cc34-46b6-b139-509309979b8d",
   "metadata": {},
   "source": [
    "# Out of 3000000, there are 188 missing values , Since the missing values are in title, it may not make difference in finding the analysis, so this can be ignored."
   ]
  },
  {
   "cell_type": "code",
   "execution_count": null,
   "id": "b5afa26e-bd7e-41a3-9022-5f500185ac2e",
   "metadata": {},
   "outputs": [],
   "source": []
  },
  {
   "cell_type": "markdown",
   "id": "638be986-85a0-4454-a52b-980b8512904c",
   "metadata": {},
   "source": [
    "# 2. Checking DataTyes are correct."
   ]
  },
  {
   "cell_type": "code",
   "execution_count": 11,
   "id": "e304dd55-5355-42a0-8cc1-8bfcf7195e2a",
   "metadata": {},
   "outputs": [
    {
     "name": "stdout",
     "output_type": "stream",
     "text": [
      "Rating           int64\n",
      "Review_Title    object\n",
      "Review          object\n",
      "dtype: object\n"
     ]
    }
   ],
   "source": [
    "data_types = df.dtypes\n",
    "print(data_types)"
   ]
  },
  {
   "cell_type": "code",
   "execution_count": 12,
   "id": "f54763ff-0bf5-4dc3-8f72-7c3787a48322",
   "metadata": {},
   "outputs": [],
   "source": [
    "# converting the Columns to appropriate dataType for Review_Title and Review\n",
    "df[\"Review_Title\"] = df[\"Review_Title\"].astype(str)\n",
    "df[\"Review\"] = df[\"Review\"].astype(str)"
   ]
  },
  {
   "cell_type": "code",
   "execution_count": 13,
   "id": "83f86e0d-4580-42be-8183-13b26a33bdbb",
   "metadata": {},
   "outputs": [
    {
     "name": "stdout",
     "output_type": "stream",
     "text": [
      "<class 'pandas.core.frame.DataFrame'>\n",
      "RangeIndex: 3000000 entries, 0 to 2999999\n",
      "Data columns (total 3 columns):\n",
      " #   Column        Dtype \n",
      "---  ------        ----- \n",
      " 0   Rating        int64 \n",
      " 1   Review_Title  object\n",
      " 2   Review        object\n",
      "dtypes: int64(1), object(2)\n",
      "memory usage: 68.7+ MB\n"
     ]
    }
   ],
   "source": [
    "df.info()"
   ]
  },
  {
   "cell_type": "code",
   "execution_count": 14,
   "id": "197d01dc-8540-4dd3-b68a-bf79038fd85e",
   "metadata": {},
   "outputs": [],
   "source": [
    "df['Review_Title'] = df['Review_Title'].astype(str)\n",
    "df[\"Review\"] = df[\"Review\"].astype(str)"
   ]
  },
  {
   "cell_type": "code",
   "execution_count": 15,
   "id": "51c79898-8a34-4988-9702-08b460b5250a",
   "metadata": {},
   "outputs": [
    {
     "data": {
      "text/plain": [
       "Rating           int64\n",
       "Review_Title    object\n",
       "Review          object\n",
       "dtype: object"
      ]
     },
     "execution_count": 15,
     "metadata": {},
     "output_type": "execute_result"
    }
   ],
   "source": [
    "df.dtypes"
   ]
  },
  {
   "cell_type": "code",
   "execution_count": 16,
   "id": "1faacdcc-3c74-484d-864c-d08724624653",
   "metadata": {},
   "outputs": [
    {
     "name": "stdout",
     "output_type": "stream",
     "text": [
      "<class 'str'>\n",
      "<class 'str'>\n"
     ]
    }
   ],
   "source": [
    "print(type(df['Review_Title'][0]))  # Should print <class 'str'>\n",
    "print(type(df['Review'][0]))        # Should print <class 'str'>"
   ]
  },
  {
   "cell_type": "code",
   "execution_count": 17,
   "id": "d077f930-1b64-47a2-b346-11a055ba9d47",
   "metadata": {},
   "outputs": [
    {
     "name": "stdout",
     "output_type": "stream",
     "text": [
      "Empty DataFrame\n",
      "Columns: [Rating, Review_Title, Review]\n",
      "Index: []\n"
     ]
    }
   ],
   "source": [
    "# checking Duplicate values\n",
    "\n",
    "duplicated = df[df.duplicated()]\n",
    "print(duplicated)"
   ]
  },
  {
   "cell_type": "code",
   "execution_count": 18,
   "id": "3950d81c-d8a5-4904-ad31-8b2b8c173f35",
   "metadata": {},
   "outputs": [],
   "source": [
    "# There are no Duplicate Reviews"
   ]
  },
  {
   "cell_type": "code",
   "execution_count": 19,
   "id": "dcad2eeb-16e1-4edf-8c5c-eaa84ca167ad",
   "metadata": {},
   "outputs": [],
   "source": [
    "# Checking Duplicates based on specific column\n",
    "dup1 = df[df.duplicated(subset=['Rating','Review_Title'])]\n",
    "dup2 = df[df.duplicated(subset=['Rating','Review'])]"
   ]
  },
  {
   "cell_type": "code",
   "execution_count": 20,
   "id": "bddd7d1d-55a1-416c-b4cf-c5a648db566c",
   "metadata": {},
   "outputs": [
    {
     "data": {
      "text/html": [
       "<div>\n",
       "<style scoped>\n",
       "    .dataframe tbody tr th:only-of-type {\n",
       "        vertical-align: middle;\n",
       "    }\n",
       "\n",
       "    .dataframe tbody tr th {\n",
       "        vertical-align: top;\n",
       "    }\n",
       "\n",
       "    .dataframe thead th {\n",
       "        text-align: right;\n",
       "    }\n",
       "</style>\n",
       "<table border=\"1\" class=\"dataframe\">\n",
       "  <thead>\n",
       "    <tr style=\"text-align: right;\">\n",
       "      <th></th>\n",
       "      <th>Rating</th>\n",
       "      <th>Review_Title</th>\n",
       "      <th>Review</th>\n",
       "    </tr>\n",
       "  </thead>\n",
       "  <tbody>\n",
       "    <tr>\n",
       "      <th>858263</th>\n",
       "      <td>3</td>\n",
       "      <td>!</td>\n",
       "      <td>Our Lady Of Weight Loss has Miraculous and Mot...</td>\n",
       "    </tr>\n",
       "    <tr>\n",
       "      <th>1250365</th>\n",
       "      <td>5</td>\n",
       "      <td>!</td>\n",
       "      <td>This is an incredibly well-researched, well-wr...</td>\n",
       "    </tr>\n",
       "    <tr>\n",
       "      <th>1126169</th>\n",
       "      <td>5</td>\n",
       "      <td>!</td>\n",
       "      <td>This product is awesome! I have friends who ha...</td>\n",
       "    </tr>\n",
       "    <tr>\n",
       "      <th>1818343</th>\n",
       "      <td>4</td>\n",
       "      <td>!</td>\n",
       "      <td>The ZZ Top cover is worth the entrance fee alo...</td>\n",
       "    </tr>\n",
       "    <tr>\n",
       "      <th>2060684</th>\n",
       "      <td>4</td>\n",
       "      <td>!</td>\n",
       "      <td>Book arrived in stated condition and prior to ...</td>\n",
       "    </tr>\n",
       "    <tr>\n",
       "      <th>...</th>\n",
       "      <td>...</td>\n",
       "      <td>...</td>\n",
       "      <td>...</td>\n",
       "    </tr>\n",
       "    <tr>\n",
       "      <th>1301070</th>\n",
       "      <td>2</td>\n",
       "      <td>zzzzzzzzzzzzzzzzzzzzzz</td>\n",
       "      <td>I bought this book as a text required for a cl...</td>\n",
       "    </tr>\n",
       "    <tr>\n",
       "      <th>2280312</th>\n",
       "      <td>4</td>\n",
       "      <td>~</td>\n",
       "      <td>Good product. Pads that came with it are crap ...</td>\n",
       "    </tr>\n",
       "    <tr>\n",
       "      <th>2817352</th>\n",
       "      <td>5</td>\n",
       "      <td>~</td>\n",
       "      <td>I'm not an avid anime fan, but my friend is. S...</td>\n",
       "    </tr>\n",
       "    <tr>\n",
       "      <th>2456111</th>\n",
       "      <td>1</td>\n",
       "      <td>¡Decepcionante!</td>\n",
       "      <td>Aunque el desempeño de la orquesta es excelent...</td>\n",
       "    </tr>\n",
       "    <tr>\n",
       "      <th>2510601</th>\n",
       "      <td>5</td>\n",
       "      <td>¡Excelente!</td>\n",
       "      <td>Esta es una verdadera joya del jazz. Muy varia...</td>\n",
       "    </tr>\n",
       "  </tbody>\n",
       "</table>\n",
       "<p>632930 rows × 3 columns</p>\n",
       "</div>"
      ],
      "text/plain": [
       "         Rating            Review_Title  \\\n",
       "858263        3                       !   \n",
       "1250365       5                       !   \n",
       "1126169       5                       !   \n",
       "1818343       4                       !   \n",
       "2060684       4                       !   \n",
       "...         ...                     ...   \n",
       "1301070       2  zzzzzzzzzzzzzzzzzzzzzz   \n",
       "2280312       4                       ~   \n",
       "2817352       5                       ~   \n",
       "2456111       1         ¡Decepcionante!   \n",
       "2510601       5             ¡Excelente!   \n",
       "\n",
       "                                                    Review  \n",
       "858263   Our Lady Of Weight Loss has Miraculous and Mot...  \n",
       "1250365  This is an incredibly well-researched, well-wr...  \n",
       "1126169  This product is awesome! I have friends who ha...  \n",
       "1818343  The ZZ Top cover is worth the entrance fee alo...  \n",
       "2060684  Book arrived in stated condition and prior to ...  \n",
       "...                                                    ...  \n",
       "1301070  I bought this book as a text required for a cl...  \n",
       "2280312  Good product. Pads that came with it are crap ...  \n",
       "2817352  I'm not an avid anime fan, but my friend is. S...  \n",
       "2456111  Aunque el desempeño de la orquesta es excelent...  \n",
       "2510601  Esta es una verdadera joya del jazz. Muy varia...  \n",
       "\n",
       "[632930 rows x 3 columns]"
      ]
     },
     "execution_count": 20,
     "metadata": {},
     "output_type": "execute_result"
    }
   ],
   "source": [
    "dup1.sort_values(by='Review_Title')"
   ]
  },
  {
   "cell_type": "code",
   "execution_count": 21,
   "id": "301b80f4-6d58-4764-a84d-05928d0d1329",
   "metadata": {},
   "outputs": [
    {
     "data": {
      "text/html": [
       "<div>\n",
       "<style scoped>\n",
       "    .dataframe tbody tr th:only-of-type {\n",
       "        vertical-align: middle;\n",
       "    }\n",
       "\n",
       "    .dataframe tbody tr th {\n",
       "        vertical-align: top;\n",
       "    }\n",
       "\n",
       "    .dataframe thead th {\n",
       "        text-align: right;\n",
       "    }\n",
       "</style>\n",
       "<table border=\"1\" class=\"dataframe\">\n",
       "  <thead>\n",
       "    <tr style=\"text-align: right;\">\n",
       "      <th></th>\n",
       "      <th>Rating</th>\n",
       "      <th>Review_Title</th>\n",
       "      <th>Review</th>\n",
       "      <th>Duplicate_Count</th>\n",
       "    </tr>\n",
       "  </thead>\n",
       "  <tbody>\n",
       "    <tr>\n",
       "      <th>0</th>\n",
       "      <td>1</td>\n",
       "      <td>!</td>\n",
       "      <td>This book is completely out of date. The probl...</td>\n",
       "      <td>1</td>\n",
       "    </tr>\n",
       "    <tr>\n",
       "      <th>1999993</th>\n",
       "      <td>4</td>\n",
       "      <td>Good read on fiction not not-fiction accounts</td>\n",
       "      <td>If this were a real story, WOW, but alas it is...</td>\n",
       "      <td>1</td>\n",
       "    </tr>\n",
       "    <tr>\n",
       "      <th>1999995</th>\n",
       "      <td>4</td>\n",
       "      <td>Good read on the strength of teamwork and working</td>\n",
       "      <td>together toward a common goal. Nice reference ...</td>\n",
       "      <td>1</td>\n",
       "    </tr>\n",
       "    <tr>\n",
       "      <th>1999996</th>\n",
       "      <td>4</td>\n",
       "      <td>Good read overall</td>\n",
       "      <td>Overall this was a good book. It was a very ea...</td>\n",
       "      <td>1</td>\n",
       "    </tr>\n",
       "    <tr>\n",
       "      <th>1999997</th>\n",
       "      <td>4</td>\n",
       "      <td>Good read that encourages the reader to think</td>\n",
       "      <td>Generally well written story - with the except...</td>\n",
       "      <td>1</td>\n",
       "    </tr>\n",
       "    <tr>\n",
       "      <th>...</th>\n",
       "      <td>...</td>\n",
       "      <td>...</td>\n",
       "      <td>...</td>\n",
       "      <td>...</td>\n",
       "    </tr>\n",
       "    <tr>\n",
       "      <th>1000001</th>\n",
       "      <td>2</td>\n",
       "      <td>Shotgun Wedding</td>\n",
       "      <td>Problem here is that it isn't Barber's book. C...</td>\n",
       "      <td>1</td>\n",
       "    </tr>\n",
       "    <tr>\n",
       "      <th>1000002</th>\n",
       "      <td>2</td>\n",
       "      <td>Shotgun stock kit</td>\n",
       "      <td>It was very difficult to install. It was not l...</td>\n",
       "      <td>1</td>\n",
       "    </tr>\n",
       "    <tr>\n",
       "      <th>1000003</th>\n",
       "      <td>2</td>\n",
       "      <td>Shotgun writing style didn't work for me</td>\n",
       "      <td>If I had to sum this book up in one word, it w...</td>\n",
       "      <td>1</td>\n",
       "    </tr>\n",
       "    <tr>\n",
       "      <th>1000004</th>\n",
       "      <td>2</td>\n",
       "      <td>Shots are too distant, but okay for watching w...</td>\n",
       "      <td>If you are looking for an exercise video that ...</td>\n",
       "      <td>1</td>\n",
       "    </tr>\n",
       "    <tr>\n",
       "      <th>2999999</th>\n",
       "      <td>5</td>\n",
       "      <td>αγγελος</td>\n",
       "      <td>ειναι πολυ καλο. το φορτιγακη παει πολυ καλυτε...</td>\n",
       "      <td>1</td>\n",
       "    </tr>\n",
       "  </tbody>\n",
       "</table>\n",
       "<p>3000000 rows × 4 columns</p>\n",
       "</div>"
      ],
      "text/plain": [
       "         Rating                                       Review_Title  \\\n",
       "0             1                                                  !   \n",
       "1999993       4      Good read on fiction not not-fiction accounts   \n",
       "1999995       4  Good read on the strength of teamwork and working   \n",
       "1999996       4                                  Good read overall   \n",
       "1999997       4      Good read that encourages the reader to think   \n",
       "...         ...                                                ...   \n",
       "1000001       2                                    Shotgun Wedding   \n",
       "1000002       2                                  Shotgun stock kit   \n",
       "1000003       2           Shotgun writing style didn't work for me   \n",
       "1000004       2  Shots are too distant, but okay for watching w...   \n",
       "2999999       5                                            αγγελος   \n",
       "\n",
       "                                                    Review  Duplicate_Count  \n",
       "0        This book is completely out of date. The probl...                1  \n",
       "1999993  If this were a real story, WOW, but alas it is...                1  \n",
       "1999995  together toward a common goal. Nice reference ...                1  \n",
       "1999996  Overall this was a good book. It was a very ea...                1  \n",
       "1999997  Generally well written story - with the except...                1  \n",
       "...                                                    ...              ...  \n",
       "1000001  Problem here is that it isn't Barber's book. C...                1  \n",
       "1000002  It was very difficult to install. It was not l...                1  \n",
       "1000003  If I had to sum this book up in one word, it w...                1  \n",
       "1000004  If you are looking for an exercise video that ...                1  \n",
       "2999999  ειναι πολυ καλο. το φορτιγακη παει πολυ καλυτε...                1  \n",
       "\n",
       "[3000000 rows x 4 columns]"
      ]
     },
     "execution_count": 21,
     "metadata": {},
     "output_type": "execute_result"
    }
   ],
   "source": [
    "df.groupby(df.columns.tolist()).size().reset_index(name='Duplicate_Count').sort_values(by='Duplicate_Count', ascending=False)"
   ]
  },
  {
   "cell_type": "code",
   "execution_count": 22,
   "id": "a9b59432-38a3-4fe7-9dc9-5e4100222af3",
   "metadata": {},
   "outputs": [
    {
     "data": {
      "text/html": [
       "<div>\n",
       "<style scoped>\n",
       "    .dataframe tbody tr th:only-of-type {\n",
       "        vertical-align: middle;\n",
       "    }\n",
       "\n",
       "    .dataframe tbody tr th {\n",
       "        vertical-align: top;\n",
       "    }\n",
       "\n",
       "    .dataframe thead th {\n",
       "        text-align: right;\n",
       "    }\n",
       "</style>\n",
       "<table border=\"1\" class=\"dataframe\">\n",
       "  <thead>\n",
       "    <tr style=\"text-align: right;\">\n",
       "      <th></th>\n",
       "      <th>Rating</th>\n",
       "      <th>Review_Title</th>\n",
       "      <th>Review</th>\n",
       "    </tr>\n",
       "  </thead>\n",
       "  <tbody>\n",
       "  </tbody>\n",
       "</table>\n",
       "</div>"
      ],
      "text/plain": [
       "Empty DataFrame\n",
       "Columns: [Rating, Review_Title, Review]\n",
       "Index: []"
      ]
     },
     "execution_count": 22,
     "metadata": {},
     "output_type": "execute_result"
    }
   ],
   "source": [
    "df[df['Review_Title']=='3 books on learning frontpage 2003']"
   ]
  },
  {
   "cell_type": "code",
   "execution_count": 23,
   "id": "d613fed0-082b-4ad6-a472-b956aac21431",
   "metadata": {},
   "outputs": [
    {
     "name": "stdout",
     "output_type": "stream",
     "text": [
      "         Rating     Review_Title  \\\n",
      "95            2     Not the best   \n",
      "103           1  I got fooled...   \n",
      "202           2    Disappointing   \n",
      "297           3   Mixed feelings   \n",
      "555           2     disappointed   \n",
      "...         ...              ...   \n",
      "2999986       3       Incomplete   \n",
      "2999987       2  Not the Best...   \n",
      "2999992       2   Too simplistic   \n",
      "2999995       1    Don't do it!!   \n",
      "2999998       3   Hard to clean!   \n",
      "\n",
      "                                                    Review  \n",
      "95       I agree, the CDs are a much needed help, since...  \n",
      "103      I did not know this was the audio cd of the ga...  \n",
      "202      I bought this book because I am a nonogram (al...  \n",
      "297      Some beautiful scenery early on and nice roman...  \n",
      "555      I think this is a case of my expectations bein...  \n",
      "...                                                    ...  \n",
      "2999986  The three films in this set are excellent, abs...  \n",
      "2999987  I bought this CD expecting it to be the same t...  \n",
      "2999992  While Mr. Harrison makes some extremely valid ...  \n",
      "2999995  The high chair looks great when it first comes...  \n",
      "2999998  I agree with everyone else who says this chair...  \n",
      "\n",
      "[632930 rows x 3 columns]\n"
     ]
    }
   ],
   "source": [
    "print(dup1)"
   ]
  },
  {
   "cell_type": "code",
   "execution_count": 24,
   "id": "c9f00098-3787-4d42-9bfe-c8cb5b6c8d16",
   "metadata": {},
   "outputs": [
    {
     "data": {
      "text/html": [
       "<div>\n",
       "<style scoped>\n",
       "    .dataframe tbody tr th:only-of-type {\n",
       "        vertical-align: middle;\n",
       "    }\n",
       "\n",
       "    .dataframe tbody tr th {\n",
       "        vertical-align: top;\n",
       "    }\n",
       "\n",
       "    .dataframe thead th {\n",
       "        text-align: right;\n",
       "    }\n",
       "</style>\n",
       "<table border=\"1\" class=\"dataframe\">\n",
       "  <thead>\n",
       "    <tr style=\"text-align: right;\">\n",
       "      <th></th>\n",
       "      <th>Rating</th>\n",
       "      <th>Review_Title</th>\n",
       "      <th>Review</th>\n",
       "    </tr>\n",
       "  </thead>\n",
       "  <tbody>\n",
       "    <tr>\n",
       "      <th>1072</th>\n",
       "      <td>1</td>\n",
       "      <td>Wouldn't stay up</td>\n",
       "      <td>The band was far too thin and would roll down ...</td>\n",
       "    </tr>\n",
       "    <tr>\n",
       "      <th>7002</th>\n",
       "      <td>2</td>\n",
       "      <td>lesson in the depravity of man</td>\n",
       "      <td>As I opened this book, I thought to myself \"Wo...</td>\n",
       "    </tr>\n",
       "    <tr>\n",
       "      <th>12273</th>\n",
       "      <td>3</td>\n",
       "      <td>Shows Its Age</td>\n",
       "      <td>Unfortunately, \"20,000 Leagues Under the Sea\" ...</td>\n",
       "    </tr>\n",
       "    <tr>\n",
       "      <th>15487</th>\n",
       "      <td>1</td>\n",
       "      <td>Dumb adaptation that does not try to be even r...</td>\n",
       "      <td>Lackluster adaptation of the vertigo comic boo...</td>\n",
       "    </tr>\n",
       "    <tr>\n",
       "      <th>15531</th>\n",
       "      <td>1</td>\n",
       "      <td>What a letdown.</td>\n",
       "      <td>Shameful attempt at a hybrid of horror, action...</td>\n",
       "    </tr>\n",
       "  </tbody>\n",
       "</table>\n",
       "</div>"
      ],
      "text/plain": [
       "       Rating                                       Review_Title  \\\n",
       "1072        1                                   Wouldn't stay up   \n",
       "7002        2                     lesson in the depravity of man   \n",
       "12273       3                                      Shows Its Age   \n",
       "15487       1  Dumb adaptation that does not try to be even r...   \n",
       "15531       1                                    What a letdown.   \n",
       "\n",
       "                                                  Review  \n",
       "1072   The band was far too thin and would roll down ...  \n",
       "7002   As I opened this book, I thought to myself \"Wo...  \n",
       "12273  Unfortunately, \"20,000 Leagues Under the Sea\" ...  \n",
       "15487  Lackluster adaptation of the vertigo comic boo...  \n",
       "15531  Shameful attempt at a hybrid of horror, action...  "
      ]
     },
     "execution_count": 24,
     "metadata": {},
     "output_type": "execute_result"
    }
   ],
   "source": [
    "dup2.head()"
   ]
  },
  {
   "cell_type": "code",
   "execution_count": 25,
   "id": "84271a12-686a-4904-b6ce-4d9ec1180375",
   "metadata": {},
   "outputs": [],
   "source": [
    "# doubt - are these duplicates ?"
   ]
  },
  {
   "cell_type": "markdown",
   "id": "691e0e4e-7297-42e1-aa71-ce669b695143",
   "metadata": {},
   "source": [
    "# DATA WRANGLING  - NLP"
   ]
  },
  {
   "cell_type": "code",
   "execution_count": 26,
   "id": "5cab2694-9595-447d-b1a5-5556c9a5e902",
   "metadata": {},
   "outputs": [
    {
     "data": {
      "text/plain": [
       "Rating\n",
       "3    600000\n",
       "5    600000\n",
       "4    600000\n",
       "1    600000\n",
       "2    600000\n",
       "Name: count, dtype: int64"
      ]
     },
     "execution_count": 26,
     "metadata": {},
     "output_type": "execute_result"
    }
   ],
   "source": [
    "df.Rating.value_counts()"
   ]
  },
  {
   "cell_type": "code",
   "execution_count": 27,
   "id": "1c4e78e2-ec92-4817-bf96-02e49e9b079b",
   "metadata": {},
   "outputs": [
    {
     "data": {
      "text/html": [
       "<div>\n",
       "<style scoped>\n",
       "    .dataframe tbody tr th:only-of-type {\n",
       "        vertical-align: middle;\n",
       "    }\n",
       "\n",
       "    .dataframe tbody tr th {\n",
       "        vertical-align: top;\n",
       "    }\n",
       "\n",
       "    .dataframe thead th {\n",
       "        text-align: right;\n",
       "    }\n",
       "</style>\n",
       "<table border=\"1\" class=\"dataframe\">\n",
       "  <thead>\n",
       "    <tr style=\"text-align: right;\">\n",
       "      <th></th>\n",
       "      <th>Rating</th>\n",
       "      <th>Review_Title</th>\n",
       "      <th>Review</th>\n",
       "    </tr>\n",
       "  </thead>\n",
       "  <tbody>\n",
       "    <tr>\n",
       "      <th>0</th>\n",
       "      <td>3</td>\n",
       "      <td>more like funchuck</td>\n",
       "      <td>Gave this to my dad for a gag gift after direc...</td>\n",
       "    </tr>\n",
       "    <tr>\n",
       "      <th>1</th>\n",
       "      <td>5</td>\n",
       "      <td>Inspiring</td>\n",
       "      <td>I hope a lot of people hear this cd. We need m...</td>\n",
       "    </tr>\n",
       "    <tr>\n",
       "      <th>2</th>\n",
       "      <td>5</td>\n",
       "      <td>The best soundtrack ever to anything.</td>\n",
       "      <td>I'm reading a lot of reviews saying that this ...</td>\n",
       "    </tr>\n",
       "    <tr>\n",
       "      <th>3</th>\n",
       "      <td>4</td>\n",
       "      <td>Chrono Cross OST</td>\n",
       "      <td>The music of Yasunori Misuda is without questi...</td>\n",
       "    </tr>\n",
       "    <tr>\n",
       "      <th>4</th>\n",
       "      <td>5</td>\n",
       "      <td>Too good to be true</td>\n",
       "      <td>Probably the greatest soundtrack in history! U...</td>\n",
       "    </tr>\n",
       "  </tbody>\n",
       "</table>\n",
       "</div>"
      ],
      "text/plain": [
       "   Rating                           Review_Title  \\\n",
       "0       3                     more like funchuck   \n",
       "1       5                              Inspiring   \n",
       "2       5  The best soundtrack ever to anything.   \n",
       "3       4                       Chrono Cross OST   \n",
       "4       5                    Too good to be true   \n",
       "\n",
       "                                              Review  \n",
       "0  Gave this to my dad for a gag gift after direc...  \n",
       "1  I hope a lot of people hear this cd. We need m...  \n",
       "2  I'm reading a lot of reviews saying that this ...  \n",
       "3  The music of Yasunori Misuda is without questi...  \n",
       "4  Probably the greatest soundtrack in history! U...  "
      ]
     },
     "execution_count": 27,
     "metadata": {},
     "output_type": "execute_result"
    }
   ],
   "source": [
    "df.head()"
   ]
  },
  {
   "cell_type": "code",
   "execution_count": 28,
   "id": "0ab4a0f4-43b4-4e2d-84d6-c98163fc62d8",
   "metadata": {},
   "outputs": [],
   "source": [
    "#1. Rule Based Labelling\n",
    "def rating_sentiment(rating):\n",
    "    if rating ==3:\n",
    "        return \"Neutral\"  \n",
    "    elif rating > 3:\n",
    "        return \"Positive\" \n",
    "    else:\n",
    "        return \"Negative\"\n",
    "    \n",
    "df[\"Rating_Sentiment\"] = df[\"Rating\"].apply(rating_sentiment)"
   ]
  },
  {
   "cell_type": "code",
   "execution_count": 29,
   "id": "b98e3191-72b1-4b64-b28b-84d0ceb3e562",
   "metadata": {},
   "outputs": [
    {
     "data": {
      "text/html": [
       "<div>\n",
       "<style scoped>\n",
       "    .dataframe tbody tr th:only-of-type {\n",
       "        vertical-align: middle;\n",
       "    }\n",
       "\n",
       "    .dataframe tbody tr th {\n",
       "        vertical-align: top;\n",
       "    }\n",
       "\n",
       "    .dataframe thead th {\n",
       "        text-align: right;\n",
       "    }\n",
       "</style>\n",
       "<table border=\"1\" class=\"dataframe\">\n",
       "  <thead>\n",
       "    <tr style=\"text-align: right;\">\n",
       "      <th></th>\n",
       "      <th>Rating</th>\n",
       "      <th>Review_Title</th>\n",
       "      <th>Review</th>\n",
       "      <th>Rating_Sentiment</th>\n",
       "    </tr>\n",
       "  </thead>\n",
       "  <tbody>\n",
       "    <tr>\n",
       "      <th>0</th>\n",
       "      <td>3</td>\n",
       "      <td>more like funchuck</td>\n",
       "      <td>Gave this to my dad for a gag gift after direc...</td>\n",
       "      <td>Neutral</td>\n",
       "    </tr>\n",
       "    <tr>\n",
       "      <th>1</th>\n",
       "      <td>5</td>\n",
       "      <td>Inspiring</td>\n",
       "      <td>I hope a lot of people hear this cd. We need m...</td>\n",
       "      <td>Positive</td>\n",
       "    </tr>\n",
       "    <tr>\n",
       "      <th>2</th>\n",
       "      <td>5</td>\n",
       "      <td>The best soundtrack ever to anything.</td>\n",
       "      <td>I'm reading a lot of reviews saying that this ...</td>\n",
       "      <td>Positive</td>\n",
       "    </tr>\n",
       "    <tr>\n",
       "      <th>3</th>\n",
       "      <td>4</td>\n",
       "      <td>Chrono Cross OST</td>\n",
       "      <td>The music of Yasunori Misuda is without questi...</td>\n",
       "      <td>Positive</td>\n",
       "    </tr>\n",
       "    <tr>\n",
       "      <th>4</th>\n",
       "      <td>5</td>\n",
       "      <td>Too good to be true</td>\n",
       "      <td>Probably the greatest soundtrack in history! U...</td>\n",
       "      <td>Positive</td>\n",
       "    </tr>\n",
       "  </tbody>\n",
       "</table>\n",
       "</div>"
      ],
      "text/plain": [
       "   Rating                           Review_Title  \\\n",
       "0       3                     more like funchuck   \n",
       "1       5                              Inspiring   \n",
       "2       5  The best soundtrack ever to anything.   \n",
       "3       4                       Chrono Cross OST   \n",
       "4       5                    Too good to be true   \n",
       "\n",
       "                                              Review Rating_Sentiment  \n",
       "0  Gave this to my dad for a gag gift after direc...          Neutral  \n",
       "1  I hope a lot of people hear this cd. We need m...         Positive  \n",
       "2  I'm reading a lot of reviews saying that this ...         Positive  \n",
       "3  The music of Yasunori Misuda is without questi...         Positive  \n",
       "4  Probably the greatest soundtrack in history! U...         Positive  "
      ]
     },
     "execution_count": 29,
     "metadata": {},
     "output_type": "execute_result"
    }
   ],
   "source": [
    "df.head()"
   ]
  },
  {
   "cell_type": "code",
   "execution_count": 30,
   "id": "8c151cad-042d-43e7-872b-70737e9be249",
   "metadata": {},
   "outputs": [
    {
     "data": {
      "text/plain": [
       "Rating_Sentiment\n",
       "Positive    1200000\n",
       "Negative    1200000\n",
       "Neutral      600000\n",
       "Name: count, dtype: int64"
      ]
     },
     "execution_count": 30,
     "metadata": {},
     "output_type": "execute_result"
    }
   ],
   "source": [
    "df['Rating_Sentiment'].value_counts()"
   ]
  },
  {
   "cell_type": "code",
   "execution_count": 31,
   "id": "a1f213e0-4ebc-4b6e-a0e4-45081c93e080",
   "metadata": {},
   "outputs": [],
   "source": [
    "# Processing all the strings to lower case\n",
    "df['Review_Title'] = df['Review_Title'].str.lower()\n",
    "df['Review'] = df['Review'].str.lower()"
   ]
  },
  {
   "cell_type": "code",
   "execution_count": 32,
   "id": "e6dac76c-2073-4c3d-b68e-373618162a77",
   "metadata": {},
   "outputs": [
    {
     "data": {
      "text/html": [
       "<div>\n",
       "<style scoped>\n",
       "    .dataframe tbody tr th:only-of-type {\n",
       "        vertical-align: middle;\n",
       "    }\n",
       "\n",
       "    .dataframe tbody tr th {\n",
       "        vertical-align: top;\n",
       "    }\n",
       "\n",
       "    .dataframe thead th {\n",
       "        text-align: right;\n",
       "    }\n",
       "</style>\n",
       "<table border=\"1\" class=\"dataframe\">\n",
       "  <thead>\n",
       "    <tr style=\"text-align: right;\">\n",
       "      <th></th>\n",
       "      <th>Rating</th>\n",
       "      <th>Review_Title</th>\n",
       "      <th>Review</th>\n",
       "      <th>Rating_Sentiment</th>\n",
       "    </tr>\n",
       "  </thead>\n",
       "  <tbody>\n",
       "    <tr>\n",
       "      <th>0</th>\n",
       "      <td>3</td>\n",
       "      <td>more like funchuck</td>\n",
       "      <td>gave this to my dad for a gag gift after direc...</td>\n",
       "      <td>Neutral</td>\n",
       "    </tr>\n",
       "    <tr>\n",
       "      <th>1</th>\n",
       "      <td>5</td>\n",
       "      <td>inspiring</td>\n",
       "      <td>i hope a lot of people hear this cd. we need m...</td>\n",
       "      <td>Positive</td>\n",
       "    </tr>\n",
       "    <tr>\n",
       "      <th>2</th>\n",
       "      <td>5</td>\n",
       "      <td>the best soundtrack ever to anything.</td>\n",
       "      <td>i'm reading a lot of reviews saying that this ...</td>\n",
       "      <td>Positive</td>\n",
       "    </tr>\n",
       "    <tr>\n",
       "      <th>3</th>\n",
       "      <td>4</td>\n",
       "      <td>chrono cross ost</td>\n",
       "      <td>the music of yasunori misuda is without questi...</td>\n",
       "      <td>Positive</td>\n",
       "    </tr>\n",
       "    <tr>\n",
       "      <th>4</th>\n",
       "      <td>5</td>\n",
       "      <td>too good to be true</td>\n",
       "      <td>probably the greatest soundtrack in history! u...</td>\n",
       "      <td>Positive</td>\n",
       "    </tr>\n",
       "  </tbody>\n",
       "</table>\n",
       "</div>"
      ],
      "text/plain": [
       "   Rating                           Review_Title  \\\n",
       "0       3                     more like funchuck   \n",
       "1       5                              inspiring   \n",
       "2       5  the best soundtrack ever to anything.   \n",
       "3       4                       chrono cross ost   \n",
       "4       5                    too good to be true   \n",
       "\n",
       "                                              Review Rating_Sentiment  \n",
       "0  gave this to my dad for a gag gift after direc...          Neutral  \n",
       "1  i hope a lot of people hear this cd. we need m...         Positive  \n",
       "2  i'm reading a lot of reviews saying that this ...         Positive  \n",
       "3  the music of yasunori misuda is without questi...         Positive  \n",
       "4  probably the greatest soundtrack in history! u...         Positive  "
      ]
     },
     "execution_count": 32,
     "metadata": {},
     "output_type": "execute_result"
    }
   ],
   "source": [
    "df.head()"
   ]
  },
  {
   "cell_type": "code",
   "execution_count": 33,
   "id": "9e767df1-8f85-48d0-8a9f-4a44ca4402c2",
   "metadata": {},
   "outputs": [],
   "source": [
    "# Rearranging the column\n",
    "column_to_move = df.pop('Rating_Sentiment')\n",
    "df.insert(1,'Rating_Sentiment',column_to_move)"
   ]
  },
  {
   "cell_type": "code",
   "execution_count": 34,
   "id": "d655ab4a-28f4-4bb2-9acd-3404ab0048cd",
   "metadata": {},
   "outputs": [
    {
     "data": {
      "text/html": [
       "<div>\n",
       "<style scoped>\n",
       "    .dataframe tbody tr th:only-of-type {\n",
       "        vertical-align: middle;\n",
       "    }\n",
       "\n",
       "    .dataframe tbody tr th {\n",
       "        vertical-align: top;\n",
       "    }\n",
       "\n",
       "    .dataframe thead th {\n",
       "        text-align: right;\n",
       "    }\n",
       "</style>\n",
       "<table border=\"1\" class=\"dataframe\">\n",
       "  <thead>\n",
       "    <tr style=\"text-align: right;\">\n",
       "      <th></th>\n",
       "      <th>Rating</th>\n",
       "      <th>Rating_Sentiment</th>\n",
       "      <th>Review_Title</th>\n",
       "      <th>Review</th>\n",
       "    </tr>\n",
       "  </thead>\n",
       "  <tbody>\n",
       "    <tr>\n",
       "      <th>0</th>\n",
       "      <td>3</td>\n",
       "      <td>Neutral</td>\n",
       "      <td>more like funchuck</td>\n",
       "      <td>gave this to my dad for a gag gift after direc...</td>\n",
       "    </tr>\n",
       "    <tr>\n",
       "      <th>1</th>\n",
       "      <td>5</td>\n",
       "      <td>Positive</td>\n",
       "      <td>inspiring</td>\n",
       "      <td>i hope a lot of people hear this cd. we need m...</td>\n",
       "    </tr>\n",
       "    <tr>\n",
       "      <th>2</th>\n",
       "      <td>5</td>\n",
       "      <td>Positive</td>\n",
       "      <td>the best soundtrack ever to anything.</td>\n",
       "      <td>i'm reading a lot of reviews saying that this ...</td>\n",
       "    </tr>\n",
       "    <tr>\n",
       "      <th>3</th>\n",
       "      <td>4</td>\n",
       "      <td>Positive</td>\n",
       "      <td>chrono cross ost</td>\n",
       "      <td>the music of yasunori misuda is without questi...</td>\n",
       "    </tr>\n",
       "    <tr>\n",
       "      <th>4</th>\n",
       "      <td>5</td>\n",
       "      <td>Positive</td>\n",
       "      <td>too good to be true</td>\n",
       "      <td>probably the greatest soundtrack in history! u...</td>\n",
       "    </tr>\n",
       "  </tbody>\n",
       "</table>\n",
       "</div>"
      ],
      "text/plain": [
       "   Rating Rating_Sentiment                           Review_Title  \\\n",
       "0       3          Neutral                     more like funchuck   \n",
       "1       5         Positive                              inspiring   \n",
       "2       5         Positive  the best soundtrack ever to anything.   \n",
       "3       4         Positive                       chrono cross ost   \n",
       "4       5         Positive                    too good to be true   \n",
       "\n",
       "                                              Review  \n",
       "0  gave this to my dad for a gag gift after direc...  \n",
       "1  i hope a lot of people hear this cd. we need m...  \n",
       "2  i'm reading a lot of reviews saying that this ...  \n",
       "3  the music of yasunori misuda is without questi...  \n",
       "4  probably the greatest soundtrack in history! u...  "
      ]
     },
     "execution_count": 34,
     "metadata": {},
     "output_type": "execute_result"
    }
   ],
   "source": [
    "df.head()"
   ]
  },
  {
   "cell_type": "code",
   "execution_count": 35,
   "id": "8e800f01-5fb6-49cc-bc81-803a0c25602c",
   "metadata": {},
   "outputs": [],
   "source": [
    "df['Review_Count'] = df['Review'].str.len()\n",
    "df['Review_Title_count'] = df['Review_Title'].str.len()"
   ]
  },
  {
   "cell_type": "code",
   "execution_count": 36,
   "id": "9299023f-01f4-49aa-b345-b2c0154d9644",
   "metadata": {},
   "outputs": [
    {
     "data": {
      "text/html": [
       "<div>\n",
       "<style scoped>\n",
       "    .dataframe tbody tr th:only-of-type {\n",
       "        vertical-align: middle;\n",
       "    }\n",
       "\n",
       "    .dataframe tbody tr th {\n",
       "        vertical-align: top;\n",
       "    }\n",
       "\n",
       "    .dataframe thead th {\n",
       "        text-align: right;\n",
       "    }\n",
       "</style>\n",
       "<table border=\"1\" class=\"dataframe\">\n",
       "  <thead>\n",
       "    <tr style=\"text-align: right;\">\n",
       "      <th></th>\n",
       "      <th>Rating</th>\n",
       "      <th>Rating_Sentiment</th>\n",
       "      <th>Review_Title</th>\n",
       "      <th>Review</th>\n",
       "      <th>Review_Count</th>\n",
       "      <th>Review_Title_count</th>\n",
       "    </tr>\n",
       "  </thead>\n",
       "  <tbody>\n",
       "    <tr>\n",
       "      <th>0</th>\n",
       "      <td>3</td>\n",
       "      <td>Neutral</td>\n",
       "      <td>more like funchuck</td>\n",
       "      <td>gave this to my dad for a gag gift after direc...</td>\n",
       "      <td>93</td>\n",
       "      <td>18</td>\n",
       "    </tr>\n",
       "    <tr>\n",
       "      <th>1</th>\n",
       "      <td>5</td>\n",
       "      <td>Positive</td>\n",
       "      <td>inspiring</td>\n",
       "      <td>i hope a lot of people hear this cd. we need m...</td>\n",
       "      <td>204</td>\n",
       "      <td>9</td>\n",
       "    </tr>\n",
       "    <tr>\n",
       "      <th>2</th>\n",
       "      <td>5</td>\n",
       "      <td>Positive</td>\n",
       "      <td>the best soundtrack ever to anything.</td>\n",
       "      <td>i'm reading a lot of reviews saying that this ...</td>\n",
       "      <td>470</td>\n",
       "      <td>37</td>\n",
       "    </tr>\n",
       "    <tr>\n",
       "      <th>3</th>\n",
       "      <td>4</td>\n",
       "      <td>Positive</td>\n",
       "      <td>chrono cross ost</td>\n",
       "      <td>the music of yasunori misuda is without questi...</td>\n",
       "      <td>393</td>\n",
       "      <td>16</td>\n",
       "    </tr>\n",
       "    <tr>\n",
       "      <th>4</th>\n",
       "      <td>5</td>\n",
       "      <td>Positive</td>\n",
       "      <td>too good to be true</td>\n",
       "      <td>probably the greatest soundtrack in history! u...</td>\n",
       "      <td>377</td>\n",
       "      <td>19</td>\n",
       "    </tr>\n",
       "  </tbody>\n",
       "</table>\n",
       "</div>"
      ],
      "text/plain": [
       "   Rating Rating_Sentiment                           Review_Title  \\\n",
       "0       3          Neutral                     more like funchuck   \n",
       "1       5         Positive                              inspiring   \n",
       "2       5         Positive  the best soundtrack ever to anything.   \n",
       "3       4         Positive                       chrono cross ost   \n",
       "4       5         Positive                    too good to be true   \n",
       "\n",
       "                                              Review  Review_Count  \\\n",
       "0  gave this to my dad for a gag gift after direc...            93   \n",
       "1  i hope a lot of people hear this cd. we need m...           204   \n",
       "2  i'm reading a lot of reviews saying that this ...           470   \n",
       "3  the music of yasunori misuda is without questi...           393   \n",
       "4  probably the greatest soundtrack in history! u...           377   \n",
       "\n",
       "   Review_Title_count  \n",
       "0                  18  \n",
       "1                   9  \n",
       "2                  37  \n",
       "3                  16  \n",
       "4                  19  "
      ]
     },
     "execution_count": 36,
     "metadata": {},
     "output_type": "execute_result"
    }
   ],
   "source": [
    "df.head()"
   ]
  },
  {
   "cell_type": "code",
   "execution_count": 37,
   "id": "e9d8755a-6642-4b9f-9103-d252e59165d6",
   "metadata": {},
   "outputs": [
    {
     "name": "stdout",
     "output_type": "stream",
     "text": [
      "Requirement already satisfied: textblob in /opt/homebrew/Caskroom/miniconda/base/lib/python3.12/site-packages (0.19.0)\n",
      "Requirement already satisfied: nltk>=3.9 in /opt/homebrew/Caskroom/miniconda/base/lib/python3.12/site-packages (from textblob) (3.9.1)\n",
      "Requirement already satisfied: click in /opt/homebrew/Caskroom/miniconda/base/lib/python3.12/site-packages (from nltk>=3.9->textblob) (8.1.8)\n",
      "Requirement already satisfied: joblib in /opt/homebrew/Caskroom/miniconda/base/lib/python3.12/site-packages (from nltk>=3.9->textblob) (1.4.2)\n",
      "Requirement already satisfied: regex>=2021.8.3 in /opt/homebrew/Caskroom/miniconda/base/lib/python3.12/site-packages (from nltk>=3.9->textblob) (2024.11.6)\n",
      "Requirement already satisfied: tqdm in /opt/homebrew/Caskroom/miniconda/base/lib/python3.12/site-packages (from nltk>=3.9->textblob) (4.66.5)\n"
     ]
    }
   ],
   "source": [
    "!pip install textblob"
   ]
  },
  {
   "cell_type": "code",
   "execution_count": 39,
   "id": "9c10b42a-6337-4977-b992-c5dd615b0d42",
   "metadata": {},
   "outputs": [
    {
     "data": {
      "text/html": [
       "<div>\n",
       "<style scoped>\n",
       "    .dataframe tbody tr th:only-of-type {\n",
       "        vertical-align: middle;\n",
       "    }\n",
       "\n",
       "    .dataframe tbody tr th {\n",
       "        vertical-align: top;\n",
       "    }\n",
       "\n",
       "    .dataframe thead th {\n",
       "        text-align: right;\n",
       "    }\n",
       "</style>\n",
       "<table border=\"1\" class=\"dataframe\">\n",
       "  <thead>\n",
       "    <tr style=\"text-align: right;\">\n",
       "      <th></th>\n",
       "      <th>Rating</th>\n",
       "      <th>Rating_Sentiment</th>\n",
       "      <th>Review_Title</th>\n",
       "      <th>Review</th>\n",
       "      <th>Review_Count</th>\n",
       "      <th>Review_Title_count</th>\n",
       "    </tr>\n",
       "  </thead>\n",
       "  <tbody>\n",
       "    <tr>\n",
       "      <th>0</th>\n",
       "      <td>3</td>\n",
       "      <td>Neutral</td>\n",
       "      <td>more like funchuck</td>\n",
       "      <td>gave this to my dad for a gag gift after direc...</td>\n",
       "      <td>93</td>\n",
       "      <td>18</td>\n",
       "    </tr>\n",
       "    <tr>\n",
       "      <th>1</th>\n",
       "      <td>5</td>\n",
       "      <td>Positive</td>\n",
       "      <td>inspiring</td>\n",
       "      <td>i hope a lot of people hear this cd. we need m...</td>\n",
       "      <td>204</td>\n",
       "      <td>9</td>\n",
       "    </tr>\n",
       "    <tr>\n",
       "      <th>2</th>\n",
       "      <td>5</td>\n",
       "      <td>Positive</td>\n",
       "      <td>the best soundtrack ever to anything.</td>\n",
       "      <td>i'm reading a lot of reviews saying that this ...</td>\n",
       "      <td>470</td>\n",
       "      <td>37</td>\n",
       "    </tr>\n",
       "    <tr>\n",
       "      <th>3</th>\n",
       "      <td>4</td>\n",
       "      <td>Positive</td>\n",
       "      <td>chrono cross ost</td>\n",
       "      <td>the music of yasunori misuda is without questi...</td>\n",
       "      <td>393</td>\n",
       "      <td>16</td>\n",
       "    </tr>\n",
       "    <tr>\n",
       "      <th>4</th>\n",
       "      <td>5</td>\n",
       "      <td>Positive</td>\n",
       "      <td>too good to be true</td>\n",
       "      <td>probably the greatest soundtrack in history! u...</td>\n",
       "      <td>377</td>\n",
       "      <td>19</td>\n",
       "    </tr>\n",
       "  </tbody>\n",
       "</table>\n",
       "</div>"
      ],
      "text/plain": [
       "   Rating Rating_Sentiment                           Review_Title  \\\n",
       "0       3          Neutral                     more like funchuck   \n",
       "1       5         Positive                              inspiring   \n",
       "2       5         Positive  the best soundtrack ever to anything.   \n",
       "3       4         Positive                       chrono cross ost   \n",
       "4       5         Positive                    too good to be true   \n",
       "\n",
       "                                              Review  Review_Count  \\\n",
       "0  gave this to my dad for a gag gift after direc...            93   \n",
       "1  i hope a lot of people hear this cd. we need m...           204   \n",
       "2  i'm reading a lot of reviews saying that this ...           470   \n",
       "3  the music of yasunori misuda is without questi...           393   \n",
       "4  probably the greatest soundtrack in history! u...           377   \n",
       "\n",
       "   Review_Title_count  \n",
       "0                  18  \n",
       "1                   9  \n",
       "2                  37  \n",
       "3                  16  \n",
       "4                  19  "
      ]
     },
     "execution_count": 39,
     "metadata": {},
     "output_type": "execute_result"
    }
   ],
   "source": [
    "df.head()"
   ]
  },
  {
   "cell_type": "code",
   "execution_count": 40,
   "id": "93c0def4-a61c-4e85-9077-9aefdbfebb09",
   "metadata": {},
   "outputs": [],
   "source": [
    "from nltk import word_tokenize"
   ]
  },
  {
   "cell_type": "code",
   "execution_count": 41,
   "id": "9ba29e4c-93b9-4351-8109-5e761d216d0f",
   "metadata": {},
   "outputs": [],
   "source": [
    "df['title_word_tokenize_count'] = df['Review_Title'].apply(word_tokenize)\n",
    "df['Review_word_tokenize_count'] = df['Review'].apply(word_tokenize)"
   ]
  },
  {
   "cell_type": "code",
   "execution_count": 42,
   "id": "f586f509-0978-4e98-b672-7a5398d97642",
   "metadata": {},
   "outputs": [
    {
     "data": {
      "text/html": [
       "<div>\n",
       "<style scoped>\n",
       "    .dataframe tbody tr th:only-of-type {\n",
       "        vertical-align: middle;\n",
       "    }\n",
       "\n",
       "    .dataframe tbody tr th {\n",
       "        vertical-align: top;\n",
       "    }\n",
       "\n",
       "    .dataframe thead th {\n",
       "        text-align: right;\n",
       "    }\n",
       "</style>\n",
       "<table border=\"1\" class=\"dataframe\">\n",
       "  <thead>\n",
       "    <tr style=\"text-align: right;\">\n",
       "      <th></th>\n",
       "      <th>Rating</th>\n",
       "      <th>Rating_Sentiment</th>\n",
       "      <th>Review_Title</th>\n",
       "      <th>Review</th>\n",
       "      <th>Review_Count</th>\n",
       "      <th>Review_Title_count</th>\n",
       "      <th>title_word_tokenize_count</th>\n",
       "      <th>Review_word_tokenize_count</th>\n",
       "    </tr>\n",
       "  </thead>\n",
       "  <tbody>\n",
       "    <tr>\n",
       "      <th>0</th>\n",
       "      <td>3</td>\n",
       "      <td>Neutral</td>\n",
       "      <td>more like funchuck</td>\n",
       "      <td>gave this to my dad for a gag gift after direc...</td>\n",
       "      <td>93</td>\n",
       "      <td>18</td>\n",
       "      <td>[more, like, funchuck]</td>\n",
       "      <td>[gave, this, to, my, dad, for, a, gag, gift, a...</td>\n",
       "    </tr>\n",
       "    <tr>\n",
       "      <th>1</th>\n",
       "      <td>5</td>\n",
       "      <td>Positive</td>\n",
       "      <td>inspiring</td>\n",
       "      <td>i hope a lot of people hear this cd. we need m...</td>\n",
       "      <td>204</td>\n",
       "      <td>9</td>\n",
       "      <td>[inspiring]</td>\n",
       "      <td>[i, hope, a, lot, of, people, hear, this, cd, ...</td>\n",
       "    </tr>\n",
       "    <tr>\n",
       "      <th>2</th>\n",
       "      <td>5</td>\n",
       "      <td>Positive</td>\n",
       "      <td>the best soundtrack ever to anything.</td>\n",
       "      <td>i'm reading a lot of reviews saying that this ...</td>\n",
       "      <td>470</td>\n",
       "      <td>37</td>\n",
       "      <td>[the, best, soundtrack, ever, to, anything, .]</td>\n",
       "      <td>[i, 'm, reading, a, lot, of, reviews, saying, ...</td>\n",
       "    </tr>\n",
       "    <tr>\n",
       "      <th>3</th>\n",
       "      <td>4</td>\n",
       "      <td>Positive</td>\n",
       "      <td>chrono cross ost</td>\n",
       "      <td>the music of yasunori misuda is without questi...</td>\n",
       "      <td>393</td>\n",
       "      <td>16</td>\n",
       "      <td>[chrono, cross, ost]</td>\n",
       "      <td>[the, music, of, yasunori, misuda, is, without...</td>\n",
       "    </tr>\n",
       "    <tr>\n",
       "      <th>4</th>\n",
       "      <td>5</td>\n",
       "      <td>Positive</td>\n",
       "      <td>too good to be true</td>\n",
       "      <td>probably the greatest soundtrack in history! u...</td>\n",
       "      <td>377</td>\n",
       "      <td>19</td>\n",
       "      <td>[too, good, to, be, true]</td>\n",
       "      <td>[probably, the, greatest, soundtrack, in, hist...</td>\n",
       "    </tr>\n",
       "  </tbody>\n",
       "</table>\n",
       "</div>"
      ],
      "text/plain": [
       "   Rating Rating_Sentiment                           Review_Title  \\\n",
       "0       3          Neutral                     more like funchuck   \n",
       "1       5         Positive                              inspiring   \n",
       "2       5         Positive  the best soundtrack ever to anything.   \n",
       "3       4         Positive                       chrono cross ost   \n",
       "4       5         Positive                    too good to be true   \n",
       "\n",
       "                                              Review  Review_Count  \\\n",
       "0  gave this to my dad for a gag gift after direc...            93   \n",
       "1  i hope a lot of people hear this cd. we need m...           204   \n",
       "2  i'm reading a lot of reviews saying that this ...           470   \n",
       "3  the music of yasunori misuda is without questi...           393   \n",
       "4  probably the greatest soundtrack in history! u...           377   \n",
       "\n",
       "   Review_Title_count                       title_word_tokenize_count  \\\n",
       "0                  18                          [more, like, funchuck]   \n",
       "1                   9                                     [inspiring]   \n",
       "2                  37  [the, best, soundtrack, ever, to, anything, .]   \n",
       "3                  16                            [chrono, cross, ost]   \n",
       "4                  19                       [too, good, to, be, true]   \n",
       "\n",
       "                          Review_word_tokenize_count  \n",
       "0  [gave, this, to, my, dad, for, a, gag, gift, a...  \n",
       "1  [i, hope, a, lot, of, people, hear, this, cd, ...  \n",
       "2  [i, 'm, reading, a, lot, of, reviews, saying, ...  \n",
       "3  [the, music, of, yasunori, misuda, is, without...  \n",
       "4  [probably, the, greatest, soundtrack, in, hist...  "
      ]
     },
     "execution_count": 42,
     "metadata": {},
     "output_type": "execute_result"
    }
   ],
   "source": [
    "df.head()"
   ]
  },
  {
   "cell_type": "code",
   "execution_count": 43,
   "id": "5422c196-a0c0-46b9-a0db-a5818ad1474d",
   "metadata": {},
   "outputs": [],
   "source": [
    "df = df.rename(columns={'Review_Count':'Review_str_len', 'Review_Title_count':'Title_str_len', 'title_word_tokenize_count':'title_word_tokenize', 'Review_word_tokenize_count':'Review_word_tokenize'})"
   ]
  },
  {
   "cell_type": "code",
   "execution_count": 44,
   "id": "4c2fff84-fddb-4f5c-ad77-ebf904aefb46",
   "metadata": {},
   "outputs": [
    {
     "data": {
      "text/html": [
       "<div>\n",
       "<style scoped>\n",
       "    .dataframe tbody tr th:only-of-type {\n",
       "        vertical-align: middle;\n",
       "    }\n",
       "\n",
       "    .dataframe tbody tr th {\n",
       "        vertical-align: top;\n",
       "    }\n",
       "\n",
       "    .dataframe thead th {\n",
       "        text-align: right;\n",
       "    }\n",
       "</style>\n",
       "<table border=\"1\" class=\"dataframe\">\n",
       "  <thead>\n",
       "    <tr style=\"text-align: right;\">\n",
       "      <th></th>\n",
       "      <th>Rating</th>\n",
       "      <th>Rating_Sentiment</th>\n",
       "      <th>Review_Title</th>\n",
       "      <th>Review</th>\n",
       "      <th>Review_str_len</th>\n",
       "      <th>Title_str_len</th>\n",
       "      <th>title_word_tokenize</th>\n",
       "      <th>Review_word_tokenize</th>\n",
       "    </tr>\n",
       "  </thead>\n",
       "  <tbody>\n",
       "    <tr>\n",
       "      <th>0</th>\n",
       "      <td>3</td>\n",
       "      <td>Neutral</td>\n",
       "      <td>more like funchuck</td>\n",
       "      <td>gave this to my dad for a gag gift after direc...</td>\n",
       "      <td>93</td>\n",
       "      <td>18</td>\n",
       "      <td>[more, like, funchuck]</td>\n",
       "      <td>[gave, this, to, my, dad, for, a, gag, gift, a...</td>\n",
       "    </tr>\n",
       "    <tr>\n",
       "      <th>1</th>\n",
       "      <td>5</td>\n",
       "      <td>Positive</td>\n",
       "      <td>inspiring</td>\n",
       "      <td>i hope a lot of people hear this cd. we need m...</td>\n",
       "      <td>204</td>\n",
       "      <td>9</td>\n",
       "      <td>[inspiring]</td>\n",
       "      <td>[i, hope, a, lot, of, people, hear, this, cd, ...</td>\n",
       "    </tr>\n",
       "    <tr>\n",
       "      <th>2</th>\n",
       "      <td>5</td>\n",
       "      <td>Positive</td>\n",
       "      <td>the best soundtrack ever to anything.</td>\n",
       "      <td>i'm reading a lot of reviews saying that this ...</td>\n",
       "      <td>470</td>\n",
       "      <td>37</td>\n",
       "      <td>[the, best, soundtrack, ever, to, anything, .]</td>\n",
       "      <td>[i, 'm, reading, a, lot, of, reviews, saying, ...</td>\n",
       "    </tr>\n",
       "    <tr>\n",
       "      <th>3</th>\n",
       "      <td>4</td>\n",
       "      <td>Positive</td>\n",
       "      <td>chrono cross ost</td>\n",
       "      <td>the music of yasunori misuda is without questi...</td>\n",
       "      <td>393</td>\n",
       "      <td>16</td>\n",
       "      <td>[chrono, cross, ost]</td>\n",
       "      <td>[the, music, of, yasunori, misuda, is, without...</td>\n",
       "    </tr>\n",
       "    <tr>\n",
       "      <th>4</th>\n",
       "      <td>5</td>\n",
       "      <td>Positive</td>\n",
       "      <td>too good to be true</td>\n",
       "      <td>probably the greatest soundtrack in history! u...</td>\n",
       "      <td>377</td>\n",
       "      <td>19</td>\n",
       "      <td>[too, good, to, be, true]</td>\n",
       "      <td>[probably, the, greatest, soundtrack, in, hist...</td>\n",
       "    </tr>\n",
       "  </tbody>\n",
       "</table>\n",
       "</div>"
      ],
      "text/plain": [
       "   Rating Rating_Sentiment                           Review_Title  \\\n",
       "0       3          Neutral                     more like funchuck   \n",
       "1       5         Positive                              inspiring   \n",
       "2       5         Positive  the best soundtrack ever to anything.   \n",
       "3       4         Positive                       chrono cross ost   \n",
       "4       5         Positive                    too good to be true   \n",
       "\n",
       "                                              Review  Review_str_len  \\\n",
       "0  gave this to my dad for a gag gift after direc...              93   \n",
       "1  i hope a lot of people hear this cd. we need m...             204   \n",
       "2  i'm reading a lot of reviews saying that this ...             470   \n",
       "3  the music of yasunori misuda is without questi...             393   \n",
       "4  probably the greatest soundtrack in history! u...             377   \n",
       "\n",
       "   Title_str_len                             title_word_tokenize  \\\n",
       "0             18                          [more, like, funchuck]   \n",
       "1              9                                     [inspiring]   \n",
       "2             37  [the, best, soundtrack, ever, to, anything, .]   \n",
       "3             16                            [chrono, cross, ost]   \n",
       "4             19                       [too, good, to, be, true]   \n",
       "\n",
       "                                Review_word_tokenize  \n",
       "0  [gave, this, to, my, dad, for, a, gag, gift, a...  \n",
       "1  [i, hope, a, lot, of, people, hear, this, cd, ...  \n",
       "2  [i, 'm, reading, a, lot, of, reviews, saying, ...  \n",
       "3  [the, music, of, yasunori, misuda, is, without...  \n",
       "4  [probably, the, greatest, soundtrack, in, hist...  "
      ]
     },
     "execution_count": 44,
     "metadata": {},
     "output_type": "execute_result"
    }
   ],
   "source": [
    "df.head()"
   ]
  },
  {
   "cell_type": "code",
   "execution_count": 45,
   "id": "f2f6d726-e2a3-4ab1-9880-fa3b93a58542",
   "metadata": {},
   "outputs": [],
   "source": [
    "df['title_word_tokenize_count'] = df['title_word_tokenize'].apply(len)\n",
    "df['Review_word_tokenize_count'] = df['Review_word_tokenize'].apply(len)"
   ]
  },
  {
   "cell_type": "code",
   "execution_count": 46,
   "id": "39a5e1d9-a6ba-4b16-81b7-9c7e5c8102fb",
   "metadata": {},
   "outputs": [
    {
     "data": {
      "text/html": [
       "<div>\n",
       "<style scoped>\n",
       "    .dataframe tbody tr th:only-of-type {\n",
       "        vertical-align: middle;\n",
       "    }\n",
       "\n",
       "    .dataframe tbody tr th {\n",
       "        vertical-align: top;\n",
       "    }\n",
       "\n",
       "    .dataframe thead th {\n",
       "        text-align: right;\n",
       "    }\n",
       "</style>\n",
       "<table border=\"1\" class=\"dataframe\">\n",
       "  <thead>\n",
       "    <tr style=\"text-align: right;\">\n",
       "      <th></th>\n",
       "      <th>Rating</th>\n",
       "      <th>Rating_Sentiment</th>\n",
       "      <th>Review_Title</th>\n",
       "      <th>Review</th>\n",
       "      <th>Review_str_len</th>\n",
       "      <th>Title_str_len</th>\n",
       "      <th>title_word_tokenize</th>\n",
       "      <th>Review_word_tokenize</th>\n",
       "      <th>title_word_tokenize_count</th>\n",
       "      <th>Review_word_tokenize_count</th>\n",
       "    </tr>\n",
       "  </thead>\n",
       "  <tbody>\n",
       "    <tr>\n",
       "      <th>0</th>\n",
       "      <td>3</td>\n",
       "      <td>Neutral</td>\n",
       "      <td>more like funchuck</td>\n",
       "      <td>gave this to my dad for a gag gift after direc...</td>\n",
       "      <td>93</td>\n",
       "      <td>18</td>\n",
       "      <td>[more, like, funchuck]</td>\n",
       "      <td>[gave, this, to, my, dad, for, a, gag, gift, a...</td>\n",
       "      <td>3</td>\n",
       "      <td>24</td>\n",
       "    </tr>\n",
       "    <tr>\n",
       "      <th>1</th>\n",
       "      <td>5</td>\n",
       "      <td>Positive</td>\n",
       "      <td>inspiring</td>\n",
       "      <td>i hope a lot of people hear this cd. we need m...</td>\n",
       "      <td>204</td>\n",
       "      <td>9</td>\n",
       "      <td>[inspiring]</td>\n",
       "      <td>[i, hope, a, lot, of, people, hear, this, cd, ...</td>\n",
       "      <td>1</td>\n",
       "      <td>44</td>\n",
       "    </tr>\n",
       "    <tr>\n",
       "      <th>2</th>\n",
       "      <td>5</td>\n",
       "      <td>Positive</td>\n",
       "      <td>the best soundtrack ever to anything.</td>\n",
       "      <td>i'm reading a lot of reviews saying that this ...</td>\n",
       "      <td>470</td>\n",
       "      <td>37</td>\n",
       "      <td>[the, best, soundtrack, ever, to, anything, .]</td>\n",
       "      <td>[i, 'm, reading, a, lot, of, reviews, saying, ...</td>\n",
       "      <td>7</td>\n",
       "      <td>101</td>\n",
       "    </tr>\n",
       "    <tr>\n",
       "      <th>3</th>\n",
       "      <td>4</td>\n",
       "      <td>Positive</td>\n",
       "      <td>chrono cross ost</td>\n",
       "      <td>the music of yasunori misuda is without questi...</td>\n",
       "      <td>393</td>\n",
       "      <td>16</td>\n",
       "      <td>[chrono, cross, ost]</td>\n",
       "      <td>[the, music, of, yasunori, misuda, is, without...</td>\n",
       "      <td>3</td>\n",
       "      <td>76</td>\n",
       "    </tr>\n",
       "    <tr>\n",
       "      <th>4</th>\n",
       "      <td>5</td>\n",
       "      <td>Positive</td>\n",
       "      <td>too good to be true</td>\n",
       "      <td>probably the greatest soundtrack in history! u...</td>\n",
       "      <td>377</td>\n",
       "      <td>19</td>\n",
       "      <td>[too, good, to, be, true]</td>\n",
       "      <td>[probably, the, greatest, soundtrack, in, hist...</td>\n",
       "      <td>5</td>\n",
       "      <td>81</td>\n",
       "    </tr>\n",
       "  </tbody>\n",
       "</table>\n",
       "</div>"
      ],
      "text/plain": [
       "   Rating Rating_Sentiment                           Review_Title  \\\n",
       "0       3          Neutral                     more like funchuck   \n",
       "1       5         Positive                              inspiring   \n",
       "2       5         Positive  the best soundtrack ever to anything.   \n",
       "3       4         Positive                       chrono cross ost   \n",
       "4       5         Positive                    too good to be true   \n",
       "\n",
       "                                              Review  Review_str_len  \\\n",
       "0  gave this to my dad for a gag gift after direc...              93   \n",
       "1  i hope a lot of people hear this cd. we need m...             204   \n",
       "2  i'm reading a lot of reviews saying that this ...             470   \n",
       "3  the music of yasunori misuda is without questi...             393   \n",
       "4  probably the greatest soundtrack in history! u...             377   \n",
       "\n",
       "   Title_str_len                             title_word_tokenize  \\\n",
       "0             18                          [more, like, funchuck]   \n",
       "1              9                                     [inspiring]   \n",
       "2             37  [the, best, soundtrack, ever, to, anything, .]   \n",
       "3             16                            [chrono, cross, ost]   \n",
       "4             19                       [too, good, to, be, true]   \n",
       "\n",
       "                                Review_word_tokenize  \\\n",
       "0  [gave, this, to, my, dad, for, a, gag, gift, a...   \n",
       "1  [i, hope, a, lot, of, people, hear, this, cd, ...   \n",
       "2  [i, 'm, reading, a, lot, of, reviews, saying, ...   \n",
       "3  [the, music, of, yasunori, misuda, is, without...   \n",
       "4  [probably, the, greatest, soundtrack, in, hist...   \n",
       "\n",
       "   title_word_tokenize_count  Review_word_tokenize_count  \n",
       "0                          3                          24  \n",
       "1                          1                          44  \n",
       "2                          7                         101  \n",
       "3                          3                          76  \n",
       "4                          5                          81  "
      ]
     },
     "execution_count": 46,
     "metadata": {},
     "output_type": "execute_result"
    }
   ],
   "source": [
    "df.head()"
   ]
  },
  {
   "cell_type": "code",
   "execution_count": 47,
   "id": "fbcf021d-6c12-4f33-b6fc-7a368583b1c5",
   "metadata": {},
   "outputs": [],
   "source": [
    "df = df.rename(columns={'title_word_tokenize_count':'title_wtoken_cnt','Review_word_tokenize_count':'Review_wtoken_cnt'})"
   ]
  },
  {
   "cell_type": "code",
   "execution_count": 48,
   "id": "81dcbcb8-698a-4b97-a001-cb372afd09b4",
   "metadata": {},
   "outputs": [
    {
     "data": {
      "text/html": [
       "<div>\n",
       "<style scoped>\n",
       "    .dataframe tbody tr th:only-of-type {\n",
       "        vertical-align: middle;\n",
       "    }\n",
       "\n",
       "    .dataframe tbody tr th {\n",
       "        vertical-align: top;\n",
       "    }\n",
       "\n",
       "    .dataframe thead th {\n",
       "        text-align: right;\n",
       "    }\n",
       "</style>\n",
       "<table border=\"1\" class=\"dataframe\">\n",
       "  <thead>\n",
       "    <tr style=\"text-align: right;\">\n",
       "      <th></th>\n",
       "      <th>Rating</th>\n",
       "      <th>Rating_Sentiment</th>\n",
       "      <th>Review_Title</th>\n",
       "      <th>Review</th>\n",
       "      <th>Review_str_len</th>\n",
       "      <th>Title_str_len</th>\n",
       "      <th>title_word_tokenize</th>\n",
       "      <th>Review_word_tokenize</th>\n",
       "      <th>title_wtoken_cnt</th>\n",
       "      <th>Review_wtoken_cnt</th>\n",
       "    </tr>\n",
       "  </thead>\n",
       "  <tbody>\n",
       "    <tr>\n",
       "      <th>0</th>\n",
       "      <td>3</td>\n",
       "      <td>Neutral</td>\n",
       "      <td>more like funchuck</td>\n",
       "      <td>gave this to my dad for a gag gift after direc...</td>\n",
       "      <td>93</td>\n",
       "      <td>18</td>\n",
       "      <td>[more, like, funchuck]</td>\n",
       "      <td>[gave, this, to, my, dad, for, a, gag, gift, a...</td>\n",
       "      <td>3</td>\n",
       "      <td>24</td>\n",
       "    </tr>\n",
       "    <tr>\n",
       "      <th>1</th>\n",
       "      <td>5</td>\n",
       "      <td>Positive</td>\n",
       "      <td>inspiring</td>\n",
       "      <td>i hope a lot of people hear this cd. we need m...</td>\n",
       "      <td>204</td>\n",
       "      <td>9</td>\n",
       "      <td>[inspiring]</td>\n",
       "      <td>[i, hope, a, lot, of, people, hear, this, cd, ...</td>\n",
       "      <td>1</td>\n",
       "      <td>44</td>\n",
       "    </tr>\n",
       "    <tr>\n",
       "      <th>2</th>\n",
       "      <td>5</td>\n",
       "      <td>Positive</td>\n",
       "      <td>the best soundtrack ever to anything.</td>\n",
       "      <td>i'm reading a lot of reviews saying that this ...</td>\n",
       "      <td>470</td>\n",
       "      <td>37</td>\n",
       "      <td>[the, best, soundtrack, ever, to, anything, .]</td>\n",
       "      <td>[i, 'm, reading, a, lot, of, reviews, saying, ...</td>\n",
       "      <td>7</td>\n",
       "      <td>101</td>\n",
       "    </tr>\n",
       "    <tr>\n",
       "      <th>3</th>\n",
       "      <td>4</td>\n",
       "      <td>Positive</td>\n",
       "      <td>chrono cross ost</td>\n",
       "      <td>the music of yasunori misuda is without questi...</td>\n",
       "      <td>393</td>\n",
       "      <td>16</td>\n",
       "      <td>[chrono, cross, ost]</td>\n",
       "      <td>[the, music, of, yasunori, misuda, is, without...</td>\n",
       "      <td>3</td>\n",
       "      <td>76</td>\n",
       "    </tr>\n",
       "    <tr>\n",
       "      <th>4</th>\n",
       "      <td>5</td>\n",
       "      <td>Positive</td>\n",
       "      <td>too good to be true</td>\n",
       "      <td>probably the greatest soundtrack in history! u...</td>\n",
       "      <td>377</td>\n",
       "      <td>19</td>\n",
       "      <td>[too, good, to, be, true]</td>\n",
       "      <td>[probably, the, greatest, soundtrack, in, hist...</td>\n",
       "      <td>5</td>\n",
       "      <td>81</td>\n",
       "    </tr>\n",
       "  </tbody>\n",
       "</table>\n",
       "</div>"
      ],
      "text/plain": [
       "   Rating Rating_Sentiment                           Review_Title  \\\n",
       "0       3          Neutral                     more like funchuck   \n",
       "1       5         Positive                              inspiring   \n",
       "2       5         Positive  the best soundtrack ever to anything.   \n",
       "3       4         Positive                       chrono cross ost   \n",
       "4       5         Positive                    too good to be true   \n",
       "\n",
       "                                              Review  Review_str_len  \\\n",
       "0  gave this to my dad for a gag gift after direc...              93   \n",
       "1  i hope a lot of people hear this cd. we need m...             204   \n",
       "2  i'm reading a lot of reviews saying that this ...             470   \n",
       "3  the music of yasunori misuda is without questi...             393   \n",
       "4  probably the greatest soundtrack in history! u...             377   \n",
       "\n",
       "   Title_str_len                             title_word_tokenize  \\\n",
       "0             18                          [more, like, funchuck]   \n",
       "1              9                                     [inspiring]   \n",
       "2             37  [the, best, soundtrack, ever, to, anything, .]   \n",
       "3             16                            [chrono, cross, ost]   \n",
       "4             19                       [too, good, to, be, true]   \n",
       "\n",
       "                                Review_word_tokenize  title_wtoken_cnt  \\\n",
       "0  [gave, this, to, my, dad, for, a, gag, gift, a...                 3   \n",
       "1  [i, hope, a, lot, of, people, hear, this, cd, ...                 1   \n",
       "2  [i, 'm, reading, a, lot, of, reviews, saying, ...                 7   \n",
       "3  [the, music, of, yasunori, misuda, is, without...                 3   \n",
       "4  [probably, the, greatest, soundtrack, in, hist...                 5   \n",
       "\n",
       "   Review_wtoken_cnt  \n",
       "0                 24  \n",
       "1                 44  \n",
       "2                101  \n",
       "3                 76  \n",
       "4                 81  "
      ]
     },
     "execution_count": 48,
     "metadata": {},
     "output_type": "execute_result"
    }
   ],
   "source": [
    "df.head()"
   ]
  },
  {
   "cell_type": "code",
   "execution_count": 59,
   "id": "ddd26862-d035-41b4-adc8-a11b47b306a9",
   "metadata": {},
   "outputs": [],
   "source": [
    "from wordcloud import WordCloud\n",
    "\n",
    "#Creating word Cloud\n",
    "def showWordCloud(wordCloud):\n",
    "    plt.imshow(wordCloud)\n",
    "    plt.show()"
   ]
  },
  {
   "cell_type": "code",
   "execution_count": 53,
   "id": "4a824ac0-def1-4450-955a-5c45e3ecbc1d",
   "metadata": {},
   "outputs": [],
   "source": [
    "all_reviews = ''.join(df[\"Review\"].astype(str))"
   ]
  },
  {
   "cell_type": "code",
   "execution_count": 60,
   "id": "2c58d480-dc76-47e1-a9d8-85c88313622b",
   "metadata": {},
   "outputs": [
    {
     "data": {
      "image/png": "[encoded data removed]",
      "text/plain": [
       "<Figure size 640x480 with 1 Axes>"
      ]
     },
     "metadata": {},
     "output_type": "display_data"
    }
   ],
   "source": [
    "wc_beforeStop = WordCloud(background_color=\"white\").generate(all_reviews)\n",
    "showWordCloud(wc_beforeStop)"
   ]
  },
  {
   "cell_type": "code",
   "execution_count": 55,
   "id": "20fd1dda-3e87-4265-8407-40224a1dc9c8",
   "metadata": {},
   "outputs": [
    {
     "name": "stdout",
     "output_type": "stream",
     "text": [
      "Collecting threadpoolctl\n",
      "  Downloading threadpoolctl-3.6.0-py3-none-any.whl.metadata (13 kB)\n",
      "Downloading threadpoolctl-3.6.0-py3-none-any.whl (18 kB)\n",
      "Installing collected packages: threadpoolctl\n",
      "Successfully installed threadpoolctl-3.6.0\n"
     ]
    }
   ],
   "source": [
    "!pip install threadpoolctl"
   ]
  },
  {
   "cell_type": "code",
   "execution_count": 56,
   "id": "8734eddb-413e-4356-a2f1-3ebd7305eca5",
   "metadata": {},
   "outputs": [],
   "source": [
    "from sklearn.feature_extraction.text import CountVectorizer, TfidfVectorizer, ENGLISH_STOP_WORDS"
   ]
  },
  {
   "cell_type": "code",
   "execution_count": 61,
   "id": "fd231457-429c-4fb1-ad66-7160793410b2",
   "metadata": {},
   "outputs": [
    {
     "data": {
      "image/png": "[encoded data removed]",
      "text/plain": [
       "<Figure size 640x480 with 1 Axes>"
      ]
     },
     "metadata": {},
     "output_type": "display_data"
    }
   ],
   "source": [
    "wc_after_sk_Stop = WordCloud(background_color=\"white\", stopwords=ENGLISH_STOP_WORDS).generate(all_reviews)\n",
    "showWordCloud(wc_after_sk_Stop)"
   ]
  },
  {
   "cell_type": "code",
   "execution_count": 68,
   "id": "07394806-6dbb-4d45-8dc8-27093ca8a900",
   "metadata": {},
   "outputs": [],
   "source": [
    "#Creating Stop Words\n",
    "stop_words_list = list(ENGLISH_STOP_WORDS)+[\"Review\",\"Reviews\", \"Amazon\", \"amazon\",\"reviews\",\"review\"]"
   ]
  },
  {
   "cell_type": "code",
   "execution_count": 82,
   "id": "62f21b0a-50ba-4edc-ab82-1bc610c21aef",
   "metadata": {},
   "outputs": [],
   "source": [
    "# Using Stemmer and WordLemmetizer\n",
    "from nltk.stem import PorterStemmer, WordNetLemmatizer\n",
    "\n",
    "porterStemmer = PorterStemmer()\n",
    "wordNetLemmetizer = WordNetLemmatizer()"
   ]
  },
  {
   "cell_type": "code",
   "execution_count": 83,
   "id": "f0f0ea51-3c86-4d11-9aac-e1027790defe",
   "metadata": {},
   "outputs": [],
   "source": [
    "def porter_stemmer_tokenizer(word_tokenized):\n",
    "    return [porterStemmer.stem(tokens) for tokens in word_tokenized]\n",
    "\n",
    "def wnet_lemmatizer_tokenizer(word_tokenized):\n",
    "    return [wordNetLemmetizer.lemmatize(tokens) for tokens in word_tokenized]"
   ]
  },
  {
   "cell_type": "code",
   "execution_count": 84,
   "id": "cc5532fd-bc3d-453a-8a71-546f707bc6c8",
   "metadata": {},
   "outputs": [],
   "source": [
    "# Porter Stemming    \n",
    "df[\"porterStemmer\"] = df[\"Review_word_tokenize\"].apply(porter_stemmer_tokenizer)"
   ]
  },
  {
   "cell_type": "code",
   "execution_count": 87,
   "id": "56151586-76e1-42b4-bb44-31aa488be930",
   "metadata": {},
   "outputs": [
    {
     "name": "stderr",
     "output_type": "stream",
     "text": [
      "[nltk_data] Downloading package wordnet to /Users/nisha/nltk_data...\n"
     ]
    },
    {
     "data": {
      "text/plain": [
       "True"
      ]
     },
     "execution_count": 87,
     "metadata": {},
     "output_type": "execute_result"
    }
   ],
   "source": [
    "import nltk\n",
    "nltk.download('wordnet')"
   ]
  },
  {
   "cell_type": "code",
   "execution_count": 86,
   "id": "e3a12bf8-ebc6-440d-bde1-82455a330ad3",
   "metadata": {},
   "outputs": [
    {
     "data": {
      "text/html": [
       "<div>\n",
       "<style scoped>\n",
       "    .dataframe tbody tr th:only-of-type {\n",
       "        vertical-align: middle;\n",
       "    }\n",
       "\n",
       "    .dataframe tbody tr th {\n",
       "        vertical-align: top;\n",
       "    }\n",
       "\n",
       "    .dataframe thead th {\n",
       "        text-align: right;\n",
       "    }\n",
       "</style>\n",
       "<table border=\"1\" class=\"dataframe\">\n",
       "  <thead>\n",
       "    <tr style=\"text-align: right;\">\n",
       "      <th></th>\n",
       "      <th>Rating</th>\n",
       "      <th>Rating_Sentiment</th>\n",
       "      <th>Review_Title</th>\n",
       "      <th>Review</th>\n",
       "      <th>Review_str_len</th>\n",
       "      <th>Title_str_len</th>\n",
       "      <th>title_word_tokenize</th>\n",
       "      <th>Review_word_tokenize</th>\n",
       "      <th>title_wtoken_cnt</th>\n",
       "      <th>Review_wtoken_cnt</th>\n",
       "      <th>porterStemmer</th>\n",
       "    </tr>\n",
       "  </thead>\n",
       "  <tbody>\n",
       "    <tr>\n",
       "      <th>0</th>\n",
       "      <td>3</td>\n",
       "      <td>Neutral</td>\n",
       "      <td>more like funchuck</td>\n",
       "      <td>gave this to my dad for a gag gift after direc...</td>\n",
       "      <td>93</td>\n",
       "      <td>18</td>\n",
       "      <td>[more, like, funchuck]</td>\n",
       "      <td>[gave, this, to, my, dad, for, a, gag, gift, a...</td>\n",
       "      <td>3</td>\n",
       "      <td>24</td>\n",
       "      <td>[gave, thi, to, my, dad, for, a, gag, gift, af...</td>\n",
       "    </tr>\n",
       "    <tr>\n",
       "      <th>1</th>\n",
       "      <td>5</td>\n",
       "      <td>Positive</td>\n",
       "      <td>inspiring</td>\n",
       "      <td>i hope a lot of people hear this cd. we need m...</td>\n",
       "      <td>204</td>\n",
       "      <td>9</td>\n",
       "      <td>[inspiring]</td>\n",
       "      <td>[i, hope, a, lot, of, people, hear, this, cd, ...</td>\n",
       "      <td>1</td>\n",
       "      <td>44</td>\n",
       "      <td>[i, hope, a, lot, of, peopl, hear, thi, cd, .,...</td>\n",
       "    </tr>\n",
       "    <tr>\n",
       "      <th>2</th>\n",
       "      <td>5</td>\n",
       "      <td>Positive</td>\n",
       "      <td>the best soundtrack ever to anything.</td>\n",
       "      <td>i'm reading a lot of reviews saying that this ...</td>\n",
       "      <td>470</td>\n",
       "      <td>37</td>\n",
       "      <td>[the, best, soundtrack, ever, to, anything, .]</td>\n",
       "      <td>[i, 'm, reading, a, lot, of, reviews, saying, ...</td>\n",
       "      <td>7</td>\n",
       "      <td>101</td>\n",
       "      <td>[i, 'm, read, a, lot, of, review, say, that, t...</td>\n",
       "    </tr>\n",
       "    <tr>\n",
       "      <th>3</th>\n",
       "      <td>4</td>\n",
       "      <td>Positive</td>\n",
       "      <td>chrono cross ost</td>\n",
       "      <td>the music of yasunori misuda is without questi...</td>\n",
       "      <td>393</td>\n",
       "      <td>16</td>\n",
       "      <td>[chrono, cross, ost]</td>\n",
       "      <td>[the, music, of, yasunori, misuda, is, without...</td>\n",
       "      <td>3</td>\n",
       "      <td>76</td>\n",
       "      <td>[the, music, of, yasunori, misuda, is, without...</td>\n",
       "    </tr>\n",
       "    <tr>\n",
       "      <th>4</th>\n",
       "      <td>5</td>\n",
       "      <td>Positive</td>\n",
       "      <td>too good to be true</td>\n",
       "      <td>probably the greatest soundtrack in history! u...</td>\n",
       "      <td>377</td>\n",
       "      <td>19</td>\n",
       "      <td>[too, good, to, be, true]</td>\n",
       "      <td>[probably, the, greatest, soundtrack, in, hist...</td>\n",
       "      <td>5</td>\n",
       "      <td>81</td>\n",
       "      <td>[probabl, the, greatest, soundtrack, in, histo...</td>\n",
       "    </tr>\n",
       "  </tbody>\n",
       "</table>\n",
       "</div>"
      ],
      "text/plain": [
       "   Rating Rating_Sentiment                           Review_Title  \\\n",
       "0       3          Neutral                     more like funchuck   \n",
       "1       5         Positive                              inspiring   \n",
       "2       5         Positive  the best soundtrack ever to anything.   \n",
       "3       4         Positive                       chrono cross ost   \n",
       "4       5         Positive                    too good to be true   \n",
       "\n",
       "                                              Review  Review_str_len  \\\n",
       "0  gave this to my dad for a gag gift after direc...              93   \n",
       "1  i hope a lot of people hear this cd. we need m...             204   \n",
       "2  i'm reading a lot of reviews saying that this ...             470   \n",
       "3  the music of yasunori misuda is without questi...             393   \n",
       "4  probably the greatest soundtrack in history! u...             377   \n",
       "\n",
       "   Title_str_len                             title_word_tokenize  \\\n",
       "0             18                          [more, like, funchuck]   \n",
       "1              9                                     [inspiring]   \n",
       "2             37  [the, best, soundtrack, ever, to, anything, .]   \n",
       "3             16                            [chrono, cross, ost]   \n",
       "4             19                       [too, good, to, be, true]   \n",
       "\n",
       "                                Review_word_tokenize  title_wtoken_cnt  \\\n",
       "0  [gave, this, to, my, dad, for, a, gag, gift, a...                 3   \n",
       "1  [i, hope, a, lot, of, people, hear, this, cd, ...                 1   \n",
       "2  [i, 'm, reading, a, lot, of, reviews, saying, ...                 7   \n",
       "3  [the, music, of, yasunori, misuda, is, without...                 3   \n",
       "4  [probably, the, greatest, soundtrack, in, hist...                 5   \n",
       "\n",
       "   Review_wtoken_cnt                                      porterStemmer  \n",
       "0                 24  [gave, thi, to, my, dad, for, a, gag, gift, af...  \n",
       "1                 44  [i, hope, a, lot, of, peopl, hear, thi, cd, .,...  \n",
       "2                101  [i, 'm, read, a, lot, of, review, say, that, t...  \n",
       "3                 76  [the, music, of, yasunori, misuda, is, without...  \n",
       "4                 81  [probabl, the, greatest, soundtrack, in, histo...  "
      ]
     },
     "execution_count": 86,
     "metadata": {},
     "output_type": "execute_result"
    }
   ],
   "source": [
    "df.head()"
   ]
  },
  {
   "cell_type": "code",
   "execution_count": 88,
   "id": "61f6044d-75b2-4e75-876f-ad8a3a790539",
   "metadata": {},
   "outputs": [],
   "source": [
    "# WordNet Lemmatizer\n",
    "from nltk.stem import WordNetLemmatizer\n",
    "df[\"WordNet_Lemmatizer\"] = df[\"Review_word_tokenize\"].apply(wnet_lemmatizer_tokenizer)"
   ]
  },
  {
   "cell_type": "code",
   "execution_count": 89,
   "id": "dd814f9d-2c7d-4b1d-8f79-c085f9003969",
   "metadata": {},
   "outputs": [
    {
     "data": {
      "text/html": [
       "<div>\n",
       "<style scoped>\n",
       "    .dataframe tbody tr th:only-of-type {\n",
       "        vertical-align: middle;\n",
       "    }\n",
       "\n",
       "    .dataframe tbody tr th {\n",
       "        vertical-align: top;\n",
       "    }\n",
       "\n",
       "    .dataframe thead th {\n",
       "        text-align: right;\n",
       "    }\n",
       "</style>\n",
       "<table border=\"1\" class=\"dataframe\">\n",
       "  <thead>\n",
       "    <tr style=\"text-align: right;\">\n",
       "      <th></th>\n",
       "      <th>Rating</th>\n",
       "      <th>Rating_Sentiment</th>\n",
       "      <th>Review_Title</th>\n",
       "      <th>Review</th>\n",
       "      <th>Review_str_len</th>\n",
       "      <th>Title_str_len</th>\n",
       "      <th>title_word_tokenize</th>\n",
       "      <th>Review_word_tokenize</th>\n",
       "      <th>title_wtoken_cnt</th>\n",
       "      <th>Review_wtoken_cnt</th>\n",
       "      <th>porterStemmer</th>\n",
       "      <th>WordNet_Lemmatizer</th>\n",
       "    </tr>\n",
       "  </thead>\n",
       "  <tbody>\n",
       "    <tr>\n",
       "      <th>0</th>\n",
       "      <td>3</td>\n",
       "      <td>Neutral</td>\n",
       "      <td>more like funchuck</td>\n",
       "      <td>gave this to my dad for a gag gift after direc...</td>\n",
       "      <td>93</td>\n",
       "      <td>18</td>\n",
       "      <td>[more, like, funchuck]</td>\n",
       "      <td>[gave, this, to, my, dad, for, a, gag, gift, a...</td>\n",
       "      <td>3</td>\n",
       "      <td>24</td>\n",
       "      <td>[gave, thi, to, my, dad, for, a, gag, gift, af...</td>\n",
       "      <td>[gave, this, to, my, dad, for, a, gag, gift, a...</td>\n",
       "    </tr>\n",
       "    <tr>\n",
       "      <th>1</th>\n",
       "      <td>5</td>\n",
       "      <td>Positive</td>\n",
       "      <td>inspiring</td>\n",
       "      <td>i hope a lot of people hear this cd. we need m...</td>\n",
       "      <td>204</td>\n",
       "      <td>9</td>\n",
       "      <td>[inspiring]</td>\n",
       "      <td>[i, hope, a, lot, of, people, hear, this, cd, ...</td>\n",
       "      <td>1</td>\n",
       "      <td>44</td>\n",
       "      <td>[i, hope, a, lot, of, peopl, hear, thi, cd, .,...</td>\n",
       "      <td>[i, hope, a, lot, of, people, hear, this, cd, ...</td>\n",
       "    </tr>\n",
       "    <tr>\n",
       "      <th>2</th>\n",
       "      <td>5</td>\n",
       "      <td>Positive</td>\n",
       "      <td>the best soundtrack ever to anything.</td>\n",
       "      <td>i'm reading a lot of reviews saying that this ...</td>\n",
       "      <td>470</td>\n",
       "      <td>37</td>\n",
       "      <td>[the, best, soundtrack, ever, to, anything, .]</td>\n",
       "      <td>[i, 'm, reading, a, lot, of, reviews, saying, ...</td>\n",
       "      <td>7</td>\n",
       "      <td>101</td>\n",
       "      <td>[i, 'm, read, a, lot, of, review, say, that, t...</td>\n",
       "      <td>[i, 'm, reading, a, lot, of, review, saying, t...</td>\n",
       "    </tr>\n",
       "    <tr>\n",
       "      <th>3</th>\n",
       "      <td>4</td>\n",
       "      <td>Positive</td>\n",
       "      <td>chrono cross ost</td>\n",
       "      <td>the music of yasunori misuda is without questi...</td>\n",
       "      <td>393</td>\n",
       "      <td>16</td>\n",
       "      <td>[chrono, cross, ost]</td>\n",
       "      <td>[the, music, of, yasunori, misuda, is, without...</td>\n",
       "      <td>3</td>\n",
       "      <td>76</td>\n",
       "      <td>[the, music, of, yasunori, misuda, is, without...</td>\n",
       "      <td>[the, music, of, yasunori, misuda, is, without...</td>\n",
       "    </tr>\n",
       "    <tr>\n",
       "      <th>4</th>\n",
       "      <td>5</td>\n",
       "      <td>Positive</td>\n",
       "      <td>too good to be true</td>\n",
       "      <td>probably the greatest soundtrack in history! u...</td>\n",
       "      <td>377</td>\n",
       "      <td>19</td>\n",
       "      <td>[too, good, to, be, true]</td>\n",
       "      <td>[probably, the, greatest, soundtrack, in, hist...</td>\n",
       "      <td>5</td>\n",
       "      <td>81</td>\n",
       "      <td>[probabl, the, greatest, soundtrack, in, histo...</td>\n",
       "      <td>[probably, the, greatest, soundtrack, in, hist...</td>\n",
       "    </tr>\n",
       "  </tbody>\n",
       "</table>\n",
       "</div>"
      ],
      "text/plain": [
       "   Rating Rating_Sentiment                           Review_Title  \\\n",
       "0       3          Neutral                     more like funchuck   \n",
       "1       5         Positive                              inspiring   \n",
       "2       5         Positive  the best soundtrack ever to anything.   \n",
       "3       4         Positive                       chrono cross ost   \n",
       "4       5         Positive                    too good to be true   \n",
       "\n",
       "                                              Review  Review_str_len  \\\n",
       "0  gave this to my dad for a gag gift after direc...              93   \n",
       "1  i hope a lot of people hear this cd. we need m...             204   \n",
       "2  i'm reading a lot of reviews saying that this ...             470   \n",
       "3  the music of yasunori misuda is without questi...             393   \n",
       "4  probably the greatest soundtrack in history! u...             377   \n",
       "\n",
       "   Title_str_len                             title_word_tokenize  \\\n",
       "0             18                          [more, like, funchuck]   \n",
       "1              9                                     [inspiring]   \n",
       "2             37  [the, best, soundtrack, ever, to, anything, .]   \n",
       "3             16                            [chrono, cross, ost]   \n",
       "4             19                       [too, good, to, be, true]   \n",
       "\n",
       "                                Review_word_tokenize  title_wtoken_cnt  \\\n",
       "0  [gave, this, to, my, dad, for, a, gag, gift, a...                 3   \n",
       "1  [i, hope, a, lot, of, people, hear, this, cd, ...                 1   \n",
       "2  [i, 'm, reading, a, lot, of, reviews, saying, ...                 7   \n",
       "3  [the, music, of, yasunori, misuda, is, without...                 3   \n",
       "4  [probably, the, greatest, soundtrack, in, hist...                 5   \n",
       "\n",
       "   Review_wtoken_cnt                                      porterStemmer  \\\n",
       "0                 24  [gave, thi, to, my, dad, for, a, gag, gift, af...   \n",
       "1                 44  [i, hope, a, lot, of, peopl, hear, thi, cd, .,...   \n",
       "2                101  [i, 'm, read, a, lot, of, review, say, that, t...   \n",
       "3                 76  [the, music, of, yasunori, misuda, is, without...   \n",
       "4                 81  [probabl, the, greatest, soundtrack, in, histo...   \n",
       "\n",
       "                                  WordNet_Lemmatizer  \n",
       "0  [gave, this, to, my, dad, for, a, gag, gift, a...  \n",
       "1  [i, hope, a, lot, of, people, hear, this, cd, ...  \n",
       "2  [i, 'm, reading, a, lot, of, review, saying, t...  \n",
       "3  [the, music, of, yasunori, misuda, is, without...  \n",
       "4  [probably, the, greatest, soundtrack, in, hist...  "
      ]
     },
     "execution_count": 89,
     "metadata": {},
     "output_type": "execute_result"
    }
   ],
   "source": [
    "df.head()"
   ]
  },
  {
   "cell_type": "code",
   "execution_count": 79,
   "id": "f5bf7848-2f0f-484f-96e7-2ae4bd904a9c",
   "metadata": {},
   "outputs": [
    {
     "name": "stdout",
     "output_type": "stream",
     "text": [
      "   actually  album  author  bad  best  better  big  bit  book  books  ...  ve  \\\n",
      "0         0      0       0    0     0       0    0    0     0      0  ...   0   \n",
      "1         0      0       0    0     0       0    0    0     0      0  ...   0   \n",
      "2         0      0       0    0     1       0    0    1     0      0  ...   0   \n",
      "3         0      0       0    0     0       0    0    0     0      0  ...   0   \n",
      "4         0      0       0    0     0       1    0    0     0      0  ...   0   \n",
      "\n",
      "   want  watch  way  work  works  worth  written  year  years  \n",
      "0     0      0    0     0      0      0        0     0      0  \n",
      "1     0      0    0     0      0      0        0     0      0  \n",
      "2     0      0    0     0      0      1        0     0      1  \n",
      "3     0      0    0     0      0      0        0     0      0  \n",
      "4     0      0    0     0      0      1        0     0      0  \n",
      "\n",
      "[5 rows x 100 columns]\n"
     ]
    }
   ],
   "source": [
    "#Creating CountVectorizer\n",
    "\n",
    "cnt_vect = CountVectorizer(max_features=100, stop_words=stop_words_list, ngram_range=(1,2), min_df=30)\n",
    "cnt_vect.fit(df.Review)\n",
    "cnt_X = cnt_vect.transform(df.Review)\n",
    "df_cnt_vector_transformed = pd.DataFrame(cnt_X.toarray(), columns= cnt_vect.get_feature_names_out())\n",
    "print(df_cnt_vector_transformed.head())"
   ]
  },
  {
   "cell_type": "code",
   "execution_count": 80,
   "id": "ff7f0931-5c08-43e1-b148-5d3ad83e01a1",
   "metadata": {},
   "outputs": [
    {
     "name": "stdout",
     "output_type": "stream",
     "text": [
      "   actually  album  author  bad      best    better  big      bit  book  \\\n",
      "0       0.0    0.0     0.0  0.0  0.000000  0.000000  0.0  0.00000   0.0   \n",
      "1       0.0    0.0     0.0  0.0  0.000000  0.000000  0.0  0.00000   0.0   \n",
      "2       0.0    0.0     0.0  0.0  0.225909  0.000000  0.0  0.26126   0.0   \n",
      "3       0.0    0.0     0.0  0.0  0.000000  0.000000  0.0  0.00000   0.0   \n",
      "4       0.0    0.0     0.0  0.0  0.000000  0.316646  0.0  0.00000   0.0   \n",
      "\n",
      "   books  ...   ve  want  watch  way  work  works     worth  written  year  \\\n",
      "0    0.0  ...  0.0   0.0    0.0  0.0   0.0    0.0  0.000000      0.0   0.0   \n",
      "1    0.0  ...  0.0   0.0    0.0  0.0   0.0    0.0  0.000000      0.0   0.0   \n",
      "2    0.0  ...  0.0   0.0    0.0  0.0   0.0    0.0  0.251830      0.0   0.0   \n",
      "3    0.0  ...  0.0   0.0    0.0  0.0   0.0    0.0  0.000000      0.0   0.0   \n",
      "4    0.0  ...  0.0   0.0    0.0  0.0   0.0    0.0  0.383421      0.0   0.0   \n",
      "\n",
      "      years  \n",
      "0  0.000000  \n",
      "1  0.000000  \n",
      "2  0.240946  \n",
      "3  0.000000  \n",
      "4  0.000000  \n",
      "\n",
      "[5 rows x 100 columns]\n"
     ]
    }
   ],
   "source": [
    "# Creating TfidfVectorizer\n",
    "\n",
    "tfidf_vect = TfidfVectorizer(max_features=100, stop_words=stop_words_list, ngram_range=(1,2), min_df=30)\n",
    "tfidf_vect.fit(df.Review)\n",
    "tfidf_X = tfidf_vect.transform(df.Review)\n",
    "\n",
    "tfidf_df = pd.DataFrame(tfidf_X.toarray(), columns= tfidf_vect.get_feature_names_out())\n",
    "print(tfidf_df.head())"
   ]
  },
  {
   "cell_type": "code",
   "execution_count": null,
   "id": "42f20e62-020a-4eff-990e-a27bed2ecad5",
   "metadata": {},
   "outputs": [],
   "source": []
  },
  {
   "cell_type": "code",
   "execution_count": 38,
   "id": "5a01baf5-02bb-4473-970b-6beafe2b04e6",
   "metadata": {},
   "outputs": [],
   "source": [
    "# Detecting sentiment using TextBlob\n",
    "\n",
    "from textblob import TextBlob\n",
    "\n",
    "# Polarity refers to the overall sentiment expressed in a text. It indicates whether the sentiment is +ve, -ve or neutral. Range: -1.0 to 1.0\n",
    "def sentiment_polarity(review):\n",
    "    return TextBlob(review).sentiment.polarity\n",
    "\n",
    "# Subjectivity refers to the extent to which a piece of text expresses personal opinions, emotions, beliefs, and judgments rather than factual information. Range 0.0 to 1.0.\n",
    "def sentiment_subjectivity(review):\n",
    "    return TextBlob(review).sentiment.subjectivity\n",
    "\n",
    "#df['polarity'] = df['Review'].apply(sentiment_polarity)\n",
    "#df['subjectivity'] = df['Review'].apply(sentiment_subjectivity)"
   ]
  },
  {
   "cell_type": "markdown",
   "id": "07607550-8994-45c7-94ac-fe3b78ae0119",
   "metadata": {},
   "source": [
    "# Using spaCy"
   ]
  },
  {
   "cell_type": "code",
   "execution_count": 2,
   "id": "a4c68fdb-bacd-4291-b0d0-46d8f0ddef1c",
   "metadata": {},
   "outputs": [
    {
     "name": "stdout",
     "output_type": "stream",
     "text": [
      "Requirement already satisfied: spacy in /opt/homebrew/Caskroom/miniconda/base/lib/python3.12/site-packages (3.8.5)\n",
      "Requirement already satisfied: spacy-legacy<3.1.0,>=3.0.11 in /opt/homebrew/Caskroom/miniconda/base/lib/python3.12/site-packages (from spacy) (3.0.12)\n",
      "Requirement already satisfied: spacy-loggers<2.0.0,>=1.0.0 in /opt/homebrew/Caskroom/miniconda/base/lib/python3.12/site-packages (from spacy) (1.0.5)\n",
      "Requirement already satisfied: murmurhash<1.1.0,>=0.28.0 in /opt/homebrew/Caskroom/miniconda/base/lib/python3.12/site-packages (from spacy) (1.0.12)\n",
      "Requirement already satisfied: cymem<2.1.0,>=2.0.2 in /opt/homebrew/Caskroom/miniconda/base/lib/python3.12/site-packages (from spacy) (2.0.11)\n",
      "Requirement already satisfied: preshed<3.1.0,>=3.0.2 in /opt/homebrew/Caskroom/miniconda/base/lib/python3.12/site-packages (from spacy) (3.0.9)\n",
      "Requirement already satisfied: thinc<8.4.0,>=8.3.4 in /opt/homebrew/Caskroom/miniconda/base/lib/python3.12/site-packages (from spacy) (8.3.6)\n",
      "Requirement already satisfied: wasabi<1.2.0,>=0.9.1 in /opt/homebrew/Caskroom/miniconda/base/lib/python3.12/site-packages (from spacy) (1.1.3)\n",
      "Requirement already satisfied: srsly<3.0.0,>=2.4.3 in /opt/homebrew/Caskroom/miniconda/base/lib/python3.12/site-packages (from spacy) (2.5.1)\n",
      "Requirement already satisfied: catalogue<2.1.0,>=2.0.6 in /opt/homebrew/Caskroom/miniconda/base/lib/python3.12/site-packages (from spacy) (2.0.10)\n",
      "Requirement already satisfied: weasel<0.5.0,>=0.1.0 in /opt/homebrew/Caskroom/miniconda/base/lib/python3.12/site-packages (from spacy) (0.4.1)\n",
      "Requirement already satisfied: typer<1.0.0,>=0.3.0 in /opt/homebrew/Caskroom/miniconda/base/lib/python3.12/site-packages (from spacy) (0.15.2)\n",
      "Requirement already satisfied: tqdm<5.0.0,>=4.38.0 in /opt/homebrew/Caskroom/miniconda/base/lib/python3.12/site-packages (from spacy) (4.66.5)\n",
      "Requirement already satisfied: numpy>=1.19.0 in /opt/homebrew/Caskroom/miniconda/base/lib/python3.12/site-packages (from spacy) (2.2.4)\n",
      "Requirement already satisfied: requests<3.0.0,>=2.13.0 in /opt/homebrew/Caskroom/miniconda/base/lib/python3.12/site-packages (from spacy) (2.32.3)\n",
      "Requirement already satisfied: pydantic!=1.8,!=1.8.1,<3.0.0,>=1.7.4 in /opt/homebrew/Caskroom/miniconda/base/lib/python3.12/site-packages (from spacy) (2.10.6)\n",
      "Requirement already satisfied: jinja2 in /opt/homebrew/Caskroom/miniconda/base/lib/python3.12/site-packages (from spacy) (3.1.4)\n",
      "Requirement already satisfied: setuptools in /opt/homebrew/Caskroom/miniconda/base/lib/python3.12/site-packages (from spacy) (72.1.0)\n",
      "Requirement already satisfied: packaging>=20.0 in /opt/homebrew/Caskroom/miniconda/base/lib/python3.12/site-packages (from spacy) (24.1)\n",
      "Requirement already satisfied: langcodes<4.0.0,>=3.2.0 in /opt/homebrew/Caskroom/miniconda/base/lib/python3.12/site-packages (from spacy) (3.5.0)\n",
      "Requirement already satisfied: language-data>=1.2 in /opt/homebrew/Caskroom/miniconda/base/lib/python3.12/site-packages (from langcodes<4.0.0,>=3.2.0->spacy) (1.3.0)\n",
      "Requirement already satisfied: annotated-types>=0.6.0 in /opt/homebrew/Caskroom/miniconda/base/lib/python3.12/site-packages (from pydantic!=1.8,!=1.8.1,<3.0.0,>=1.7.4->spacy) (0.7.0)\n",
      "Requirement already satisfied: pydantic-core==2.27.2 in /opt/homebrew/Caskroom/miniconda/base/lib/python3.12/site-packages (from pydantic!=1.8,!=1.8.1,<3.0.0,>=1.7.4->spacy) (2.27.2)\n",
      "Requirement already satisfied: typing-extensions>=4.12.2 in /opt/homebrew/Caskroom/miniconda/base/lib/python3.12/site-packages (from pydantic!=1.8,!=1.8.1,<3.0.0,>=1.7.4->spacy) (4.12.2)\n",
      "Requirement already satisfied: charset-normalizer<4,>=2 in /opt/homebrew/Caskroom/miniconda/base/lib/python3.12/site-packages (from requests<3.0.0,>=2.13.0->spacy) (3.3.2)\n",
      "Requirement already satisfied: idna<4,>=2.5 in /opt/homebrew/Caskroom/miniconda/base/lib/python3.12/site-packages (from requests<3.0.0,>=2.13.0->spacy) (3.7)\n",
      "Requirement already satisfied: urllib3<3,>=1.21.1 in /opt/homebrew/Caskroom/miniconda/base/lib/python3.12/site-packages (from requests<3.0.0,>=2.13.0->spacy) (2.2.3)\n",
      "Requirement already satisfied: certifi>=2017.4.17 in /opt/homebrew/Caskroom/miniconda/base/lib/python3.12/site-packages (from requests<3.0.0,>=2.13.0->spacy) (2025.1.31)\n",
      "Requirement already satisfied: blis<1.4.0,>=1.3.0 in /opt/homebrew/Caskroom/miniconda/base/lib/python3.12/site-packages (from thinc<8.4.0,>=8.3.4->spacy) (1.3.0)\n",
      "Requirement already satisfied: confection<1.0.0,>=0.0.1 in /opt/homebrew/Caskroom/miniconda/base/lib/python3.12/site-packages (from thinc<8.4.0,>=8.3.4->spacy) (0.1.5)\n",
      "Requirement already satisfied: click>=8.0.0 in /opt/homebrew/Caskroom/miniconda/base/lib/python3.12/site-packages (from typer<1.0.0,>=0.3.0->spacy) (8.1.8)\n",
      "Requirement already satisfied: shellingham>=1.3.0 in /opt/homebrew/Caskroom/miniconda/base/lib/python3.12/site-packages (from typer<1.0.0,>=0.3.0->spacy) (1.5.4)\n",
      "Requirement already satisfied: rich>=10.11.0 in /opt/homebrew/Caskroom/miniconda/base/lib/python3.12/site-packages (from typer<1.0.0,>=0.3.0->spacy) (14.0.0)\n",
      "Requirement already satisfied: cloudpathlib<1.0.0,>=0.7.0 in /opt/homebrew/Caskroom/miniconda/base/lib/python3.12/site-packages (from weasel<0.5.0,>=0.1.0->spacy) (0.21.0)\n",
      "Requirement already satisfied: smart-open<8.0.0,>=5.2.1 in /opt/homebrew/Caskroom/miniconda/base/lib/python3.12/site-packages (from weasel<0.5.0,>=0.1.0->spacy) (7.1.0)\n",
      "Requirement already satisfied: MarkupSafe>=2.0 in /opt/homebrew/Caskroom/miniconda/base/lib/python3.12/site-packages (from jinja2->spacy) (2.1.3)\n",
      "Requirement already satisfied: marisa-trie>=1.1.0 in /opt/homebrew/Caskroom/miniconda/base/lib/python3.12/site-packages (from language-data>=1.2->langcodes<4.0.0,>=3.2.0->spacy) (1.2.1)\n",
      "Requirement already satisfied: markdown-it-py>=2.2.0 in /opt/homebrew/Caskroom/miniconda/base/lib/python3.12/site-packages (from rich>=10.11.0->typer<1.0.0,>=0.3.0->spacy) (3.0.0)\n",
      "Requirement already satisfied: pygments<3.0.0,>=2.13.0 in /opt/homebrew/Caskroom/miniconda/base/lib/python3.12/site-packages (from rich>=10.11.0->typer<1.0.0,>=0.3.0->spacy) (2.15.1)\n",
      "Requirement already satisfied: wrapt in /opt/homebrew/Caskroom/miniconda/base/lib/python3.12/site-packages (from smart-open<8.0.0,>=5.2.1->weasel<0.5.0,>=0.1.0->spacy) (1.17.2)\n",
      "Requirement already satisfied: mdurl~=0.1 in /opt/homebrew/Caskroom/miniconda/base/lib/python3.12/site-packages (from markdown-it-py>=2.2.0->rich>=10.11.0->typer<1.0.0,>=0.3.0->spacy) (0.1.2)\n"
     ]
    }
   ],
   "source": [
    "! pip install spacy"
   ]
  },
  {
   "cell_type": "code",
   "execution_count": 17,
   "id": "cb7e5338-3f74-4d4f-88ce-9de5ec4e4dd7",
   "metadata": {},
   "outputs": [],
   "source": [
    "import spacy\n",
    "nlp = spacy.load(\"en_core_web_sm\")"
   ]
  },
  {
   "cell_type": "code",
   "execution_count": 18,
   "id": "f26e7d44-303c-48ae-904b-4a468bb601f8",
   "metadata": {},
   "outputs": [
    {
     "data": {
      "text/html": [
       "<div>\n",
       "<style scoped>\n",
       "    .dataframe tbody tr th:only-of-type {\n",
       "        vertical-align: middle;\n",
       "    }\n",
       "\n",
       "    .dataframe tbody tr th {\n",
       "        vertical-align: top;\n",
       "    }\n",
       "\n",
       "    .dataframe thead th {\n",
       "        text-align: right;\n",
       "    }\n",
       "</style>\n",
       "<table border=\"1\" class=\"dataframe\">\n",
       "  <thead>\n",
       "    <tr style=\"text-align: right;\">\n",
       "      <th></th>\n",
       "      <th>0</th>\n",
       "      <th>1</th>\n",
       "      <th>2</th>\n",
       "    </tr>\n",
       "  </thead>\n",
       "  <tbody>\n",
       "    <tr>\n",
       "      <th>0</th>\n",
       "      <td>3</td>\n",
       "      <td>more like funchuck</td>\n",
       "      <td>Gave this to my dad for a gag gift after direc...</td>\n",
       "    </tr>\n",
       "    <tr>\n",
       "      <th>1</th>\n",
       "      <td>5</td>\n",
       "      <td>Inspiring</td>\n",
       "      <td>I hope a lot of people hear this cd. We need m...</td>\n",
       "    </tr>\n",
       "    <tr>\n",
       "      <th>2</th>\n",
       "      <td>5</td>\n",
       "      <td>The best soundtrack ever to anything.</td>\n",
       "      <td>I'm reading a lot of reviews saying that this ...</td>\n",
       "    </tr>\n",
       "    <tr>\n",
       "      <th>3</th>\n",
       "      <td>4</td>\n",
       "      <td>Chrono Cross OST</td>\n",
       "      <td>The music of Yasunori Misuda is without questi...</td>\n",
       "    </tr>\n",
       "    <tr>\n",
       "      <th>4</th>\n",
       "      <td>5</td>\n",
       "      <td>Too good to be true</td>\n",
       "      <td>Probably the greatest soundtrack in history! U...</td>\n",
       "    </tr>\n",
       "  </tbody>\n",
       "</table>\n",
       "</div>"
      ],
      "text/plain": [
       "   0                                      1  \\\n",
       "0  3                     more like funchuck   \n",
       "1  5                              Inspiring   \n",
       "2  5  The best soundtrack ever to anything.   \n",
       "3  4                       Chrono Cross OST   \n",
       "4  5                    Too good to be true   \n",
       "\n",
       "                                                   2  \n",
       "0  Gave this to my dad for a gag gift after direc...  \n",
       "1  I hope a lot of people hear this cd. We need m...  \n",
       "2  I'm reading a lot of reviews saying that this ...  \n",
       "3  The music of Yasunori Misuda is without questi...  \n",
       "4  Probably the greatest soundtrack in history! U...  "
      ]
     },
     "execution_count": 18,
     "metadata": {},
     "output_type": "execute_result"
    }
   ],
   "source": [
    "# dfs - data frame for spacy\n",
    "dfs = df.copy(deep=True)\n",
    "dfs.head()"
   ]
  },
  {
   "cell_type": "code",
   "execution_count": 19,
   "id": "9ec957bc-e23f-4051-8a77-5b3a9c0e8ce4",
   "metadata": {},
   "outputs": [
    {
     "data": {
      "text/html": [
       "<div>\n",
       "<style scoped>\n",
       "    .dataframe tbody tr th:only-of-type {\n",
       "        vertical-align: middle;\n",
       "    }\n",
       "\n",
       "    .dataframe tbody tr th {\n",
       "        vertical-align: top;\n",
       "    }\n",
       "\n",
       "    .dataframe thead th {\n",
       "        text-align: right;\n",
       "    }\n",
       "</style>\n",
       "<table border=\"1\" class=\"dataframe\">\n",
       "  <thead>\n",
       "    <tr style=\"text-align: right;\">\n",
       "      <th></th>\n",
       "      <th>Rating</th>\n",
       "      <th>Review_Title</th>\n",
       "      <th>Review</th>\n",
       "    </tr>\n",
       "  </thead>\n",
       "  <tbody>\n",
       "    <tr>\n",
       "      <th>0</th>\n",
       "      <td>3</td>\n",
       "      <td>more like funchuck</td>\n",
       "      <td>Gave this to my dad for a gag gift after direc...</td>\n",
       "    </tr>\n",
       "    <tr>\n",
       "      <th>1</th>\n",
       "      <td>5</td>\n",
       "      <td>Inspiring</td>\n",
       "      <td>I hope a lot of people hear this cd. We need m...</td>\n",
       "    </tr>\n",
       "    <tr>\n",
       "      <th>2</th>\n",
       "      <td>5</td>\n",
       "      <td>The best soundtrack ever to anything.</td>\n",
       "      <td>I'm reading a lot of reviews saying that this ...</td>\n",
       "    </tr>\n",
       "    <tr>\n",
       "      <th>3</th>\n",
       "      <td>4</td>\n",
       "      <td>Chrono Cross OST</td>\n",
       "      <td>The music of Yasunori Misuda is without questi...</td>\n",
       "    </tr>\n",
       "    <tr>\n",
       "      <th>4</th>\n",
       "      <td>5</td>\n",
       "      <td>Too good to be true</td>\n",
       "      <td>Probably the greatest soundtrack in history! U...</td>\n",
       "    </tr>\n",
       "  </tbody>\n",
       "</table>\n",
       "</div>"
      ],
      "text/plain": [
       "   Rating                           Review_Title  \\\n",
       "0       3                     more like funchuck   \n",
       "1       5                              Inspiring   \n",
       "2       5  The best soundtrack ever to anything.   \n",
       "3       4                       Chrono Cross OST   \n",
       "4       5                    Too good to be true   \n",
       "\n",
       "                                              Review  \n",
       "0  Gave this to my dad for a gag gift after direc...  \n",
       "1  I hope a lot of people hear this cd. We need m...  \n",
       "2  I'm reading a lot of reviews saying that this ...  \n",
       "3  The music of Yasunori Misuda is without questi...  \n",
       "4  Probably the greatest soundtrack in history! U...  "
      ]
     },
     "execution_count": 19,
     "metadata": {},
     "output_type": "execute_result"
    }
   ],
   "source": [
    "dfs.columns=[\"Rating\",\"Review_Title\",\"Review\"]\n",
    "dfs.head()"
   ]
  },
  {
   "cell_type": "code",
   "execution_count": null,
   "id": "dc39f0c4-d74f-44c0-9883-0d257d630b4e",
   "metadata": {},
   "outputs": [],
   "source": [
    "# Spacy Tokenization"
   ]
  },
  {
   "cell_type": "code",
   "execution_count": 8,
   "id": "6deb0eec-5ba1-4f9a-a453-b6fb4b74db9e",
   "metadata": {},
   "outputs": [],
   "source": [
    "\n",
    "def get_spacy_tokenized(text):\n",
    "    return [[token.text for token in doc] for doc in nlp.pipe(text, n_process=4)]"
   ]
  },
  {
   "cell_type": "code",
   "execution_count": null,
   "id": "7a4869f5-ad85-4d64-aeda-125b61b0c057",
   "metadata": {},
   "outputs": [],
   "source": [
    "dfs[\"spacy_tokenized\"] = get_spacy_tokenized(dfs[\"Review\"].astype(str).tolist())"
   ]
  },
  {
   "cell_type": "code",
   "execution_count": null,
   "id": "358e7943-4715-4c83-94ae-54c4b4ddf330",
   "metadata": {},
   "outputs": [],
   "source": [
    "# Spacy lemmas"
   ]
  },
  {
   "cell_type": "code",
   "execution_count": 10,
   "id": "dffd564f-97b2-402f-9f93-a9e667959ef9",
   "metadata": {},
   "outputs": [],
   "source": [
    "def get_spacy_lemmas(text):\n",
    "    return [[token.text for token in doc] for doc in nlp.pipe(text)]"
   ]
  },
  {
   "cell_type": "code",
   "execution_count": 20,
   "id": "ce29e49d-02de-43a7-a7d4-5c20806bb4d0",
   "metadata": {},
   "outputs": [],
   "source": [
    "def process_reviews(text):\n",
    "    chunk_size = 1000\n",
    "    num_chunks = (len(dfs)+chunk_size-1)//chunk_size\n",
    "\n",
    "    tokenized_list = []\n",
    "    lemmatized_list = []\n",
    "    pos_list = []\n",
    "\n",
    "    for i in range(num_chunks):\n",
    "        start = i * chunk_size\n",
    "        end = min((i + 1) * chunk_size, len(dfs))\n",
    "        chunk = dfs[\"Review\"][start:end].astype(str).tolist()\n",
    "\n",
    "        for doc in nlp.pipe(chunk,n_process=4):\n",
    "            for token in doc:\n",
    "                tokenized_list.extend([token.text ])\n",
    "                lemmatized_list.extend([token.lemma_])\n",
    "                pos_list.extend([token.pos_])\n",
    "\n",
    "    dfs[\"spacy_tokenized\"] = tokenized_list\n",
    "    dfs[\"s_lemmas\"] = lemmatized_list\n",
    "    dfs[\"s_pos\"] = pos_list"
   ]
  },
  {
   "cell_type": "code",
   "execution_count": 21,
   "id": "51dee39d-df95-418c-8f10-d882480ed336",
   "metadata": {},
   "outputs": [
    {
     "name": "stderr",
     "output_type": "stream",
     "text": [
      "Process Process-1406:\n",
      "Process Process-1405:\n",
      "Process Process-1407:\n",
      "Traceback (most recent call last):\n",
      "Traceback (most recent call last):\n",
      "Traceback (most recent call last):\n",
      "  File \"/opt/homebrew/Caskroom/miniconda/base/envs/myenv/lib/python3.12/multiprocessing/process.py\", line 314, in _bootstrap\n",
      "    self.run()\n",
      "  File \"/opt/homebrew/Caskroom/miniconda/base/envs/myenv/lib/python3.12/multiprocessing/process.py\", line 314, in _bootstrap\n",
      "    self.run()\n",
      "  File \"/opt/homebrew/Caskroom/miniconda/base/envs/myenv/lib/python3.12/multiprocessing/process.py\", line 108, in run\n",
      "    self._target(*self._args, **self._kwargs)\n",
      "  File \"/opt/homebrew/Caskroom/miniconda/base/envs/myenv/lib/python3.12/multiprocessing/process.py\", line 108, in run\n",
      "    self._target(*self._args, **self._kwargs)\n",
      "  File \"/opt/homebrew/Caskroom/miniconda/base/envs/myenv/lib/python3.12/site-packages/spacy/language.py\", line 2395, in _apply_pipes\n",
      "    texts_with_ctx = receiver.get()\n",
      "                     ^^^^^^^^^^^^^^\n",
      "  File \"/opt/homebrew/Caskroom/miniconda/base/envs/myenv/lib/python3.12/site-packages/spacy/language.py\", line 2395, in _apply_pipes\n",
      "    texts_with_ctx = receiver.get()\n",
      "                     ^^^^^^^^^^^^^^\n",
      "  File \"/opt/homebrew/Caskroom/miniconda/base/envs/myenv/lib/python3.12/multiprocessing/queues.py\", line 103, in get\n",
      "    res = self._recv_bytes()\n",
      "          ^^^^^^^^^^^^^^^^^^\n",
      "  File \"/opt/homebrew/Caskroom/miniconda/base/envs/myenv/lib/python3.12/multiprocessing/queues.py\", line 103, in get\n",
      "    res = self._recv_bytes()\n",
      "          ^^^^^^^^^^^^^^^^^^\n",
      "  File \"/opt/homebrew/Caskroom/miniconda/base/envs/myenv/lib/python3.12/multiprocessing/connection.py\", line 216, in recv_bytes\n",
      "    buf = self._recv_bytes(maxlength)\n",
      "          ^^^^^^^^^^^^^^^^^^^^^^^^^^^\n",
      "  File \"/opt/homebrew/Caskroom/miniconda/base/envs/myenv/lib/python3.12/multiprocessing/connection.py\", line 216, in recv_bytes\n",
      "    buf = self._recv_bytes(maxlength)\n",
      "          ^^^^^^^^^^^^^^^^^^^^^^^^^^^\n",
      "  File \"/opt/homebrew/Caskroom/miniconda/base/envs/myenv/lib/python3.12/multiprocessing/connection.py\", line 430, in _recv_bytes\n",
      "    buf = self._recv(4)\n",
      "          ^^^^^^^^^^^^^\n",
      "  File \"/opt/homebrew/Caskroom/miniconda/base/envs/myenv/lib/python3.12/multiprocessing/connection.py\", line 430, in _recv_bytes\n",
      "    buf = self._recv(4)\n",
      "          ^^^^^^^^^^^^^\n",
      "  File \"/opt/homebrew/Caskroom/miniconda/base/envs/myenv/lib/python3.12/multiprocessing/connection.py\", line 395, in _recv\n",
      "    chunk = read(handle, remaining)\n",
      "            ^^^^^^^^^^^^^^^^^^^^^^^\n",
      "  File \"/opt/homebrew/Caskroom/miniconda/base/envs/myenv/lib/python3.12/multiprocessing/connection.py\", line 395, in _recv\n",
      "    chunk = read(handle, remaining)\n",
      "            ^^^^^^^^^^^^^^^^^^^^^^^\n",
      "KeyboardInterrupt\n",
      "KeyboardInterrupt\n",
      "  File \"/opt/homebrew/Caskroom/miniconda/base/envs/myenv/lib/python3.12/multiprocessing/process.py\", line 314, in _bootstrap\n",
      "    self.run()\n",
      "  File \"/opt/homebrew/Caskroom/miniconda/base/envs/myenv/lib/python3.12/multiprocessing/process.py\", line 108, in run\n",
      "    self._target(*self._args, **self._kwargs)\n",
      "  File \"/opt/homebrew/Caskroom/miniconda/base/envs/myenv/lib/python3.12/site-packages/spacy/language.py\", line 2395, in _apply_pipes\n",
      "    texts_with_ctx = receiver.get()\n",
      "                     ^^^^^^^^^^^^^^\n",
      "  File \"/opt/homebrew/Caskroom/miniconda/base/envs/myenv/lib/python3.12/multiprocessing/queues.py\", line 103, in get\n",
      "    res = self._recv_bytes()\n",
      "          ^^^^^^^^^^^^^^^^^^\n",
      "  File \"/opt/homebrew/Caskroom/miniconda/base/envs/myenv/lib/python3.12/multiprocessing/connection.py\", line 216, in recv_bytes\n",
      "    buf = self._recv_bytes(maxlength)\n",
      "          ^^^^^^^^^^^^^^^^^^^^^^^^^^^\n",
      "  File \"/opt/homebrew/Caskroom/miniconda/base/envs/myenv/lib/python3.12/multiprocessing/connection.py\", line 430, in _recv_bytes\n",
      "    buf = self._recv(4)\n",
      "          ^^^^^^^^^^^^^\n",
      "  File \"/opt/homebrew/Caskroom/miniconda/base/envs/myenv/lib/python3.12/multiprocessing/connection.py\", line 395, in _recv\n",
      "    chunk = read(handle, remaining)\n",
      "            ^^^^^^^^^^^^^^^^^^^^^^^\n",
      "KeyboardInterrupt\n",
      "Process Process-1408:\n",
      "Traceback (most recent call last):\n",
      "  File \"/opt/homebrew/Caskroom/miniconda/base/envs/myenv/lib/python3.12/multiprocessing/process.py\", line 314, in _bootstrap\n",
      "    self.run()\n",
      "  File \"/opt/homebrew/Caskroom/miniconda/base/envs/myenv/lib/python3.12/multiprocessing/process.py\", line 108, in run\n",
      "    self._target(*self._args, **self._kwargs)\n",
      "  File \"/opt/homebrew/Caskroom/miniconda/base/envs/myenv/lib/python3.12/site-packages/spacy/language.py\", line 2409, in _apply_pipes\n",
      "    byte_docs = [(doc.to_bytes(), doc._context, None) for doc in docs]\n",
      "                                                                 ^^^^\n",
      "  File \"/opt/homebrew/Caskroom/miniconda/base/envs/myenv/lib/python3.12/site-packages/spacy/util.py\", line 1703, in _pipe\n",
      "    yield from proc.pipe(docs, **kwargs)\n",
      "  File \"spacy/pipeline/transition_parser.pyx\", line 251, in pipe\n",
      "  File \"spacy/pipeline/transition_parser.pyx\", line 264, in spacy.pipeline.transition_parser.Parser.predict\n",
      "  File \"spacy/pipeline/transition_parser.pyx\", line 285, in spacy.pipeline.transition_parser.Parser.greedy_parse\n",
      "  File \"/opt/homebrew/Caskroom/miniconda/base/envs/myenv/lib/python3.12/site-packages/thinc/model.py\", line 334, in predict\n",
      "    return self._func(self, X, is_train=False)[0]\n",
      "           ^^^^^^^^^^^^^^^^^^^^^^^^^^^^^^^^^^^\n",
      "  File \"/opt/homebrew/Caskroom/miniconda/base/envs/myenv/lib/python3.12/site-packages/spacy/ml/tb_framework.py\", line 34, in forward\n",
      "    step_model = ParserStepModel(\n",
      "                 ^^^^^^^^^^^^^^^^\n",
      "  File \"spacy/ml/parser_model.pyx\", line 250, in spacy.ml.parser_model.ParserStepModel.__init__\n",
      "  File \"/opt/homebrew/Caskroom/miniconda/base/envs/myenv/lib/python3.12/site-packages/thinc/model.py\", line 310, in __call__\n",
      "    return self._func(self, X, is_train=is_train)\n",
      "           ^^^^^^^^^^^^^^^^^^^^^^^^^^^^^^^^^^^^^^\n",
      "  File \"/opt/homebrew/Caskroom/miniconda/base/envs/myenv/lib/python3.12/site-packages/thinc/layers/chain.py\", line 54, in forward\n",
      "    Y, inc_layer_grad = layer(X, is_train=is_train)\n",
      "                        ^^^^^^^^^^^^^^^^^^^^^^^^^^^\n",
      "  File \"/opt/homebrew/Caskroom/miniconda/base/envs/myenv/lib/python3.12/site-packages/thinc/model.py\", line 310, in __call__\n",
      "    return self._func(self, X, is_train=is_train)\n",
      "           ^^^^^^^^^^^^^^^^^^^^^^^^^^^^^^^^^^^^^^\n",
      "  File \"/opt/homebrew/Caskroom/miniconda/base/envs/myenv/lib/python3.12/site-packages/thinc/layers/chain.py\", line 54, in forward\n",
      "    Y, inc_layer_grad = layer(X, is_train=is_train)\n",
      "                        ^^^^^^^^^^^^^^^^^^^^^^^^^^^\n",
      "  File \"/opt/homebrew/Caskroom/miniconda/base/envs/myenv/lib/python3.12/site-packages/thinc/model.py\", line 310, in __call__\n",
      "    return self._func(self, X, is_train=is_train)\n",
      "           ^^^^^^^^^^^^^^^^^^^^^^^^^^^^^^^^^^^^^^\n",
      "  File \"/opt/homebrew/Caskroom/miniconda/base/envs/myenv/lib/python3.12/site-packages/thinc/layers/with_array.py\", line 42, in forward\n",
      "    return cast(Tuple[SeqT, Callable], _list_forward(model, Xseq, is_train))\n",
      "                                       ^^^^^^^^^^^^^^^^^^^^^^^^^^^^^^^^^^^^\n",
      "  File \"/opt/homebrew/Caskroom/miniconda/base/envs/myenv/lib/python3.12/site-packages/thinc/layers/with_array.py\", line 77, in _list_forward\n",
      "    Yf, get_dXf = layer(Xf, is_train)\n",
      "                  ^^^^^^^^^^^^^^^^^^^\n",
      "  File \"/opt/homebrew/Caskroom/miniconda/base/envs/myenv/lib/python3.12/site-packages/thinc/model.py\", line 310, in __call__\n",
      "    return self._func(self, X, is_train=is_train)\n",
      "           ^^^^^^^^^^^^^^^^^^^^^^^^^^^^^^^^^^^^^^\n",
      "  File \"/opt/homebrew/Caskroom/miniconda/base/envs/myenv/lib/python3.12/site-packages/thinc/layers/chain.py\", line 54, in forward\n",
      "    Y, inc_layer_grad = layer(X, is_train=is_train)\n",
      "                        ^^^^^^^^^^^^^^^^^^^^^^^^^^^\n",
      "  File \"/opt/homebrew/Caskroom/miniconda/base/envs/myenv/lib/python3.12/site-packages/thinc/model.py\", line 310, in __call__\n",
      "    return self._func(self, X, is_train=is_train)\n",
      "           ^^^^^^^^^^^^^^^^^^^^^^^^^^^^^^^^^^^^^^\n",
      "  File \"/opt/homebrew/Caskroom/miniconda/base/envs/myenv/lib/python3.12/site-packages/thinc/layers/residual.py\", line 41, in forward\n",
      "    Y, backprop_layer = model.layers[0](X, is_train)\n",
      "                        ^^^^^^^^^^^^^^^^^^^^^^^^^^^^\n",
      "  File \"/opt/homebrew/Caskroom/miniconda/base/envs/myenv/lib/python3.12/site-packages/thinc/model.py\", line 310, in __call__\n",
      "    return self._func(self, X, is_train=is_train)\n",
      "           ^^^^^^^^^^^^^^^^^^^^^^^^^^^^^^^^^^^^^^\n",
      "  File \"/opt/homebrew/Caskroom/miniconda/base/envs/myenv/lib/python3.12/site-packages/thinc/layers/chain.py\", line 54, in forward\n",
      "    Y, inc_layer_grad = layer(X, is_train=is_train)\n",
      "                        ^^^^^^^^^^^^^^^^^^^^^^^^^^^\n",
      "  File \"/opt/homebrew/Caskroom/miniconda/base/envs/myenv/lib/python3.12/site-packages/thinc/model.py\", line 310, in __call__\n",
      "    return self._func(self, X, is_train=is_train)\n",
      "           ^^^^^^^^^^^^^^^^^^^^^^^^^^^^^^^^^^^^^^\n",
      "  File \"/opt/homebrew/Caskroom/miniconda/base/envs/myenv/lib/python3.12/site-packages/thinc/layers/chain.py\", line 54, in forward\n",
      "    Y, inc_layer_grad = layer(X, is_train=is_train)\n",
      "                        ^^^^^^^^^^^^^^^^^^^^^^^^^^^\n",
      "  File \"/opt/homebrew/Caskroom/miniconda/base/envs/myenv/lib/python3.12/site-packages/thinc/model.py\", line 310, in __call__\n",
      "    return self._func(self, X, is_train=is_train)\n",
      "           ^^^^^^^^^^^^^^^^^^^^^^^^^^^^^^^^^^^^^^\n",
      "  File \"/opt/homebrew/Caskroom/miniconda/base/envs/myenv/lib/python3.12/site-packages/thinc/layers/chain.py\", line 54, in forward\n",
      "    Y, inc_layer_grad = layer(X, is_train=is_train)\n",
      "                        ^^^^^^^^^^^^^^^^^^^^^^^^^^^\n",
      "  File \"/opt/homebrew/Caskroom/miniconda/base/envs/myenv/lib/python3.12/site-packages/thinc/model.py\", line 310, in __call__\n",
      "    return self._func(self, X, is_train=is_train)\n",
      "           ^^^^^^^^^^^^^^^^^^^^^^^^^^^^^^^^^^^^^^\n",
      "  File \"/opt/homebrew/Caskroom/miniconda/base/envs/myenv/lib/python3.12/site-packages/thinc/layers/maxout.py\", line 52, in forward\n",
      "    Y = model.ops.gemm(X, W, trans2=True)\n",
      "        ^^^^^^^^^^^^^^^^^^^^^^^^^^^^^^^^^\n",
      "KeyboardInterrupt\n",
      "/opt/homebrew/Caskroom/miniconda/base/envs/myenv/lib/python3.12/site-packages/spacy/language.py:1737: UserWarning: [W127] Not all `Language.pipe` worker processes completed successfully\n",
      "  warnings.warn(Warnings.W127)\n",
      "Exception ignored in: <bound method IPythonKernel._clean_thread_parent_frames of <ipykernel.ipkernel.IPythonKernel object at 0x107b79fd0>>\n",
      "Traceback (most recent call last):\n",
      "  File \"/opt/homebrew/Caskroom/miniconda/base/envs/myenv/lib/python3.12/site-packages/ipykernel/ipkernel.py\", line 775, in _clean_thread_parent_frames\n",
      "    def _clean_thread_parent_frames(\n",
      "\n",
      "KeyboardInterrupt: \n",
      "Exception ignored in: <function WeakSet.__init__.<locals>._remove at 0x3418171a0>\n",
      "Traceback (most recent call last):\n",
      "  File \"/opt/homebrew/Caskroom/miniconda/base/envs/myenv/lib/python3.12/_weakrefset.py\", line 39, in _remove\n",
      "    def _remove(item, selfref=ref(self)):\n",
      "\n",
      "KeyboardInterrupt: \n"
     ]
    },
    {
     "ename": "KeyboardInterrupt",
     "evalue": "",
     "output_type": "error",
     "traceback": [
      "\u001b[0;31m---------------------------------------------------------------------------\u001b[0m",
      "\u001b[0;31mKeyboardInterrupt\u001b[0m                         Traceback (most recent call last)",
      "Cell \u001b[0;32mIn[21], line 1\u001b[0m\n\u001b[0;32m----> 1\u001b[0m process_reviews(dfs[\u001b[38;5;124m\"\u001b[39m\u001b[38;5;124mReview\u001b[39m\u001b[38;5;124m\"\u001b[39m])\n\u001b[1;32m      2\u001b[0m \u001b[38;5;28mprint\u001b[39m(dfs\u001b[38;5;241m.\u001b[39mhead())\n",
      "Cell \u001b[0;32mIn[20], line 14\u001b[0m, in \u001b[0;36mprocess_reviews\u001b[0;34m(text)\u001b[0m\n\u001b[1;32m     11\u001b[0m end \u001b[38;5;241m=\u001b[39m \u001b[38;5;28mmin\u001b[39m((i \u001b[38;5;241m+\u001b[39m \u001b[38;5;241m1\u001b[39m) \u001b[38;5;241m*\u001b[39m chunk_size, \u001b[38;5;28mlen\u001b[39m(dfs))\n\u001b[1;32m     12\u001b[0m chunk \u001b[38;5;241m=\u001b[39m dfs[\u001b[38;5;124m\"\u001b[39m\u001b[38;5;124mReview\u001b[39m\u001b[38;5;124m\"\u001b[39m][start:end]\u001b[38;5;241m.\u001b[39mastype(\u001b[38;5;28mstr\u001b[39m)\u001b[38;5;241m.\u001b[39mtolist()\n\u001b[0;32m---> 14\u001b[0m \u001b[38;5;28;01mfor\u001b[39;00m doc \u001b[38;5;129;01min\u001b[39;00m nlp\u001b[38;5;241m.\u001b[39mpipe(chunk,n_process\u001b[38;5;241m=\u001b[39m\u001b[38;5;241m4\u001b[39m):\n\u001b[1;32m     15\u001b[0m     \u001b[38;5;28;01mfor\u001b[39;00m token \u001b[38;5;129;01min\u001b[39;00m doc:\n\u001b[1;32m     16\u001b[0m         tokenized_list\u001b[38;5;241m.\u001b[39mextend([token\u001b[38;5;241m.\u001b[39mtext ])\n",
      "File \u001b[0;32m/opt/homebrew/Caskroom/miniconda/base/envs/myenv/lib/python3.12/site-packages/spacy/language.py:1621\u001b[0m, in \u001b[0;36mLanguage.pipe\u001b[0;34m(self, texts, as_tuples, batch_size, disable, component_cfg, n_process)\u001b[0m\n\u001b[1;32m   1619\u001b[0m     \u001b[38;5;28;01mfor\u001b[39;00m pipe \u001b[38;5;129;01min\u001b[39;00m pipes:\n\u001b[1;32m   1620\u001b[0m         docs \u001b[38;5;241m=\u001b[39m pipe(docs)\n\u001b[0;32m-> 1621\u001b[0m \u001b[38;5;28;01mfor\u001b[39;00m doc \u001b[38;5;129;01min\u001b[39;00m docs:\n\u001b[1;32m   1622\u001b[0m     \u001b[38;5;28;01myield\u001b[39;00m doc\n",
      "File \u001b[0;32m/opt/homebrew/Caskroom/miniconda/base/envs/myenv/lib/python3.12/site-packages/spacy/language.py:1701\u001b[0m, in \u001b[0;36mLanguage._multiprocessing_pipe\u001b[0;34m(self, texts, pipes, n_process, batch_size)\u001b[0m\n\u001b[1;32m   1697\u001b[0m byte_tuples \u001b[38;5;241m=\u001b[39m chain\u001b[38;5;241m.\u001b[39mfrom_iterable(\n\u001b[1;32m   1698\u001b[0m     recv\u001b[38;5;241m.\u001b[39mrecv() \u001b[38;5;28;01mfor\u001b[39;00m recv \u001b[38;5;129;01min\u001b[39;00m cycle(bytedocs_recv_ch)\n\u001b[1;32m   1699\u001b[0m )\n\u001b[1;32m   1700\u001b[0m \u001b[38;5;28;01mtry\u001b[39;00m:\n\u001b[0;32m-> 1701\u001b[0m     \u001b[38;5;28;01mfor\u001b[39;00m i, (_, (byte_doc, context, byte_error)) \u001b[38;5;129;01min\u001b[39;00m \u001b[38;5;28menumerate\u001b[39m(\n\u001b[1;32m   1702\u001b[0m         \u001b[38;5;28mzip\u001b[39m(raw_texts, byte_tuples), \u001b[38;5;241m1\u001b[39m\n\u001b[1;32m   1703\u001b[0m     ):\n\u001b[1;32m   1704\u001b[0m         \u001b[38;5;28;01mif\u001b[39;00m byte_doc \u001b[38;5;129;01mis\u001b[39;00m \u001b[38;5;129;01mnot\u001b[39;00m \u001b[38;5;28;01mNone\u001b[39;00m:\n\u001b[1;32m   1705\u001b[0m             doc \u001b[38;5;241m=\u001b[39m Doc(\u001b[38;5;28mself\u001b[39m\u001b[38;5;241m.\u001b[39mvocab)\u001b[38;5;241m.\u001b[39mfrom_bytes(byte_doc)\n",
      "File \u001b[0;32m/opt/homebrew/Caskroom/miniconda/base/envs/myenv/lib/python3.12/site-packages/spacy/language.py:1698\u001b[0m, in \u001b[0;36m<genexpr>\u001b[0;34m(.0)\u001b[0m\n\u001b[1;32m   1693\u001b[0m     tx\u001b[38;5;241m.\u001b[39mclose()\n\u001b[1;32m   1695\u001b[0m \u001b[38;5;66;03m# Cycle channels not to break the order of docs.\u001b[39;00m\n\u001b[1;32m   1696\u001b[0m \u001b[38;5;66;03m# The received object is a batch of byte-encoded docs, so flatten them with chain.from_iterable.\u001b[39;00m\n\u001b[1;32m   1697\u001b[0m byte_tuples \u001b[38;5;241m=\u001b[39m chain\u001b[38;5;241m.\u001b[39mfrom_iterable(\n\u001b[0;32m-> 1698\u001b[0m     recv\u001b[38;5;241m.\u001b[39mrecv() \u001b[38;5;28;01mfor\u001b[39;00m recv \u001b[38;5;129;01min\u001b[39;00m cycle(bytedocs_recv_ch)\n\u001b[1;32m   1699\u001b[0m )\n\u001b[1;32m   1700\u001b[0m \u001b[38;5;28;01mtry\u001b[39;00m:\n\u001b[1;32m   1701\u001b[0m     \u001b[38;5;28;01mfor\u001b[39;00m i, (_, (byte_doc, context, byte_error)) \u001b[38;5;129;01min\u001b[39;00m \u001b[38;5;28menumerate\u001b[39m(\n\u001b[1;32m   1702\u001b[0m         \u001b[38;5;28mzip\u001b[39m(raw_texts, byte_tuples), \u001b[38;5;241m1\u001b[39m\n\u001b[1;32m   1703\u001b[0m     ):\n",
      "File \u001b[0;32m/opt/homebrew/Caskroom/miniconda/base/envs/myenv/lib/python3.12/multiprocessing/connection.py:250\u001b[0m, in \u001b[0;36m_ConnectionBase.recv\u001b[0;34m(self)\u001b[0m\n\u001b[1;32m    248\u001b[0m \u001b[38;5;28mself\u001b[39m\u001b[38;5;241m.\u001b[39m_check_closed()\n\u001b[1;32m    249\u001b[0m \u001b[38;5;28mself\u001b[39m\u001b[38;5;241m.\u001b[39m_check_readable()\n\u001b[0;32m--> 250\u001b[0m buf \u001b[38;5;241m=\u001b[39m \u001b[38;5;28mself\u001b[39m\u001b[38;5;241m.\u001b[39m_recv_bytes()\n\u001b[1;32m    251\u001b[0m \u001b[38;5;28;01mreturn\u001b[39;00m _ForkingPickler\u001b[38;5;241m.\u001b[39mloads(buf\u001b[38;5;241m.\u001b[39mgetbuffer())\n",
      "File \u001b[0;32m/opt/homebrew/Caskroom/miniconda/base/envs/myenv/lib/python3.12/multiprocessing/connection.py:430\u001b[0m, in \u001b[0;36mConnection._recv_bytes\u001b[0;34m(self, maxsize)\u001b[0m\n\u001b[1;32m    429\u001b[0m \u001b[38;5;28;01mdef\u001b[39;00m \u001b[38;5;21m_recv_bytes\u001b[39m(\u001b[38;5;28mself\u001b[39m, maxsize\u001b[38;5;241m=\u001b[39m\u001b[38;5;28;01mNone\u001b[39;00m):\n\u001b[0;32m--> 430\u001b[0m     buf \u001b[38;5;241m=\u001b[39m \u001b[38;5;28mself\u001b[39m\u001b[38;5;241m.\u001b[39m_recv(\u001b[38;5;241m4\u001b[39m)\n\u001b[1;32m    431\u001b[0m     size, \u001b[38;5;241m=\u001b[39m struct\u001b[38;5;241m.\u001b[39munpack(\u001b[38;5;124m\"\u001b[39m\u001b[38;5;124m!i\u001b[39m\u001b[38;5;124m\"\u001b[39m, buf\u001b[38;5;241m.\u001b[39mgetvalue())\n\u001b[1;32m    432\u001b[0m     \u001b[38;5;28;01mif\u001b[39;00m size \u001b[38;5;241m==\u001b[39m \u001b[38;5;241m-\u001b[39m\u001b[38;5;241m1\u001b[39m:\n",
      "File \u001b[0;32m/opt/homebrew/Caskroom/miniconda/base/envs/myenv/lib/python3.12/multiprocessing/connection.py:395\u001b[0m, in \u001b[0;36mConnection._recv\u001b[0;34m(self, size, read)\u001b[0m\n\u001b[1;32m    393\u001b[0m remaining \u001b[38;5;241m=\u001b[39m size\n\u001b[1;32m    394\u001b[0m \u001b[38;5;28;01mwhile\u001b[39;00m remaining \u001b[38;5;241m>\u001b[39m \u001b[38;5;241m0\u001b[39m:\n\u001b[0;32m--> 395\u001b[0m     chunk \u001b[38;5;241m=\u001b[39m read(handle, remaining)\n\u001b[1;32m    396\u001b[0m     n \u001b[38;5;241m=\u001b[39m \u001b[38;5;28mlen\u001b[39m(chunk)\n\u001b[1;32m    397\u001b[0m     \u001b[38;5;28;01mif\u001b[39;00m n \u001b[38;5;241m==\u001b[39m \u001b[38;5;241m0\u001b[39m:\n",
      "\u001b[0;31mKeyboardInterrupt\u001b[0m: "
     ]
    }
   ],
   "source": [
    "process_reviews(dfs[\"Review\"])\n",
    "print(dfs.head())"
   ]
  },
  {
   "cell_type": "code",
   "execution_count": null,
   "id": "4bb2e7d4-3213-4afa-a0b3-9aa6ba782351",
   "metadata": {},
   "outputs": [],
   "source": []
  },
  {
   "cell_type": "code",
   "execution_count": null,
   "id": "90006670-d0c0-4f0e-ad68-9300979b9ec3",
   "metadata": {},
   "outputs": [],
   "source": [
    "# Spacy sentences"
   ]
  },
  {
   "cell_type": "code",
   "execution_count": null,
   "id": "72ebf91f-e78e-4463-83c0-73a50b117931",
   "metadata": {},
   "outputs": [],
   "source": [
    "def get_spacy_sentences(text):\n",
    "    return [[token.text for token in doc]for doc in nlp.pipe(text,n_process=4)]"
   ]
  },
  {
   "cell_type": "code",
   "execution_count": null,
   "id": "28fa2285-2670-4842-887f-b4fb3fff7a25",
   "metadata": {},
   "outputs": [],
   "source": [
    "dfs[\"s_sentence\"] = get_spacy_sentences(dfs[\"Review\"].astype(str).tolist())"
   ]
  },
  {
   "cell_type": "code",
   "execution_count": null,
   "id": "4af0c265-f547-4380-ba89-65c7327163de",
   "metadata": {},
   "outputs": [],
   "source": [
    "# NER - Named Entity Recogonition"
   ]
  },
  {
   "cell_type": "code",
   "execution_count": null,
   "id": "1402c6e4-c995-4533-ae8e-0ed586726986",
   "metadata": {},
   "outputs": [],
   "source": [
    "def ner(text):\n",
    "    chunk_size = 1000\n",
    "    num_chunks = (len(dfs)+chunk_size-1)//chunk_size\n",
    "\n",
    "    ent_label_list[]\n",
    "    ent_type_list[]\n",
    "\n",
    "    for i in range(num_chunks):\n",
    "        start = i * chunk_size\n",
    "        end = min((i + 1) * chunk_size, len(dfs))\n",
    "        chunk = dfs[\"Review\"][start:end].astype(str).tolist()\n",
    "\n",
    "        for doc in nlp.pipe(chunk,n_process=4):\n",
    "            for token in doc.ents:\n",
    "                ent_label_list.extend(token.label_)\n",
    "                ent_type_list.extend(token.type_)\n",
    "\n",
    "    dfs[\"ner_label\"] = ent_label_list\n",
    "    dfs[\"ner_type\"] = ent_type_list"
   ]
  },
  {
   "cell_type": "code",
   "execution_count": 1,
   "id": "1a78aa98-094a-4fb3-886c-04429397a1eb",
   "metadata": {},
   "outputs": [
    {
     "ename": "NameError",
     "evalue": "name 'dfs' is not defined",
     "output_type": "error",
     "traceback": [
      "\u001b[0;31m---------------------------------------------------------------------------\u001b[0m",
      "\u001b[0;31mNameError\u001b[0m                                 Traceback (most recent call last)",
      "Cell \u001b[0;32mIn[1], line 1\u001b[0m\n\u001b[0;32m----> 1\u001b[0m \u001b[38;5;28mprint\u001b[39m(dfs\u001b[38;5;241m.\u001b[39mhead())\n",
      "\u001b[0;31mNameError\u001b[0m: name 'dfs' is not defined"
     ]
    }
   ],
   "source": [
    "print(dfs.head())"
   ]
  },
  {
   "cell_type": "markdown",
   "id": "6fdfb24f-83df-4558-8a81-129ab4c96976",
   "metadata": {},
   "source": [
    "# NLP - WRANGLING"
   ]
  },
  {
   "cell_type": "code",
   "execution_count": null,
   "id": "ba2109df-417c-4cc9-9140-f0e1d66ff1ff",
   "metadata": {},
   "outputs": [],
   "source": [
    "df_1['Review_Title_Tokens_stop_words_removed'] = df_1['Review_Title_Tokens'].apply(lambda x: [word for word in x if word not in stop_words])\n",
    "df_1['Review_Tokens_stop_words_removed'] = df_1['Review_Tokens'].apply(lambda x: [word for word in x if word not in stop_words])"
   ]
  },
  {
   "cell_type": "code",
   "execution_count": null,
   "id": "43a7f33c-64bf-40b6-a63c-6e63c149b2c3",
   "metadata": {},
   "outputs": [],
   "source": [
    "df_1.head()"
   ]
  },
  {
   "cell_type": "code",
   "execution_count": null,
   "id": "ee19b0de-d684-435b-a83c-643bf77760ca",
   "metadata": {},
   "outputs": [],
   "source": [
    "df_1.to_csv('data_wrangled_reviews_amazon.csv', index=False)"
   ]
  }
 ],
 "metadata": {
  "kernelspec": {
   "display_name": "myenv",
   "language": "python",
   "name": "myenv"
  },
  "language_info": {
   "codemirror_mode": {
    "name": "ipython",
    "version": 3
   },
   "file_extension": ".py",
   "mimetype": "text/x-python",
   "name": "python",
   "nbconvert_exporter": "python",
   "pygments_lexer": "ipython3",
   "version": "3.12.7"
  }
 },
 "nbformat": 4,
 "nbformat_minor": 5
}
