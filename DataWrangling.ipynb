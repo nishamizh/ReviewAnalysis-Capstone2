{
 "cells": [
  {
   "cell_type": "markdown",
   "id": "dc5513fb-47a4-4dfb-b46c-81105f5c95b2",
   "metadata": {},
   "source": [
    "Review Analysis of Amazon Dataset"
   ]
  },
  {
   "cell_type": "code",
   "execution_count": null,
   "id": "750b3f33-3d22-4da3-a6dc-801d1a06c2c8",
   "metadata": {},
   "outputs": [],
   "source": []
  },
  {
   "cell_type": "code",
   "execution_count": null,
   "id": "6942ab9b-0026-4667-9f00-ec9c234d317f",
   "metadata": {},
   "outputs": [],
   "source": []
  }
 ],
 "metadata": {
  "kernelspec": {
   "display_name": "Python 3 (ipykernel)",
   "language": "python",
   "name": "python3"
  },
  "language_info": {
   "codemirror_mode": {
    "name": "ipython",
    "version": 3
   },
   "file_extension": ".py",
   "mimetype": "text/x-python",
   "name": "python",
   "nbconvert_exporter": "python",
   "pygments_lexer": "ipython3",
   "version": "3.12.7"
  }
 },
 "nbformat": 4,
 "nbformat_minor": 5
}
