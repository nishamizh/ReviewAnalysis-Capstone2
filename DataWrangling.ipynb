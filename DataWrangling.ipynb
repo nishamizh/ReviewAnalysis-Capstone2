{
 "cells": [
  {
   "cell_type": "markdown",
   "id": "dc5513fb-47a4-4dfb-b46c-81105f5c95b2",
   "metadata": {},
   "source": [
    "Review Analysis of Amazon Dataset"
   ]
  },
  {
   "cell_type": "code",
   "execution_count": 2,
   "id": "5f8e39f6-f4af-4d4a-a7cc-3eaf78d8086e",
   "metadata": {},
   "outputs": [
    {
     "name": "stdout",
     "output_type": "stream",
     "text": [
      "Collecting nltk\n",
      "  Downloading nltk-3.9.1-py3-none-any.whl.metadata (2.9 kB)\n",
      "Collecting click (from nltk)\n",
      "  Downloading click-8.1.8-py3-none-any.whl.metadata (2.3 kB)\n",
      "Requirement already satisfied: joblib in /opt/homebrew/Caskroom/miniconda/base/lib/python3.12/site-packages (from nltk) (1.4.2)\n",
      "Collecting regex>=2021.8.3 (from nltk)\n",
      "  Downloading regex-2024.11.6-cp312-cp312-macosx_11_0_arm64.whl.metadata (40 kB)\n",
      "Requirement already satisfied: tqdm in /opt/homebrew/Caskroom/miniconda/base/lib/python3.12/site-packages (from nltk) (4.66.5)\n",
      "Downloading nltk-3.9.1-py3-none-any.whl (1.5 MB)\n",
      "\u001b[2K   \u001b[90m━━━━━━━━━━━━━━━━━━━━━━━━━━━━━━━━━━━━━━━━\u001b[0m \u001b[32m1.5/1.5 MB\u001b[0m \u001b[31m9.9 MB/s\u001b[0m eta \u001b[36m0:00:00\u001b[0m\n",
      "Downloading regex-2024.11.6-cp312-cp312-macosx_11_0_arm64.whl (284 kB)\n",
      "Downloading click-8.1.8-py3-none-any.whl (98 kB)\n",
      "Installing collected packages: regex, click, nltk\n",
      "Successfully installed click-8.1.8 nltk-3.9.1 regex-2024.11.6\n"
     ]
    }
   ],
   "source": [
    "!pip install nltk"
   ]
  },
  {
   "cell_type": "code",
   "execution_count": 1,
   "id": "750b3f33-3d22-4da3-a6dc-801d1a06c2c8",
   "metadata": {},
   "outputs": [
    {
     "name": "stderr",
     "output_type": "stream",
     "text": [
      "[nltk_data] Downloading package punkt to /Users/nisha/nltk_data...\n",
      "[nltk_data]   Package punkt is already up-to-date!\n"
     ]
    },
    {
     "data": {
      "text/plain": [
       "True"
      ]
     },
     "execution_count": 1,
     "metadata": {},
     "output_type": "execute_result"
    }
   ],
   "source": [
    "import pandas as pd\n",
    "import numpy as np\n",
    "import matplotlib.pyplot as plt\n",
    "import seaborn as sns\n",
    "import re\n",
    "\n",
    "from nltk.tokenize import word_tokenize\n",
    "import nltk\n",
    "nltk.download('punkt')"
   ]
  },
  {
   "cell_type": "code",
   "execution_count": 28,
   "id": "0edbafc8-e258-45b4-b1d0-461bca63e282",
   "metadata": {},
   "outputs": [
    {
     "name": "stderr",
     "output_type": "stream",
     "text": [
      "[nltk_data] Downloading package punkt_tab to /Users/nisha/nltk_data...\n",
      "[nltk_data]   Unzipping tokenizers/punkt_tab.zip.\n"
     ]
    },
    {
     "data": {
      "text/plain": [
       "True"
      ]
     },
     "execution_count": 28,
     "metadata": {},
     "output_type": "execute_result"
    }
   ],
   "source": [
    "nltk.download('punkt_tab')"
   ]
  },
  {
   "cell_type": "code",
   "execution_count": 37,
   "id": "8a2e916a-8258-4901-8895-977a3c20299a",
   "metadata": {},
   "outputs": [
    {
     "name": "stderr",
     "output_type": "stream",
     "text": [
      "[nltk_data] Downloading package stopwords to /Users/nisha/nltk_data...\n",
      "[nltk_data]   Package stopwords is already up-to-date!\n"
     ]
    }
   ],
   "source": [
    "from nltk.corpus import stopwords\n",
    "nltk.download('stopwords')\n",
    "\n",
    "stop_words = set(stopwords.words('english'))"
   ]
  },
  {
   "cell_type": "code",
   "execution_count": 2,
   "id": "6942ab9b-0026-4667-9f00-ec9c234d317f",
   "metadata": {},
   "outputs": [],
   "source": [
    "df = pd.read_csv('amazon_review_full_csv/train.csv', delimiter=',', header=None)"
   ]
  },
  {
   "cell_type": "code",
   "execution_count": 3,
   "id": "794a4085-74c5-450b-9884-e3e83d26b1c8",
   "metadata": {},
   "outputs": [
    {
     "data": {
      "text/html": [
       "<div>\n",
       "<style scoped>\n",
       "    .dataframe tbody tr th:only-of-type {\n",
       "        vertical-align: middle;\n",
       "    }\n",
       "\n",
       "    .dataframe tbody tr th {\n",
       "        vertical-align: top;\n",
       "    }\n",
       "\n",
       "    .dataframe thead th {\n",
       "        text-align: right;\n",
       "    }\n",
       "</style>\n",
       "<table border=\"1\" class=\"dataframe\">\n",
       "  <thead>\n",
       "    <tr style=\"text-align: right;\">\n",
       "      <th></th>\n",
       "      <th>0</th>\n",
       "      <th>1</th>\n",
       "      <th>2</th>\n",
       "    </tr>\n",
       "  </thead>\n",
       "  <tbody>\n",
       "    <tr>\n",
       "      <th>0</th>\n",
       "      <td>3</td>\n",
       "      <td>more like funchuck</td>\n",
       "      <td>Gave this to my dad for a gag gift after direc...</td>\n",
       "    </tr>\n",
       "    <tr>\n",
       "      <th>1</th>\n",
       "      <td>5</td>\n",
       "      <td>Inspiring</td>\n",
       "      <td>I hope a lot of people hear this cd. We need m...</td>\n",
       "    </tr>\n",
       "    <tr>\n",
       "      <th>2</th>\n",
       "      <td>5</td>\n",
       "      <td>The best soundtrack ever to anything.</td>\n",
       "      <td>I'm reading a lot of reviews saying that this ...</td>\n",
       "    </tr>\n",
       "    <tr>\n",
       "      <th>3</th>\n",
       "      <td>4</td>\n",
       "      <td>Chrono Cross OST</td>\n",
       "      <td>The music of Yasunori Misuda is without questi...</td>\n",
       "    </tr>\n",
       "    <tr>\n",
       "      <th>4</th>\n",
       "      <td>5</td>\n",
       "      <td>Too good to be true</td>\n",
       "      <td>Probably the greatest soundtrack in history! U...</td>\n",
       "    </tr>\n",
       "  </tbody>\n",
       "</table>\n",
       "</div>"
      ],
      "text/plain": [
       "   0                                      1  \\\n",
       "0  3                     more like funchuck   \n",
       "1  5                              Inspiring   \n",
       "2  5  The best soundtrack ever to anything.   \n",
       "3  4                       Chrono Cross OST   \n",
       "4  5                    Too good to be true   \n",
       "\n",
       "                                                   2  \n",
       "0  Gave this to my dad for a gag gift after direc...  \n",
       "1  I hope a lot of people hear this cd. We need m...  \n",
       "2  I'm reading a lot of reviews saying that this ...  \n",
       "3  The music of Yasunori Misuda is without questi...  \n",
       "4  Probably the greatest soundtrack in history! U...  "
      ]
     },
     "execution_count": 3,
     "metadata": {},
     "output_type": "execute_result"
    }
   ],
   "source": [
    "df.head()"
   ]
  },
  {
   "cell_type": "code",
   "execution_count": 4,
   "id": "eeef6212-e231-45c6-8794-a663733f11a9",
   "metadata": {},
   "outputs": [],
   "source": [
    "df.columns = ['Rating',\"Review_Title\", \"Review\"]"
   ]
  },
  {
   "cell_type": "code",
   "execution_count": 5,
   "id": "7b21373d-2fa6-4752-a65a-680e0b6db8da",
   "metadata": {},
   "outputs": [
    {
     "data": {
      "text/plain": [
       "(3000000, 3)"
      ]
     },
     "execution_count": 5,
     "metadata": {},
     "output_type": "execute_result"
    }
   ],
   "source": [
    "df.shape"
   ]
  },
  {
   "cell_type": "code",
   "execution_count": 6,
   "id": "9545d77c-6194-46f3-b02a-05f99b9ed92a",
   "metadata": {},
   "outputs": [
    {
     "data": {
      "text/html": [
       "<div>\n",
       "<style scoped>\n",
       "    .dataframe tbody tr th:only-of-type {\n",
       "        vertical-align: middle;\n",
       "    }\n",
       "\n",
       "    .dataframe tbody tr th {\n",
       "        vertical-align: top;\n",
       "    }\n",
       "\n",
       "    .dataframe thead th {\n",
       "        text-align: right;\n",
       "    }\n",
       "</style>\n",
       "<table border=\"1\" class=\"dataframe\">\n",
       "  <thead>\n",
       "    <tr style=\"text-align: right;\">\n",
       "      <th></th>\n",
       "      <th>Rating</th>\n",
       "      <th>Review_Title</th>\n",
       "      <th>Review</th>\n",
       "    </tr>\n",
       "  </thead>\n",
       "  <tbody>\n",
       "    <tr>\n",
       "      <th>0</th>\n",
       "      <td>3</td>\n",
       "      <td>more like funchuck</td>\n",
       "      <td>Gave this to my dad for a gag gift after direc...</td>\n",
       "    </tr>\n",
       "    <tr>\n",
       "      <th>1</th>\n",
       "      <td>5</td>\n",
       "      <td>Inspiring</td>\n",
       "      <td>I hope a lot of people hear this cd. We need m...</td>\n",
       "    </tr>\n",
       "    <tr>\n",
       "      <th>2</th>\n",
       "      <td>5</td>\n",
       "      <td>The best soundtrack ever to anything.</td>\n",
       "      <td>I'm reading a lot of reviews saying that this ...</td>\n",
       "    </tr>\n",
       "    <tr>\n",
       "      <th>3</th>\n",
       "      <td>4</td>\n",
       "      <td>Chrono Cross OST</td>\n",
       "      <td>The music of Yasunori Misuda is without questi...</td>\n",
       "    </tr>\n",
       "    <tr>\n",
       "      <th>4</th>\n",
       "      <td>5</td>\n",
       "      <td>Too good to be true</td>\n",
       "      <td>Probably the greatest soundtrack in history! U...</td>\n",
       "    </tr>\n",
       "  </tbody>\n",
       "</table>\n",
       "</div>"
      ],
      "text/plain": [
       "   Rating                           Review_Title  \\\n",
       "0       3                     more like funchuck   \n",
       "1       5                              Inspiring   \n",
       "2       5  The best soundtrack ever to anything.   \n",
       "3       4                       Chrono Cross OST   \n",
       "4       5                    Too good to be true   \n",
       "\n",
       "                                              Review  \n",
       "0  Gave this to my dad for a gag gift after direc...  \n",
       "1  I hope a lot of people hear this cd. We need m...  \n",
       "2  I'm reading a lot of reviews saying that this ...  \n",
       "3  The music of Yasunori Misuda is without questi...  \n",
       "4  Probably the greatest soundtrack in history! U...  "
      ]
     },
     "execution_count": 6,
     "metadata": {},
     "output_type": "execute_result"
    }
   ],
   "source": [
    "df.head()"
   ]
  },
  {
   "cell_type": "markdown",
   "id": "c4863146-684d-416d-9d7d-1bf772ae9442",
   "metadata": {},
   "source": [
    "<h1>DATA WRANGLING</h1>"
   ]
  },
  {
   "cell_type": "markdown",
   "id": "0c5b4032-2d65-4914-8c8f-f2011a9725e0",
   "metadata": {},
   "source": [
    "# 1. Check for missing values"
   ]
  },
  {
   "cell_type": "code",
   "execution_count": 7,
   "id": "5206684b-c914-46a3-9b78-8094c065fa6d",
   "metadata": {},
   "outputs": [
    {
     "data": {
      "text/plain": [
       "Rating          0.000000\n",
       "Review_Title    0.006267\n",
       "Review          0.000000\n",
       "dtype: float64"
      ]
     },
     "execution_count": 7,
     "metadata": {},
     "output_type": "execute_result"
    }
   ],
   "source": [
    "df.isnull().mean()*100"
   ]
  },
  {
   "cell_type": "code",
   "execution_count": 8,
   "id": "8f8e8042-e1a8-4f7b-95d6-b79160123a31",
   "metadata": {},
   "outputs": [
    {
     "data": {
      "text/plain": [
       "Rating            0\n",
       "Review_Title    188\n",
       "Review            0\n",
       "dtype: int64"
      ]
     },
     "execution_count": 8,
     "metadata": {},
     "output_type": "execute_result"
    }
   ],
   "source": [
    "df.isnull().sum()"
   ]
  },
  {
   "cell_type": "markdown",
   "id": "574a649a-cc34-46b6-b139-509309979b8d",
   "metadata": {},
   "source": [
    "# Out of 3000000, there are 188 missing values , Since the missing values are in title, it may not make difference in finding the analysis, so this can be ignored."
   ]
  },
  {
   "cell_type": "code",
   "execution_count": null,
   "id": "b5afa26e-bd7e-41a3-9022-5f500185ac2e",
   "metadata": {},
   "outputs": [],
   "source": []
  },
  {
   "cell_type": "markdown",
   "id": "638be986-85a0-4454-a52b-980b8512904c",
   "metadata": {},
   "source": [
    "# 2. Checking DataTyes are correct."
   ]
  },
  {
   "cell_type": "code",
   "execution_count": 9,
   "id": "e304dd55-5355-42a0-8cc1-8bfcf7195e2a",
   "metadata": {},
   "outputs": [
    {
     "name": "stdout",
     "output_type": "stream",
     "text": [
      "Rating           int64\n",
      "Review_Title    object\n",
      "Review          object\n",
      "dtype: object\n"
     ]
    }
   ],
   "source": [
    "data_types = df.dtypes\n",
    "print(data_types)"
   ]
  },
  {
   "cell_type": "code",
   "execution_count": 10,
   "id": "f54763ff-0bf5-4dc3-8f72-7c3787a48322",
   "metadata": {},
   "outputs": [],
   "source": [
    "# converting the Columns to appropriate dataType for Review_Title and Review\n",
    "df[\"Review_Title\"] = df[\"Review_Title\"].astype(str)\n",
    "df[\"Review\"] = df[\"Review\"].astype(str)"
   ]
  },
  {
   "cell_type": "code",
   "execution_count": 11,
   "id": "83f86e0d-4580-42be-8183-13b26a33bdbb",
   "metadata": {},
   "outputs": [
    {
     "name": "stdout",
     "output_type": "stream",
     "text": [
      "<class 'pandas.core.frame.DataFrame'>\n",
      "RangeIndex: 3000000 entries, 0 to 2999999\n",
      "Data columns (total 3 columns):\n",
      " #   Column        Dtype \n",
      "---  ------        ----- \n",
      " 0   Rating        int64 \n",
      " 1   Review_Title  object\n",
      " 2   Review        object\n",
      "dtypes: int64(1), object(2)\n",
      "memory usage: 68.7+ MB\n"
     ]
    }
   ],
   "source": [
    "df.info()"
   ]
  },
  {
   "cell_type": "code",
   "execution_count": 12,
   "id": "197d01dc-8540-4dd3-b68a-bf79038fd85e",
   "metadata": {},
   "outputs": [],
   "source": [
    "df['Review_Title'] = df['Review_Title'].astype(str)\n",
    "df[\"Review\"] = df[\"Review\"].astype(str)"
   ]
  },
  {
   "cell_type": "code",
   "execution_count": 13,
   "id": "51c79898-8a34-4988-9702-08b460b5250a",
   "metadata": {},
   "outputs": [
    {
     "data": {
      "text/plain": [
       "Rating           int64\n",
       "Review_Title    object\n",
       "Review          object\n",
       "dtype: object"
      ]
     },
     "execution_count": 13,
     "metadata": {},
     "output_type": "execute_result"
    }
   ],
   "source": [
    "df.dtypes"
   ]
  },
  {
   "cell_type": "code",
   "execution_count": 14,
   "id": "1faacdcc-3c74-484d-864c-d08724624653",
   "metadata": {},
   "outputs": [
    {
     "name": "stdout",
     "output_type": "stream",
     "text": [
      "<class 'str'>\n",
      "<class 'str'>\n"
     ]
    }
   ],
   "source": [
    "print(type(df['Review_Title'][0]))  # Should print <class 'str'>\n",
    "print(type(df['Review'][0]))        # Should print <class 'str'>"
   ]
  },
  {
   "cell_type": "code",
   "execution_count": 15,
   "id": "d077f930-1b64-47a2-b346-11a055ba9d47",
   "metadata": {},
   "outputs": [
    {
     "name": "stdout",
     "output_type": "stream",
     "text": [
      "Empty DataFrame\n",
      "Columns: [Rating, Review_Title, Review]\n",
      "Index: []\n"
     ]
    }
   ],
   "source": [
    "# checking Duplicate values\n",
    "\n",
    "duplicated = df[df.duplicated()]\n",
    "print(duplicated)"
   ]
  },
  {
   "cell_type": "code",
   "execution_count": 16,
   "id": "dcad2eeb-16e1-4edf-8c5c-eaa84ca167ad",
   "metadata": {},
   "outputs": [],
   "source": [
    "# Checking Duplicates based on specific column\n",
    "dup1 = df[df.duplicated(subset=['Rating','Review_Title'])]\n",
    "dup2 = df[df.duplicated(subset=['Rating','Review'])]"
   ]
  },
  {
   "cell_type": "code",
   "execution_count": 17,
   "id": "3950d81c-d8a5-4904-ad31-8b2b8c173f35",
   "metadata": {},
   "outputs": [],
   "source": [
    "# There are no Duplicate Reviews"
   ]
  },
  {
   "cell_type": "code",
   "execution_count": 18,
   "id": "d613fed0-082b-4ad6-a472-b956aac21431",
   "metadata": {},
   "outputs": [
    {
     "name": "stdout",
     "output_type": "stream",
     "text": [
      "         Rating     Review_Title  \\\n",
      "95            2     Not the best   \n",
      "103           1  I got fooled...   \n",
      "202           2    Disappointing   \n",
      "297           3   Mixed feelings   \n",
      "555           2     disappointed   \n",
      "...         ...              ...   \n",
      "2999986       3       Incomplete   \n",
      "2999987       2  Not the Best...   \n",
      "2999992       2   Too simplistic   \n",
      "2999995       1    Don't do it!!   \n",
      "2999998       3   Hard to clean!   \n",
      "\n",
      "                                                    Review  \n",
      "95       I agree, the CDs are a much needed help, since...  \n",
      "103      I did not know this was the audio cd of the ga...  \n",
      "202      I bought this book because I am a nonogram (al...  \n",
      "297      Some beautiful scenery early on and nice roman...  \n",
      "555      I think this is a case of my expectations bein...  \n",
      "...                                                    ...  \n",
      "2999986  The three films in this set are excellent, abs...  \n",
      "2999987  I bought this CD expecting it to be the same t...  \n",
      "2999992  While Mr. Harrison makes some extremely valid ...  \n",
      "2999995  The high chair looks great when it first comes...  \n",
      "2999998  I agree with everyone else who says this chair...  \n",
      "\n",
      "[632930 rows x 3 columns]\n"
     ]
    }
   ],
   "source": [
    "print(dup1)"
   ]
  },
  {
   "cell_type": "code",
   "execution_count": 19,
   "id": "c9f00098-3787-4d42-9bfe-c8cb5b6c8d16",
   "metadata": {},
   "outputs": [
    {
     "data": {
      "text/html": [
       "<div>\n",
       "<style scoped>\n",
       "    .dataframe tbody tr th:only-of-type {\n",
       "        vertical-align: middle;\n",
       "    }\n",
       "\n",
       "    .dataframe tbody tr th {\n",
       "        vertical-align: top;\n",
       "    }\n",
       "\n",
       "    .dataframe thead th {\n",
       "        text-align: right;\n",
       "    }\n",
       "</style>\n",
       "<table border=\"1\" class=\"dataframe\">\n",
       "  <thead>\n",
       "    <tr style=\"text-align: right;\">\n",
       "      <th></th>\n",
       "      <th>Rating</th>\n",
       "      <th>Review_Title</th>\n",
       "      <th>Review</th>\n",
       "    </tr>\n",
       "  </thead>\n",
       "  <tbody>\n",
       "    <tr>\n",
       "      <th>1072</th>\n",
       "      <td>1</td>\n",
       "      <td>Wouldn't stay up</td>\n",
       "      <td>The band was far too thin and would roll down ...</td>\n",
       "    </tr>\n",
       "    <tr>\n",
       "      <th>7002</th>\n",
       "      <td>2</td>\n",
       "      <td>lesson in the depravity of man</td>\n",
       "      <td>As I opened this book, I thought to myself \"Wo...</td>\n",
       "    </tr>\n",
       "    <tr>\n",
       "      <th>12273</th>\n",
       "      <td>3</td>\n",
       "      <td>Shows Its Age</td>\n",
       "      <td>Unfortunately, \"20,000 Leagues Under the Sea\" ...</td>\n",
       "    </tr>\n",
       "    <tr>\n",
       "      <th>15487</th>\n",
       "      <td>1</td>\n",
       "      <td>Dumb adaptation that does not try to be even r...</td>\n",
       "      <td>Lackluster adaptation of the vertigo comic boo...</td>\n",
       "    </tr>\n",
       "    <tr>\n",
       "      <th>15531</th>\n",
       "      <td>1</td>\n",
       "      <td>What a letdown.</td>\n",
       "      <td>Shameful attempt at a hybrid of horror, action...</td>\n",
       "    </tr>\n",
       "  </tbody>\n",
       "</table>\n",
       "</div>"
      ],
      "text/plain": [
       "       Rating                                       Review_Title  \\\n",
       "1072        1                                   Wouldn't stay up   \n",
       "7002        2                     lesson in the depravity of man   \n",
       "12273       3                                      Shows Its Age   \n",
       "15487       1  Dumb adaptation that does not try to be even r...   \n",
       "15531       1                                    What a letdown.   \n",
       "\n",
       "                                                  Review  \n",
       "1072   The band was far too thin and would roll down ...  \n",
       "7002   As I opened this book, I thought to myself \"Wo...  \n",
       "12273  Unfortunately, \"20,000 Leagues Under the Sea\" ...  \n",
       "15487  Lackluster adaptation of the vertigo comic boo...  \n",
       "15531  Shameful attempt at a hybrid of horror, action...  "
      ]
     },
     "execution_count": 19,
     "metadata": {},
     "output_type": "execute_result"
    }
   ],
   "source": [
    "dup2.head()"
   ]
  },
  {
   "cell_type": "code",
   "execution_count": 20,
   "id": "84271a12-686a-4904-b6ce-4d9ec1180375",
   "metadata": {},
   "outputs": [],
   "source": [
    "# doubt - are these duplicates ?"
   ]
  },
  {
   "cell_type": "markdown",
   "id": "6fdfb24f-83df-4558-8a81-129ab4c96976",
   "metadata": {},
   "source": [
    "# NLP - WRANGLING"
   ]
  },
  {
   "cell_type": "code",
   "execution_count": 21,
   "id": "e1e55c89-ae9f-4a48-ac09-a14799c3bf3d",
   "metadata": {},
   "outputs": [],
   "source": [
    "# 1.Convert String to lowercase\n",
    "df['Review_Title'] = df['Review_Title'].str.lower()\n",
    "df['Review'] = df['Review'].str.lower()"
   ]
  },
  {
   "cell_type": "code",
   "execution_count": 22,
   "id": "4e3c304c-c931-4c97-a00e-24208eea9cf1",
   "metadata": {},
   "outputs": [
    {
     "data": {
      "text/html": [
       "<div>\n",
       "<style scoped>\n",
       "    .dataframe tbody tr th:only-of-type {\n",
       "        vertical-align: middle;\n",
       "    }\n",
       "\n",
       "    .dataframe tbody tr th {\n",
       "        vertical-align: top;\n",
       "    }\n",
       "\n",
       "    .dataframe thead th {\n",
       "        text-align: right;\n",
       "    }\n",
       "</style>\n",
       "<table border=\"1\" class=\"dataframe\">\n",
       "  <thead>\n",
       "    <tr style=\"text-align: right;\">\n",
       "      <th></th>\n",
       "      <th>Rating</th>\n",
       "      <th>Review_Title</th>\n",
       "      <th>Review</th>\n",
       "    </tr>\n",
       "  </thead>\n",
       "  <tbody>\n",
       "    <tr>\n",
       "      <th>0</th>\n",
       "      <td>3</td>\n",
       "      <td>more like funchuck</td>\n",
       "      <td>gave this to my dad for a gag gift after direc...</td>\n",
       "    </tr>\n",
       "    <tr>\n",
       "      <th>1</th>\n",
       "      <td>5</td>\n",
       "      <td>inspiring</td>\n",
       "      <td>i hope a lot of people hear this cd. we need m...</td>\n",
       "    </tr>\n",
       "    <tr>\n",
       "      <th>2</th>\n",
       "      <td>5</td>\n",
       "      <td>the best soundtrack ever to anything.</td>\n",
       "      <td>i'm reading a lot of reviews saying that this ...</td>\n",
       "    </tr>\n",
       "    <tr>\n",
       "      <th>3</th>\n",
       "      <td>4</td>\n",
       "      <td>chrono cross ost</td>\n",
       "      <td>the music of yasunori misuda is without questi...</td>\n",
       "    </tr>\n",
       "    <tr>\n",
       "      <th>4</th>\n",
       "      <td>5</td>\n",
       "      <td>too good to be true</td>\n",
       "      <td>probably the greatest soundtrack in history! u...</td>\n",
       "    </tr>\n",
       "  </tbody>\n",
       "</table>\n",
       "</div>"
      ],
      "text/plain": [
       "   Rating                           Review_Title  \\\n",
       "0       3                     more like funchuck   \n",
       "1       5                              inspiring   \n",
       "2       5  the best soundtrack ever to anything.   \n",
       "3       4                       chrono cross ost   \n",
       "4       5                    too good to be true   \n",
       "\n",
       "                                              Review  \n",
       "0  gave this to my dad for a gag gift after direc...  \n",
       "1  i hope a lot of people hear this cd. we need m...  \n",
       "2  i'm reading a lot of reviews saying that this ...  \n",
       "3  the music of yasunori misuda is without questi...  \n",
       "4  probably the greatest soundtrack in history! u...  "
      ]
     },
     "execution_count": 22,
     "metadata": {},
     "output_type": "execute_result"
    }
   ],
   "source": [
    "df.head()"
   ]
  },
  {
   "cell_type": "code",
   "execution_count": 23,
   "id": "76108c98-cb8e-481f-83e2-afb4abfa350e",
   "metadata": {},
   "outputs": [],
   "source": [
    "df_1 = df.copy()"
   ]
  },
  {
   "cell_type": "code",
   "execution_count": 24,
   "id": "08098a23-9011-4a3f-941e-3f355347c464",
   "metadata": {},
   "outputs": [],
   "source": [
    "# 2. Remove punctuation\n",
    "def removeall_exceptStringSpace(text):\n",
    "    eos_text = re.sub(r'[^\\w\\s\\.]', '', text)\n",
    "    eos_text =re.sub(r'\\.','<eos>',text)\n",
    "    return eos_text\n",
    "\n",
    "df_1['Review_Title'] = df_1['Review_Title'].apply(removeall_exceptStringSpace)\n",
    "df_1['Review'] = df_1['Review'].apply(removeall_exceptStringSpace)"
   ]
  },
  {
   "cell_type": "code",
   "execution_count": 25,
   "id": "fc1bb706-9589-415b-bece-13111dda4132",
   "metadata": {},
   "outputs": [
    {
     "data": {
      "text/html": [
       "<div>\n",
       "<style scoped>\n",
       "    .dataframe tbody tr th:only-of-type {\n",
       "        vertical-align: middle;\n",
       "    }\n",
       "\n",
       "    .dataframe tbody tr th {\n",
       "        vertical-align: top;\n",
       "    }\n",
       "\n",
       "    .dataframe thead th {\n",
       "        text-align: right;\n",
       "    }\n",
       "</style>\n",
       "<table border=\"1\" class=\"dataframe\">\n",
       "  <thead>\n",
       "    <tr style=\"text-align: right;\">\n",
       "      <th></th>\n",
       "      <th>Rating</th>\n",
       "      <th>Review_Title</th>\n",
       "      <th>Review</th>\n",
       "    </tr>\n",
       "  </thead>\n",
       "  <tbody>\n",
       "    <tr>\n",
       "      <th>0</th>\n",
       "      <td>3</td>\n",
       "      <td>more like funchuck</td>\n",
       "      <td>gave this to my dad for a gag gift after direc...</td>\n",
       "    </tr>\n",
       "    <tr>\n",
       "      <th>1</th>\n",
       "      <td>5</td>\n",
       "      <td>inspiring</td>\n",
       "      <td>i hope a lot of people hear this cd&lt;eos&gt; we ne...</td>\n",
       "    </tr>\n",
       "    <tr>\n",
       "      <th>2</th>\n",
       "      <td>5</td>\n",
       "      <td>the best soundtrack ever to anything&lt;eos&gt;</td>\n",
       "      <td>i'm reading a lot of reviews saying that this ...</td>\n",
       "    </tr>\n",
       "    <tr>\n",
       "      <th>3</th>\n",
       "      <td>4</td>\n",
       "      <td>chrono cross ost</td>\n",
       "      <td>the music of yasunori misuda is without questi...</td>\n",
       "    </tr>\n",
       "    <tr>\n",
       "      <th>4</th>\n",
       "      <td>5</td>\n",
       "      <td>too good to be true</td>\n",
       "      <td>probably the greatest soundtrack in history! u...</td>\n",
       "    </tr>\n",
       "  </tbody>\n",
       "</table>\n",
       "</div>"
      ],
      "text/plain": [
       "   Rating                               Review_Title  \\\n",
       "0       3                         more like funchuck   \n",
       "1       5                                  inspiring   \n",
       "2       5  the best soundtrack ever to anything<eos>   \n",
       "3       4                           chrono cross ost   \n",
       "4       5                        too good to be true   \n",
       "\n",
       "                                              Review  \n",
       "0  gave this to my dad for a gag gift after direc...  \n",
       "1  i hope a lot of people hear this cd<eos> we ne...  \n",
       "2  i'm reading a lot of reviews saying that this ...  \n",
       "3  the music of yasunori misuda is without questi...  \n",
       "4  probably the greatest soundtrack in history! u...  "
      ]
     },
     "execution_count": 25,
     "metadata": {},
     "output_type": "execute_result"
    }
   ],
   "source": [
    "df_1.head()"
   ]
  },
  {
   "cell_type": "code",
   "execution_count": 29,
   "id": "e3ed1f59-02c9-4b2b-8185-e70f06549ae6",
   "metadata": {},
   "outputs": [],
   "source": [
    "# Tokenize text columns\n",
    "df_1['Review_Title_Tokens'] = df_1['Review_Title'].apply(word_tokenize)\n",
    "df_1['Review_Tokens'] = df_1['Review'].apply(word_tokenize)"
   ]
  },
  {
   "cell_type": "code",
   "execution_count": 30,
   "id": "f2aafda5-70a1-4c78-9588-fe4e0490a652",
   "metadata": {},
   "outputs": [
    {
     "data": {
      "text/html": [
       "<div>\n",
       "<style scoped>\n",
       "    .dataframe tbody tr th:only-of-type {\n",
       "        vertical-align: middle;\n",
       "    }\n",
       "\n",
       "    .dataframe tbody tr th {\n",
       "        vertical-align: top;\n",
       "    }\n",
       "\n",
       "    .dataframe thead th {\n",
       "        text-align: right;\n",
       "    }\n",
       "</style>\n",
       "<table border=\"1\" class=\"dataframe\">\n",
       "  <thead>\n",
       "    <tr style=\"text-align: right;\">\n",
       "      <th></th>\n",
       "      <th>Rating</th>\n",
       "      <th>Review_Title</th>\n",
       "      <th>Review</th>\n",
       "      <th>Review_Title_Tokens</th>\n",
       "      <th>Review_Tokens</th>\n",
       "    </tr>\n",
       "  </thead>\n",
       "  <tbody>\n",
       "    <tr>\n",
       "      <th>0</th>\n",
       "      <td>3</td>\n",
       "      <td>more like funchuck</td>\n",
       "      <td>gave this to my dad for a gag gift after direc...</td>\n",
       "      <td>[more, like, funchuck]</td>\n",
       "      <td>[gave, this, to, my, dad, for, a, gag, gift, a...</td>\n",
       "    </tr>\n",
       "    <tr>\n",
       "      <th>1</th>\n",
       "      <td>5</td>\n",
       "      <td>inspiring</td>\n",
       "      <td>i hope a lot of people hear this cd&lt;eos&gt; we ne...</td>\n",
       "      <td>[inspiring]</td>\n",
       "      <td>[i, hope, a, lot, of, people, hear, this, cd, ...</td>\n",
       "    </tr>\n",
       "    <tr>\n",
       "      <th>2</th>\n",
       "      <td>5</td>\n",
       "      <td>the best soundtrack ever to anything&lt;eos&gt;</td>\n",
       "      <td>i'm reading a lot of reviews saying that this ...</td>\n",
       "      <td>[the, best, soundtrack, ever, to, anything, &lt;,...</td>\n",
       "      <td>[i, 'm, reading, a, lot, of, reviews, saying, ...</td>\n",
       "    </tr>\n",
       "    <tr>\n",
       "      <th>3</th>\n",
       "      <td>4</td>\n",
       "      <td>chrono cross ost</td>\n",
       "      <td>the music of yasunori misuda is without questi...</td>\n",
       "      <td>[chrono, cross, ost]</td>\n",
       "      <td>[the, music, of, yasunori, misuda, is, without...</td>\n",
       "    </tr>\n",
       "    <tr>\n",
       "      <th>4</th>\n",
       "      <td>5</td>\n",
       "      <td>too good to be true</td>\n",
       "      <td>probably the greatest soundtrack in history! u...</td>\n",
       "      <td>[too, good, to, be, true]</td>\n",
       "      <td>[probably, the, greatest, soundtrack, in, hist...</td>\n",
       "    </tr>\n",
       "  </tbody>\n",
       "</table>\n",
       "</div>"
      ],
      "text/plain": [
       "   Rating                               Review_Title  \\\n",
       "0       3                         more like funchuck   \n",
       "1       5                                  inspiring   \n",
       "2       5  the best soundtrack ever to anything<eos>   \n",
       "3       4                           chrono cross ost   \n",
       "4       5                        too good to be true   \n",
       "\n",
       "                                              Review  \\\n",
       "0  gave this to my dad for a gag gift after direc...   \n",
       "1  i hope a lot of people hear this cd<eos> we ne...   \n",
       "2  i'm reading a lot of reviews saying that this ...   \n",
       "3  the music of yasunori misuda is without questi...   \n",
       "4  probably the greatest soundtrack in history! u...   \n",
       "\n",
       "                                 Review_Title_Tokens  \\\n",
       "0                             [more, like, funchuck]   \n",
       "1                                        [inspiring]   \n",
       "2  [the, best, soundtrack, ever, to, anything, <,...   \n",
       "3                               [chrono, cross, ost]   \n",
       "4                          [too, good, to, be, true]   \n",
       "\n",
       "                                       Review_Tokens  \n",
       "0  [gave, this, to, my, dad, for, a, gag, gift, a...  \n",
       "1  [i, hope, a, lot, of, people, hear, this, cd, ...  \n",
       "2  [i, 'm, reading, a, lot, of, reviews, saying, ...  \n",
       "3  [the, music, of, yasunori, misuda, is, without...  \n",
       "4  [probably, the, greatest, soundtrack, in, hist...  "
      ]
     },
     "execution_count": 30,
     "metadata": {},
     "output_type": "execute_result"
    }
   ],
   "source": [
    "df_1.head()"
   ]
  },
  {
   "cell_type": "code",
   "execution_count": 32,
   "id": "f44f6674-504c-4146-b7d5-e7d897c8ee47",
   "metadata": {},
   "outputs": [],
   "source": [
    "# Check for Text length\n",
    "\n",
    "df_1['Review_Length'] = df_1['Review_Tokens'].apply(len)"
   ]
  },
  {
   "cell_type": "code",
   "execution_count": 34,
   "id": "2a9268a6-24a1-4b97-be95-698a10d9d01a",
   "metadata": {},
   "outputs": [],
   "source": [
    "df_1['Review_Title_Length'] = df_1['Review_Title_Tokens'].apply(len)"
   ]
  },
  {
   "cell_type": "code",
   "execution_count": 35,
   "id": "1a74e0d3-43f6-43ac-9d79-9773f6ed10c2",
   "metadata": {},
   "outputs": [
    {
     "data": {
      "text/html": [
       "<div>\n",
       "<style scoped>\n",
       "    .dataframe tbody tr th:only-of-type {\n",
       "        vertical-align: middle;\n",
       "    }\n",
       "\n",
       "    .dataframe tbody tr th {\n",
       "        vertical-align: top;\n",
       "    }\n",
       "\n",
       "    .dataframe thead th {\n",
       "        text-align: right;\n",
       "    }\n",
       "</style>\n",
       "<table border=\"1\" class=\"dataframe\">\n",
       "  <thead>\n",
       "    <tr style=\"text-align: right;\">\n",
       "      <th></th>\n",
       "      <th>Rating</th>\n",
       "      <th>Review_Title</th>\n",
       "      <th>Review</th>\n",
       "      <th>Review_Title_Tokens</th>\n",
       "      <th>Review_Tokens</th>\n",
       "      <th>Review_Title_Length</th>\n",
       "      <th>Review_Length</th>\n",
       "    </tr>\n",
       "  </thead>\n",
       "  <tbody>\n",
       "    <tr>\n",
       "      <th>0</th>\n",
       "      <td>3</td>\n",
       "      <td>more like funchuck</td>\n",
       "      <td>gave this to my dad for a gag gift after direc...</td>\n",
       "      <td>[more, like, funchuck]</td>\n",
       "      <td>[gave, this, to, my, dad, for, a, gag, gift, a...</td>\n",
       "      <td>3</td>\n",
       "      <td>24</td>\n",
       "    </tr>\n",
       "    <tr>\n",
       "      <th>1</th>\n",
       "      <td>5</td>\n",
       "      <td>inspiring</td>\n",
       "      <td>i hope a lot of people hear this cd&lt;eos&gt; we ne...</td>\n",
       "      <td>[inspiring]</td>\n",
       "      <td>[i, hope, a, lot, of, people, hear, this, cd, ...</td>\n",
       "      <td>1</td>\n",
       "      <td>54</td>\n",
       "    </tr>\n",
       "    <tr>\n",
       "      <th>2</th>\n",
       "      <td>5</td>\n",
       "      <td>the best soundtrack ever to anything&lt;eos&gt;</td>\n",
       "      <td>i'm reading a lot of reviews saying that this ...</td>\n",
       "      <td>[the, best, soundtrack, ever, to, anything, &lt;,...</td>\n",
       "      <td>[i, 'm, reading, a, lot, of, reviews, saying, ...</td>\n",
       "      <td>9</td>\n",
       "      <td>111</td>\n",
       "    </tr>\n",
       "    <tr>\n",
       "      <th>3</th>\n",
       "      <td>4</td>\n",
       "      <td>chrono cross ost</td>\n",
       "      <td>the music of yasunori misuda is without questi...</td>\n",
       "      <td>[chrono, cross, ost]</td>\n",
       "      <td>[the, music, of, yasunori, misuda, is, without...</td>\n",
       "      <td>3</td>\n",
       "      <td>86</td>\n",
       "    </tr>\n",
       "    <tr>\n",
       "      <th>4</th>\n",
       "      <td>5</td>\n",
       "      <td>too good to be true</td>\n",
       "      <td>probably the greatest soundtrack in history! u...</td>\n",
       "      <td>[too, good, to, be, true]</td>\n",
       "      <td>[probably, the, greatest, soundtrack, in, hist...</td>\n",
       "      <td>5</td>\n",
       "      <td>81</td>\n",
       "    </tr>\n",
       "  </tbody>\n",
       "</table>\n",
       "</div>"
      ],
      "text/plain": [
       "   Rating                               Review_Title  \\\n",
       "0       3                         more like funchuck   \n",
       "1       5                                  inspiring   \n",
       "2       5  the best soundtrack ever to anything<eos>   \n",
       "3       4                           chrono cross ost   \n",
       "4       5                        too good to be true   \n",
       "\n",
       "                                              Review  \\\n",
       "0  gave this to my dad for a gag gift after direc...   \n",
       "1  i hope a lot of people hear this cd<eos> we ne...   \n",
       "2  i'm reading a lot of reviews saying that this ...   \n",
       "3  the music of yasunori misuda is without questi...   \n",
       "4  probably the greatest soundtrack in history! u...   \n",
       "\n",
       "                                 Review_Title_Tokens  \\\n",
       "0                             [more, like, funchuck]   \n",
       "1                                        [inspiring]   \n",
       "2  [the, best, soundtrack, ever, to, anything, <,...   \n",
       "3                               [chrono, cross, ost]   \n",
       "4                          [too, good, to, be, true]   \n",
       "\n",
       "                                       Review_Tokens  Review_Title_Length  \\\n",
       "0  [gave, this, to, my, dad, for, a, gag, gift, a...                    3   \n",
       "1  [i, hope, a, lot, of, people, hear, this, cd, ...                    1   \n",
       "2  [i, 'm, reading, a, lot, of, reviews, saying, ...                    9   \n",
       "3  [the, music, of, yasunori, misuda, is, without...                    3   \n",
       "4  [probably, the, greatest, soundtrack, in, hist...                    5   \n",
       "\n",
       "   Review_Length  \n",
       "0             24  \n",
       "1             54  \n",
       "2            111  \n",
       "3             86  \n",
       "4             81  "
      ]
     },
     "execution_count": 35,
     "metadata": {},
     "output_type": "execute_result"
    }
   ],
   "source": [
    "df_1.head()"
   ]
  },
  {
   "cell_type": "code",
   "execution_count": 45,
   "id": "ba2109df-417c-4cc9-9140-f0e1d66ff1ff",
   "metadata": {},
   "outputs": [],
   "source": [
    "df_1['Review_Title_Tokens_stop_words_removed'] = df_1['Review_Title_Tokens'].apply(lambda x: [word for word in x if word not in stop_words])\n",
    "df_1['Review_Tokens_stop_words_removed'] = df_1['Review_Tokens'].apply(lambda x: [word for word in x if word not in stop_words])"
   ]
  },
  {
   "cell_type": "code",
   "execution_count": 46,
   "id": "43a7f33c-64bf-40b6-a63c-6e63c149b2c3",
   "metadata": {},
   "outputs": [
    {
     "data": {
      "text/html": [
       "<div>\n",
       "<style scoped>\n",
       "    .dataframe tbody tr th:only-of-type {\n",
       "        vertical-align: middle;\n",
       "    }\n",
       "\n",
       "    .dataframe tbody tr th {\n",
       "        vertical-align: top;\n",
       "    }\n",
       "\n",
       "    .dataframe thead th {\n",
       "        text-align: right;\n",
       "    }\n",
       "</style>\n",
       "<table border=\"1\" class=\"dataframe\">\n",
       "  <thead>\n",
       "    <tr style=\"text-align: right;\">\n",
       "      <th></th>\n",
       "      <th>Rating</th>\n",
       "      <th>Review_Title</th>\n",
       "      <th>Review</th>\n",
       "      <th>Review_Title_Tokens</th>\n",
       "      <th>Review_Tokens</th>\n",
       "      <th>Review_Title_Length</th>\n",
       "      <th>Review_Length</th>\n",
       "      <th>Review_Title_Tokens_stop_words_removed</th>\n",
       "      <th>Review_Tokens_stop_words_removed</th>\n",
       "    </tr>\n",
       "  </thead>\n",
       "  <tbody>\n",
       "    <tr>\n",
       "      <th>0</th>\n",
       "      <td>3</td>\n",
       "      <td>more like funchuck</td>\n",
       "      <td>gave this to my dad for a gag gift after direc...</td>\n",
       "      <td>[more, like, funchuck]</td>\n",
       "      <td>[gave, this, to, my, dad, for, a, gag, gift, a...</td>\n",
       "      <td>3</td>\n",
       "      <td>24</td>\n",
       "      <td>[like, funchuck]</td>\n",
       "      <td>[gave, dad, gag, gift, directing, ``, nunsense...</td>\n",
       "    </tr>\n",
       "    <tr>\n",
       "      <th>1</th>\n",
       "      <td>5</td>\n",
       "      <td>inspiring</td>\n",
       "      <td>i hope a lot of people hear this cd&lt;eos&gt; we ne...</td>\n",
       "      <td>[inspiring]</td>\n",
       "      <td>[i, hope, a, lot, of, people, hear, this, cd, ...</td>\n",
       "      <td>1</td>\n",
       "      <td>54</td>\n",
       "      <td>[inspiring]</td>\n",
       "      <td>[hope, lot, people, hear, cd, &lt;, eos, &gt;, need,...</td>\n",
       "    </tr>\n",
       "    <tr>\n",
       "      <th>2</th>\n",
       "      <td>5</td>\n",
       "      <td>the best soundtrack ever to anything&lt;eos&gt;</td>\n",
       "      <td>i'm reading a lot of reviews saying that this ...</td>\n",
       "      <td>[the, best, soundtrack, ever, to, anything, &lt;,...</td>\n",
       "      <td>[i, 'm, reading, a, lot, of, reviews, saying, ...</td>\n",
       "      <td>9</td>\n",
       "      <td>111</td>\n",
       "      <td>[best, soundtrack, ever, anything, &lt;, eos, &gt;]</td>\n",
       "      <td>['m, reading, lot, reviews, saying, best, 'gam...</td>\n",
       "    </tr>\n",
       "    <tr>\n",
       "      <th>3</th>\n",
       "      <td>4</td>\n",
       "      <td>chrono cross ost</td>\n",
       "      <td>the music of yasunori misuda is without questi...</td>\n",
       "      <td>[chrono, cross, ost]</td>\n",
       "      <td>[the, music, of, yasunori, misuda, is, without...</td>\n",
       "      <td>3</td>\n",
       "      <td>86</td>\n",
       "      <td>[chrono, cross, ost]</td>\n",
       "      <td>[music, yasunori, misuda, without, question, c...</td>\n",
       "    </tr>\n",
       "    <tr>\n",
       "      <th>4</th>\n",
       "      <td>5</td>\n",
       "      <td>too good to be true</td>\n",
       "      <td>probably the greatest soundtrack in history! u...</td>\n",
       "      <td>[too, good, to, be, true]</td>\n",
       "      <td>[probably, the, greatest, soundtrack, in, hist...</td>\n",
       "      <td>5</td>\n",
       "      <td>81</td>\n",
       "      <td>[good, true]</td>\n",
       "      <td>[probably, greatest, soundtrack, history, !, u...</td>\n",
       "    </tr>\n",
       "  </tbody>\n",
       "</table>\n",
       "</div>"
      ],
      "text/plain": [
       "   Rating                               Review_Title  \\\n",
       "0       3                         more like funchuck   \n",
       "1       5                                  inspiring   \n",
       "2       5  the best soundtrack ever to anything<eos>   \n",
       "3       4                           chrono cross ost   \n",
       "4       5                        too good to be true   \n",
       "\n",
       "                                              Review  \\\n",
       "0  gave this to my dad for a gag gift after direc...   \n",
       "1  i hope a lot of people hear this cd<eos> we ne...   \n",
       "2  i'm reading a lot of reviews saying that this ...   \n",
       "3  the music of yasunori misuda is without questi...   \n",
       "4  probably the greatest soundtrack in history! u...   \n",
       "\n",
       "                                 Review_Title_Tokens  \\\n",
       "0                             [more, like, funchuck]   \n",
       "1                                        [inspiring]   \n",
       "2  [the, best, soundtrack, ever, to, anything, <,...   \n",
       "3                               [chrono, cross, ost]   \n",
       "4                          [too, good, to, be, true]   \n",
       "\n",
       "                                       Review_Tokens  Review_Title_Length  \\\n",
       "0  [gave, this, to, my, dad, for, a, gag, gift, a...                    3   \n",
       "1  [i, hope, a, lot, of, people, hear, this, cd, ...                    1   \n",
       "2  [i, 'm, reading, a, lot, of, reviews, saying, ...                    9   \n",
       "3  [the, music, of, yasunori, misuda, is, without...                    3   \n",
       "4  [probably, the, greatest, soundtrack, in, hist...                    5   \n",
       "\n",
       "   Review_Length         Review_Title_Tokens_stop_words_removed  \\\n",
       "0             24                               [like, funchuck]   \n",
       "1             54                                    [inspiring]   \n",
       "2            111  [best, soundtrack, ever, anything, <, eos, >]   \n",
       "3             86                           [chrono, cross, ost]   \n",
       "4             81                                   [good, true]   \n",
       "\n",
       "                    Review_Tokens_stop_words_removed  \n",
       "0  [gave, dad, gag, gift, directing, ``, nunsense...  \n",
       "1  [hope, lot, people, hear, cd, <, eos, >, need,...  \n",
       "2  ['m, reading, lot, reviews, saying, best, 'gam...  \n",
       "3  [music, yasunori, misuda, without, question, c...  \n",
       "4  [probably, greatest, soundtrack, history, !, u...  "
      ]
     },
     "execution_count": 46,
     "metadata": {},
     "output_type": "execute_result"
    }
   ],
   "source": [
    "df_1.head()"
   ]
  },
  {
   "cell_type": "code",
   "execution_count": 47,
   "id": "ee19b0de-d684-435b-a83c-643bf77760ca",
   "metadata": {},
   "outputs": [],
   "source": [
    "df_1.to_csv('data_wrangled_reviews_amazon.csv', index=False)"
   ]
  }
 ],
 "metadata": {
  "kernelspec": {
   "display_name": "Python 3 (ipykernel)",
   "language": "python",
   "name": "python3"
  },
  "language_info": {
   "codemirror_mode": {
    "name": "ipython",
    "version": 3
   },
   "file_extension": ".py",
   "mimetype": "text/x-python",
   "name": "python",
   "nbconvert_exporter": "python",
   "pygments_lexer": "ipython3",
   "version": "3.12.7"
  }
 },
 "nbformat": 4,
 "nbformat_minor": 5
}
